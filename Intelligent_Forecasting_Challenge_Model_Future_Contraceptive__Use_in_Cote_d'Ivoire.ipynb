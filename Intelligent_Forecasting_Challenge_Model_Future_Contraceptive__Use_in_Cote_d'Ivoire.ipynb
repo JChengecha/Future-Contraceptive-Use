{
  "nbformat": 4,
  "nbformat_minor": 0,
  "metadata": {
    "colab": {
      "name": "Intelligent_Forecasting_Challenge: Model_Future_Contraceptive _Use_in_Cote_d'Ivoire",
      "provenance": [],
      "toc_visible": true,
      "include_colab_link": true
    },
    "kernelspec": {
      "name": "python3",
      "display_name": "Python 3"
    },
    "language_info": {
      "name": "python"
    }
  },
  "cells": [
    {
      "cell_type": "markdown",
      "metadata": {
        "id": "view-in-github",
        "colab_type": "text"
      },
      "source": [
        "<a href=\"https://colab.research.google.com/github/Viviankatheu/Future-Contraceptive-Use/blob/main/Intelligent_Forecasting_Challenge_Model_Future_Contraceptive__Use_in_Cote_d'Ivoire.ipynb\" target=\"_parent\"><img src=\"https://colab.research.google.com/assets/colab-badge.svg\" alt=\"Open In Colab\"/></a>"
      ]
    },
    {
      "cell_type": "markdown",
      "metadata": {
        "id": "ZEUId8p7D19B"
      },
      "source": [
        "# Intelligent Forecasting Challenge"
      ]
    },
    {
      "cell_type": "markdown",
      "metadata": {
        "id": "QEjYGe6WC6wQ"
      },
      "source": [
        "## Defining The Question"
      ]
    },
    {
      "cell_type": "markdown",
      "metadata": {
        "id": "DWCLf3eTDN0G"
      },
      "source": [
        "### Specifying The Question"
      ]
    },
    {
      "cell_type": "markdown",
      "metadata": {
        "id": "ACAnI7DyDT8B"
      },
      "source": [
        "### Defining The Metric for Success"
      ]
    },
    {
      "cell_type": "markdown",
      "metadata": {
        "id": "Z3GU7q62DYkm"
      },
      "source": [
        "### Understanding The Context"
      ]
    },
    {
      "cell_type": "markdown",
      "metadata": {
        "id": "4FG-BEBwDnTl"
      },
      "source": [
        "### Recording The Experimental Design"
      ]
    },
    {
      "cell_type": "markdown",
      "metadata": {
        "id": "Oe-krsejELof"
      },
      "source": [
        "### Data Relevance"
      ]
    },
    {
      "cell_type": "markdown",
      "metadata": {
        "id": "b4yIIddnEQmQ"
      },
      "source": [
        "## Reading The Data"
      ]
    },
    {
      "cell_type": "markdown",
      "metadata": {
        "id": "0Ye2-dYYEYxB"
      },
      "source": [
        "## Checking The Data"
      ]
    },
    {
      "cell_type": "markdown",
      "metadata": {
        "id": "TuMZfsI0Ec1O"
      },
      "source": [
        "## External Datasource Validation"
      ]
    },
    {
      "cell_type": "markdown",
      "metadata": {
        "id": "ymclzsStEjtG"
      },
      "source": [
        "## Tidying the datasets"
      ]
    },
    {
      "cell_type": "markdown",
      "metadata": {
        "id": "9R3Rb9ChImVr"
      },
      "source": [
        "## **Reading The Data**"
      ]
    },
    {
      "cell_type": "code",
      "metadata": {
        "id": "Glzco3RlX-Rj"
      },
      "source": [
        "#Importing required libraries\n",
        "import pandas as pd\n",
        "import numpy as np\n",
        "import matplotlib.pyplot as plt\n",
        "import seaborn as sns\n",
        "\n",
        "#Ignore warnings\n",
        "import warnings\n",
        "warnings.filterwarnings(\"ignore\")"
      ],
      "execution_count": 1,
      "outputs": []
    },
    {
      "cell_type": "code",
      "metadata": {
        "id": "k3xl55f_YT2k"
      },
      "source": [
        "# READING OUR ANNUAL DATASET\n",
        "annual = pd.read_csv('contraceptive_case_data_annual.csv')\n",
        "\n",
        "# Reading our monthly\n",
        "monthly = pd.read_csv('monthly_cases.csv')\n",
        "\n",
        "# Reading service delivery site data\n",
        "site = pd.read_csv('service_delivery_site_data.csv')\n",
        "\n",
        "# Reading our Train dataset\n",
        "df = pd.read_csv('Train.csv')\n",
        "\n",
        "# Reading the product dataset\n",
        "prod = pd.read_csv('product.csv')"
      ],
      "execution_count": 2,
      "outputs": []
    },
    {
      "cell_type": "code",
      "metadata": {
        "colab": {
          "base_uri": "https://localhost:8080/",
          "height": 226
        },
        "id": "npQxJpXHnbdn",
        "outputId": "f4f04cb0-9d30-4cb4-a821-df636a39ed81"
      },
      "source": [
        "# Previewing our Annual dataset\n",
        "annual.head(5)"
      ],
      "execution_count": 3,
      "outputs": [
        {
          "output_type": "execute_result",
          "data": {
            "text/html": [
              "<div>\n",
              "<style scoped>\n",
              "    .dataframe tbody tr th:only-of-type {\n",
              "        vertical-align: middle;\n",
              "    }\n",
              "\n",
              "    .dataframe tbody tr th {\n",
              "        vertical-align: top;\n",
              "    }\n",
              "\n",
              "    .dataframe thead th {\n",
              "        text-align: right;\n",
              "    }\n",
              "</style>\n",
              "<table border=\"1\" class=\"dataframe\">\n",
              "  <thead>\n",
              "    <tr style=\"text-align: right;\">\n",
              "      <th></th>\n",
              "      <th>district</th>\n",
              "      <th>year</th>\n",
              "      <th>implant_women_old</th>\n",
              "      <th>implant_women_new</th>\n",
              "      <th>injection2_women_old</th>\n",
              "      <th>injection2_women_new</th>\n",
              "      <th>injection3_women_old</th>\n",
              "      <th>injection3_women_new</th>\n",
              "      <th>pill_women_old</th>\n",
              "      <th>pill_women_new</th>\n",
              "      <th>iud_women_old</th>\n",
              "      <th>iud_women_new</th>\n",
              "      <th>iud_number_dispensed</th>\n",
              "      <th>implant_number_dispensed</th>\n",
              "      <th>injection2_number_dispensed</th>\n",
              "      <th>injection3_number_dispensed</th>\n",
              "      <th>pill_number_dispensed</th>\n",
              "      <th>iud_number_received</th>\n",
              "      <th>implant_number_received</th>\n",
              "      <th>injection2_number_received</th>\n",
              "      <th>injection3_number_received</th>\n",
              "      <th>pill_number_received</th>\n",
              "      <th>iud_stock_end</th>\n",
              "      <th>implant_stock_end</th>\n",
              "      <th>injection2_stock_end</th>\n",
              "      <th>injection3_stock_end</th>\n",
              "      <th>pill_stock_end</th>\n",
              "    </tr>\n",
              "  </thead>\n",
              "  <tbody>\n",
              "    <tr>\n",
              "      <th>0</th>\n",
              "      <td>ABENGOUROU</td>\n",
              "      <td>2018</td>\n",
              "      <td>3298.0</td>\n",
              "      <td>965.0</td>\n",
              "      <td>2997.0</td>\n",
              "      <td>749.0</td>\n",
              "      <td>10892</td>\n",
              "      <td>2609</td>\n",
              "      <td>1867.0</td>\n",
              "      <td>425.0</td>\n",
              "      <td>117.0</td>\n",
              "      <td>15.0</td>\n",
              "      <td>26.0</td>\n",
              "      <td>823.0</td>\n",
              "      <td>3681.0</td>\n",
              "      <td>7082.0</td>\n",
              "      <td>6893.0</td>\n",
              "      <td>673.0</td>\n",
              "      <td>2435.0</td>\n",
              "      <td>8799.0</td>\n",
              "      <td>12890.0</td>\n",
              "      <td>35961.0</td>\n",
              "      <td>NaN</td>\n",
              "      <td>3167.0</td>\n",
              "      <td>NaN</td>\n",
              "      <td>16041.0</td>\n",
              "      <td>48097.0</td>\n",
              "    </tr>\n",
              "    <tr>\n",
              "      <th>1</th>\n",
              "      <td>ABENGOUROU</td>\n",
              "      <td>2017</td>\n",
              "      <td>2597.0</td>\n",
              "      <td>698.0</td>\n",
              "      <td>2125.0</td>\n",
              "      <td>588.0</td>\n",
              "      <td>9939</td>\n",
              "      <td>2480</td>\n",
              "      <td>1835.0</td>\n",
              "      <td>400.0</td>\n",
              "      <td>34.0</td>\n",
              "      <td>22.0</td>\n",
              "      <td>15.0</td>\n",
              "      <td>483.0</td>\n",
              "      <td>2894.0</td>\n",
              "      <td>6460.0</td>\n",
              "      <td>6339.0</td>\n",
              "      <td>544.0</td>\n",
              "      <td>1760.0</td>\n",
              "      <td>9920.0</td>\n",
              "      <td>12727.0</td>\n",
              "      <td>31260.0</td>\n",
              "      <td>NaN</td>\n",
              "      <td>2617.0</td>\n",
              "      <td>NaN</td>\n",
              "      <td>16403.0</td>\n",
              "      <td>41079.0</td>\n",
              "    </tr>\n",
              "    <tr>\n",
              "      <th>2</th>\n",
              "      <td>ABENGOUROU</td>\n",
              "      <td>2016</td>\n",
              "      <td>865.0</td>\n",
              "      <td>408.0</td>\n",
              "      <td>2616.0</td>\n",
              "      <td>786.0</td>\n",
              "      <td>8407</td>\n",
              "      <td>2440</td>\n",
              "      <td>2675.0</td>\n",
              "      <td>439.0</td>\n",
              "      <td>20.0</td>\n",
              "      <td>24.0</td>\n",
              "      <td>19.0</td>\n",
              "      <td>438.0</td>\n",
              "      <td>3167.0</td>\n",
              "      <td>5394.0</td>\n",
              "      <td>5982.0</td>\n",
              "      <td>436.0</td>\n",
              "      <td>1503.0</td>\n",
              "      <td>11407.0</td>\n",
              "      <td>12666.0</td>\n",
              "      <td>28256.0</td>\n",
              "      <td>NaN</td>\n",
              "      <td>1671.0</td>\n",
              "      <td>NaN</td>\n",
              "      <td>8561.0</td>\n",
              "      <td>20878.0</td>\n",
              "    </tr>\n",
              "    <tr>\n",
              "      <th>3</th>\n",
              "      <td>ABOBO EST</td>\n",
              "      <td>2018</td>\n",
              "      <td>4041.0</td>\n",
              "      <td>2234.0</td>\n",
              "      <td>2200.0</td>\n",
              "      <td>583.0</td>\n",
              "      <td>13504</td>\n",
              "      <td>3940</td>\n",
              "      <td>2959.0</td>\n",
              "      <td>673.0</td>\n",
              "      <td>383.0</td>\n",
              "      <td>180.0</td>\n",
              "      <td>155.0</td>\n",
              "      <td>2372.0</td>\n",
              "      <td>878.0</td>\n",
              "      <td>9512.0</td>\n",
              "      <td>5234.0</td>\n",
              "      <td>1154.0</td>\n",
              "      <td>3309.0</td>\n",
              "      <td>2241.0</td>\n",
              "      <td>9914.0</td>\n",
              "      <td>7426.0</td>\n",
              "      <td>NaN</td>\n",
              "      <td>3092.0</td>\n",
              "      <td>NaN</td>\n",
              "      <td>9359.0</td>\n",
              "      <td>9046.0</td>\n",
              "    </tr>\n",
              "    <tr>\n",
              "      <th>4</th>\n",
              "      <td>ABOBO EST</td>\n",
              "      <td>2017</td>\n",
              "      <td>1954.0</td>\n",
              "      <td>2491.0</td>\n",
              "      <td>1768.0</td>\n",
              "      <td>214.0</td>\n",
              "      <td>10745</td>\n",
              "      <td>2389</td>\n",
              "      <td>3506.0</td>\n",
              "      <td>679.0</td>\n",
              "      <td>147.0</td>\n",
              "      <td>259.0</td>\n",
              "      <td>258.0</td>\n",
              "      <td>3066.0</td>\n",
              "      <td>1805.0</td>\n",
              "      <td>8939.0</td>\n",
              "      <td>6957.0</td>\n",
              "      <td>2780.0</td>\n",
              "      <td>4009.0</td>\n",
              "      <td>5846.0</td>\n",
              "      <td>11784.0</td>\n",
              "      <td>13191.0</td>\n",
              "      <td>NaN</td>\n",
              "      <td>2596.0</td>\n",
              "      <td>NaN</td>\n",
              "      <td>6359.0</td>\n",
              "      <td>11711.0</td>\n",
              "    </tr>\n",
              "  </tbody>\n",
              "</table>\n",
              "</div>"
            ],
            "text/plain": [
              "     district  year  ...  injection3_stock_end  pill_stock_end\n",
              "0  ABENGOUROU  2018  ...               16041.0         48097.0\n",
              "1  ABENGOUROU  2017  ...               16403.0         41079.0\n",
              "2  ABENGOUROU  2016  ...                8561.0         20878.0\n",
              "3   ABOBO EST  2018  ...                9359.0          9046.0\n",
              "4   ABOBO EST  2017  ...                6359.0         11711.0\n",
              "\n",
              "[5 rows x 27 columns]"
            ]
          },
          "metadata": {
            "tags": []
          },
          "execution_count": 3
        }
      ]
    },
    {
      "cell_type": "code",
      "metadata": {
        "colab": {
          "base_uri": "https://localhost:8080/",
          "height": 226
        },
        "id": "RJWy61C2UWhK",
        "outputId": "9a4461ac-20a5-4c9d-d0f5-e48c96080979"
      },
      "source": [
        "# previewing the monthly dataset\n",
        "monthly.head(5)"
      ],
      "execution_count": 4,
      "outputs": [
        {
          "output_type": "execute_result",
          "data": {
            "text/html": [
              "<div>\n",
              "<style scoped>\n",
              "    .dataframe tbody tr th:only-of-type {\n",
              "        vertical-align: middle;\n",
              "    }\n",
              "\n",
              "    .dataframe tbody tr th {\n",
              "        vertical-align: top;\n",
              "    }\n",
              "\n",
              "    .dataframe thead th {\n",
              "        text-align: right;\n",
              "    }\n",
              "</style>\n",
              "<table border=\"1\" class=\"dataframe\">\n",
              "  <thead>\n",
              "    <tr style=\"text-align: right;\">\n",
              "      <th></th>\n",
              "      <th>district</th>\n",
              "      <th>month</th>\n",
              "      <th>year</th>\n",
              "      <th>implant_women_old</th>\n",
              "      <th>implant_women_new</th>\n",
              "      <th>injection2_women_old</th>\n",
              "      <th>injection2_women_new</th>\n",
              "      <th>injection3_women_old</th>\n",
              "      <th>injection3_women_new</th>\n",
              "      <th>pill_women_old</th>\n",
              "      <th>pill_women_new</th>\n",
              "      <th>iud_women_old</th>\n",
              "      <th>iud_women_new</th>\n",
              "      <th>iud_number_dispensed</th>\n",
              "      <th>implant_number_dispensed</th>\n",
              "      <th>injection2_number_dispensed</th>\n",
              "      <th>injection3_number_dispensed</th>\n",
              "      <th>pill_number_dispensed</th>\n",
              "      <th>iud_number_received</th>\n",
              "      <th>implant_number_received</th>\n",
              "      <th>injection2_number_received</th>\n",
              "      <th>injection3_number_received</th>\n",
              "      <th>pill_number_received</th>\n",
              "      <th>iud_stock_end</th>\n",
              "      <th>implant_stock_end</th>\n",
              "      <th>injection2_stock_end</th>\n",
              "      <th>injection3_stock_end</th>\n",
              "      <th>pill_stock_end</th>\n",
              "    </tr>\n",
              "  </thead>\n",
              "  <tbody>\n",
              "    <tr>\n",
              "      <th>0</th>\n",
              "      <td>ABENGOUROU</td>\n",
              "      <td>1</td>\n",
              "      <td>2019</td>\n",
              "      <td>478.0</td>\n",
              "      <td>91.0</td>\n",
              "      <td>103.0</td>\n",
              "      <td>17.0</td>\n",
              "      <td>1278</td>\n",
              "      <td>296</td>\n",
              "      <td>195.0</td>\n",
              "      <td>34.0</td>\n",
              "      <td>NaN</td>\n",
              "      <td>NaN</td>\n",
              "      <td>NaN</td>\n",
              "      <td>75.0</td>\n",
              "      <td>44.0</td>\n",
              "      <td>1082.0</td>\n",
              "      <td>2542.0</td>\n",
              "      <td>NaN</td>\n",
              "      <td>319.0</td>\n",
              "      <td>33.0</td>\n",
              "      <td>1244.0</td>\n",
              "      <td>2846.0</td>\n",
              "      <td>NaN</td>\n",
              "      <td>422.0</td>\n",
              "      <td>NaN</td>\n",
              "      <td>1501.0</td>\n",
              "      <td>3466.0</td>\n",
              "    </tr>\n",
              "    <tr>\n",
              "      <th>1</th>\n",
              "      <td>ABENGOUROU</td>\n",
              "      <td>2</td>\n",
              "      <td>2019</td>\n",
              "      <td>340.0</td>\n",
              "      <td>81.0</td>\n",
              "      <td>126.0</td>\n",
              "      <td>10.0</td>\n",
              "      <td>1237</td>\n",
              "      <td>253</td>\n",
              "      <td>187.0</td>\n",
              "      <td>19.0</td>\n",
              "      <td>9.0</td>\n",
              "      <td>1.0</td>\n",
              "      <td>1.0</td>\n",
              "      <td>66.0</td>\n",
              "      <td>38.0</td>\n",
              "      <td>813.0</td>\n",
              "      <td>557.0</td>\n",
              "      <td>20.0</td>\n",
              "      <td>255.0</td>\n",
              "      <td>17.0</td>\n",
              "      <td>1174.0</td>\n",
              "      <td>2608.0</td>\n",
              "      <td>NaN</td>\n",
              "      <td>394.0</td>\n",
              "      <td>NaN</td>\n",
              "      <td>1535.0</td>\n",
              "      <td>3327.0</td>\n",
              "    </tr>\n",
              "    <tr>\n",
              "      <th>2</th>\n",
              "      <td>ABENGOUROU</td>\n",
              "      <td>3</td>\n",
              "      <td>2019</td>\n",
              "      <td>367.0</td>\n",
              "      <td>59.0</td>\n",
              "      <td>14.0</td>\n",
              "      <td>7.0</td>\n",
              "      <td>1300</td>\n",
              "      <td>224</td>\n",
              "      <td>147.0</td>\n",
              "      <td>26.0</td>\n",
              "      <td>NaN</td>\n",
              "      <td>5.0</td>\n",
              "      <td>5.0</td>\n",
              "      <td>47.0</td>\n",
              "      <td>42.0</td>\n",
              "      <td>819.0</td>\n",
              "      <td>665.0</td>\n",
              "      <td>50.0</td>\n",
              "      <td>214.0</td>\n",
              "      <td>50.0</td>\n",
              "      <td>1050.0</td>\n",
              "      <td>2148.0</td>\n",
              "      <td>NaN</td>\n",
              "      <td>340.0</td>\n",
              "      <td>NaN</td>\n",
              "      <td>1187.0</td>\n",
              "      <td>3636.0</td>\n",
              "    </tr>\n",
              "    <tr>\n",
              "      <th>3</th>\n",
              "      <td>ABENGOUROU</td>\n",
              "      <td>4</td>\n",
              "      <td>2019</td>\n",
              "      <td>583.0</td>\n",
              "      <td>46.0</td>\n",
              "      <td>6.0</td>\n",
              "      <td>1.0</td>\n",
              "      <td>1296</td>\n",
              "      <td>336</td>\n",
              "      <td>200.0</td>\n",
              "      <td>35.0</td>\n",
              "      <td>NaN</td>\n",
              "      <td>3.0</td>\n",
              "      <td>1.0</td>\n",
              "      <td>36.0</td>\n",
              "      <td>66.0</td>\n",
              "      <td>874.0</td>\n",
              "      <td>404.0</td>\n",
              "      <td>45.0</td>\n",
              "      <td>217.0</td>\n",
              "      <td>55.0</td>\n",
              "      <td>824.0</td>\n",
              "      <td>1787.0</td>\n",
              "      <td>NaN</td>\n",
              "      <td>340.0</td>\n",
              "      <td>NaN</td>\n",
              "      <td>889.0</td>\n",
              "      <td>2727.0</td>\n",
              "    </tr>\n",
              "    <tr>\n",
              "      <th>4</th>\n",
              "      <td>ABENGOUROU</td>\n",
              "      <td>5</td>\n",
              "      <td>2019</td>\n",
              "      <td>407.0</td>\n",
              "      <td>60.0</td>\n",
              "      <td>46.0</td>\n",
              "      <td>20.0</td>\n",
              "      <td>1356</td>\n",
              "      <td>281</td>\n",
              "      <td>156.0</td>\n",
              "      <td>24.0</td>\n",
              "      <td>NaN</td>\n",
              "      <td>1.0</td>\n",
              "      <td>1.0</td>\n",
              "      <td>71.0</td>\n",
              "      <td>47.0</td>\n",
              "      <td>813.0</td>\n",
              "      <td>545.0</td>\n",
              "      <td>14.0</td>\n",
              "      <td>321.0</td>\n",
              "      <td>256.0</td>\n",
              "      <td>1032.0</td>\n",
              "      <td>1635.0</td>\n",
              "      <td>NaN</td>\n",
              "      <td>355.0</td>\n",
              "      <td>NaN</td>\n",
              "      <td>604.0</td>\n",
              "      <td>1668.0</td>\n",
              "    </tr>\n",
              "  </tbody>\n",
              "</table>\n",
              "</div>"
            ],
            "text/plain": [
              "     district  month  ...  injection3_stock_end  pill_stock_end\n",
              "0  ABENGOUROU      1  ...                1501.0          3466.0\n",
              "1  ABENGOUROU      2  ...                1535.0          3327.0\n",
              "2  ABENGOUROU      3  ...                1187.0          3636.0\n",
              "3  ABENGOUROU      4  ...                 889.0          2727.0\n",
              "4  ABENGOUROU      5  ...                 604.0          1668.0\n",
              "\n",
              "[5 rows x 28 columns]"
            ]
          },
          "metadata": {
            "tags": []
          },
          "execution_count": 4
        }
      ]
    },
    {
      "cell_type": "code",
      "metadata": {
        "colab": {
          "base_uri": "https://localhost:8080/",
          "height": 206
        },
        "id": "zCBhwcxMUldy",
        "outputId": "9847e7d1-9017-4e10-f030-2687720a9bd1"
      },
      "source": [
        "# previewing the site dataset\n",
        "site.head(5)"
      ],
      "execution_count": 5,
      "outputs": [
        {
          "output_type": "execute_result",
          "data": {
            "text/html": [
              "<div>\n",
              "<style scoped>\n",
              "    .dataframe tbody tr th:only-of-type {\n",
              "        vertical-align: middle;\n",
              "    }\n",
              "\n",
              "    .dataframe tbody tr th {\n",
              "        vertical-align: top;\n",
              "    }\n",
              "\n",
              "    .dataframe thead th {\n",
              "        text-align: right;\n",
              "    }\n",
              "</style>\n",
              "<table border=\"1\" class=\"dataframe\">\n",
              "  <thead>\n",
              "    <tr style=\"text-align: right;\">\n",
              "      <th></th>\n",
              "      <th>site_code</th>\n",
              "      <th>site_type</th>\n",
              "      <th>site_region</th>\n",
              "      <th>site_district</th>\n",
              "      <th>site_latitude</th>\n",
              "      <th>site_longitude</th>\n",
              "    </tr>\n",
              "  </thead>\n",
              "  <tbody>\n",
              "    <tr>\n",
              "      <th>0</th>\n",
              "      <td>C1399</td>\n",
              "      <td>Health Center</td>\n",
              "      <td>ABIDJAN 2</td>\n",
              "      <td>COCODY-BINGERVILLE</td>\n",
              "      <td>5.352721</td>\n",
              "      <td>-3.940210</td>\n",
              "    </tr>\n",
              "    <tr>\n",
              "      <th>1</th>\n",
              "      <td>C4001</td>\n",
              "      <td>Hospital</td>\n",
              "      <td>INDENIE-DJUABLIN</td>\n",
              "      <td>ABENGOUROU</td>\n",
              "      <td>6.730937</td>\n",
              "      <td>-3.483863</td>\n",
              "    </tr>\n",
              "    <tr>\n",
              "      <th>2</th>\n",
              "      <td>C1004</td>\n",
              "      <td>Hospital</td>\n",
              "      <td>AGNEBY-TIASSA-ME</td>\n",
              "      <td>AGBOVILLE</td>\n",
              "      <td>5.928340</td>\n",
              "      <td>-4.211450</td>\n",
              "    </tr>\n",
              "    <tr>\n",
              "      <th>3</th>\n",
              "      <td>C4002</td>\n",
              "      <td>Hospital</td>\n",
              "      <td>BOUNKANI-GONTOUGO</td>\n",
              "      <td>BONDOUKOU</td>\n",
              "      <td>8.041860</td>\n",
              "      <td>-2.798370</td>\n",
              "    </tr>\n",
              "    <tr>\n",
              "      <th>4</th>\n",
              "      <td>C2002</td>\n",
              "      <td>Hospital</td>\n",
              "      <td>MARAHOUE</td>\n",
              "      <td>BOUAFLE</td>\n",
              "      <td>6.984120</td>\n",
              "      <td>-5.751980</td>\n",
              "    </tr>\n",
              "  </tbody>\n",
              "</table>\n",
              "</div>"
            ],
            "text/plain": [
              "  site_code      site_type  ... site_latitude site_longitude\n",
              "0     C1399  Health Center  ...      5.352721      -3.940210\n",
              "1     C4001       Hospital  ...      6.730937      -3.483863\n",
              "2     C1004       Hospital  ...      5.928340      -4.211450\n",
              "3     C4002       Hospital  ...      8.041860      -2.798370\n",
              "4     C2002       Hospital  ...      6.984120      -5.751980\n",
              "\n",
              "[5 rows x 6 columns]"
            ]
          },
          "metadata": {
            "tags": []
          },
          "execution_count": 5
        }
      ]
    },
    {
      "cell_type": "code",
      "metadata": {
        "id": "sjyRxbujs9lv",
        "colab": {
          "base_uri": "https://localhost:8080/",
          "height": 313
        },
        "outputId": "9e807331-e828-4f3f-c003-5b29050b8917"
      },
      "source": [
        "# Previewing our Train dataset\n",
        "df.head(5)"
      ],
      "execution_count": 6,
      "outputs": [
        {
          "output_type": "execute_result",
          "data": {
            "text/html": [
              "<div>\n",
              "<style scoped>\n",
              "    .dataframe tbody tr th:only-of-type {\n",
              "        vertical-align: middle;\n",
              "    }\n",
              "\n",
              "    .dataframe tbody tr th {\n",
              "        vertical-align: top;\n",
              "    }\n",
              "\n",
              "    .dataframe thead th {\n",
              "        text-align: right;\n",
              "    }\n",
              "</style>\n",
              "<table border=\"1\" class=\"dataframe\">\n",
              "  <thead>\n",
              "    <tr style=\"text-align: right;\">\n",
              "      <th></th>\n",
              "      <th>year</th>\n",
              "      <th>month</th>\n",
              "      <th>region</th>\n",
              "      <th>district</th>\n",
              "      <th>site_code</th>\n",
              "      <th>product_code</th>\n",
              "      <th>stock_initial</th>\n",
              "      <th>stock_received</th>\n",
              "      <th>stock_distributed</th>\n",
              "      <th>stock_adjustment</th>\n",
              "      <th>stock_end</th>\n",
              "      <th>average_monthly_consumption</th>\n",
              "      <th>stock_stockout_days</th>\n",
              "      <th>stock_ordered</th>\n",
              "    </tr>\n",
              "  </thead>\n",
              "  <tbody>\n",
              "    <tr>\n",
              "      <th>0</th>\n",
              "      <td>2019</td>\n",
              "      <td>1</td>\n",
              "      <td>INDENIE-DJUABLIN</td>\n",
              "      <td>ABENGOUROU</td>\n",
              "      <td>C4001</td>\n",
              "      <td>AS27134</td>\n",
              "      <td>75</td>\n",
              "      <td>0</td>\n",
              "      <td>21</td>\n",
              "      <td>-54</td>\n",
              "      <td>0</td>\n",
              "      <td>18</td>\n",
              "      <td>0</td>\n",
              "      <td>100.0</td>\n",
              "    </tr>\n",
              "    <tr>\n",
              "      <th>1</th>\n",
              "      <td>2019</td>\n",
              "      <td>1</td>\n",
              "      <td>INDENIE-DJUABLIN</td>\n",
              "      <td>ABENGOUROU</td>\n",
              "      <td>C4001</td>\n",
              "      <td>AS27132</td>\n",
              "      <td>3</td>\n",
              "      <td>0</td>\n",
              "      <td>3</td>\n",
              "      <td>0</td>\n",
              "      <td>0</td>\n",
              "      <td>2</td>\n",
              "      <td>0</td>\n",
              "      <td>10.0</td>\n",
              "    </tr>\n",
              "    <tr>\n",
              "      <th>2</th>\n",
              "      <td>2019</td>\n",
              "      <td>1</td>\n",
              "      <td>INDENIE-DJUABLIN</td>\n",
              "      <td>ABENGOUROU</td>\n",
              "      <td>C4001</td>\n",
              "      <td>AS27000</td>\n",
              "      <td>0</td>\n",
              "      <td>75</td>\n",
              "      <td>22</td>\n",
              "      <td>0</td>\n",
              "      <td>53</td>\n",
              "      <td>9</td>\n",
              "      <td>0</td>\n",
              "      <td>0.0</td>\n",
              "    </tr>\n",
              "    <tr>\n",
              "      <th>3</th>\n",
              "      <td>2019</td>\n",
              "      <td>1</td>\n",
              "      <td>INDENIE-DJUABLIN</td>\n",
              "      <td>ABENGOUROU</td>\n",
              "      <td>C4001</td>\n",
              "      <td>AS27137</td>\n",
              "      <td>2</td>\n",
              "      <td>0</td>\n",
              "      <td>0</td>\n",
              "      <td>0</td>\n",
              "      <td>2</td>\n",
              "      <td>0</td>\n",
              "      <td>0</td>\n",
              "      <td>0.0</td>\n",
              "    </tr>\n",
              "    <tr>\n",
              "      <th>4</th>\n",
              "      <td>2019</td>\n",
              "      <td>1</td>\n",
              "      <td>INDENIE-DJUABLIN</td>\n",
              "      <td>ABENGOUROU</td>\n",
              "      <td>C4001</td>\n",
              "      <td>AS27138</td>\n",
              "      <td>45</td>\n",
              "      <td>0</td>\n",
              "      <td>2</td>\n",
              "      <td>0</td>\n",
              "      <td>43</td>\n",
              "      <td>1</td>\n",
              "      <td>0</td>\n",
              "      <td>0.0</td>\n",
              "    </tr>\n",
              "  </tbody>\n",
              "</table>\n",
              "</div>"
            ],
            "text/plain": [
              "   year  month  ... stock_stockout_days stock_ordered\n",
              "0  2019      1  ...                   0         100.0\n",
              "1  2019      1  ...                   0          10.0\n",
              "2  2019      1  ...                   0           0.0\n",
              "3  2019      1  ...                   0           0.0\n",
              "4  2019      1  ...                   0           0.0\n",
              "\n",
              "[5 rows x 14 columns]"
            ]
          },
          "metadata": {
            "tags": []
          },
          "execution_count": 6
        }
      ]
    },
    {
      "cell_type": "code",
      "metadata": {
        "colab": {
          "base_uri": "https://localhost:8080/"
        },
        "id": "l53xTMu2nlIZ",
        "outputId": "e0730c58-08b7-44e2-b010-bfe119cd0572"
      },
      "source": [
        "# Check the records we have in our annual dataset\n",
        "print('annual dataset\\n',annual.shape,'\\n')\n",
        "print('monthly dataset\\n',monthly.shape,'\\n')\n",
        "print('Train dataset\\n',df.shape,'\\n')\n"
      ],
      "execution_count": 7,
      "outputs": [
        {
          "output_type": "stream",
          "text": [
            "annual dataset\n",
            " (339, 27) \n",
            "\n",
            "monthly dataset\n",
            " (678, 28) \n",
            "\n",
            "Train dataset\n",
            " (35753, 14) \n",
            "\n"
          ],
          "name": "stdout"
        }
      ]
    },
    {
      "cell_type": "markdown",
      "metadata": {
        "id": "KHUNh33NXxgT"
      },
      "source": [
        "## Previewing the Data"
      ]
    },
    {
      "cell_type": "code",
      "metadata": {
        "colab": {
          "base_uri": "https://localhost:8080/"
        },
        "id": "PBI-fdrLX1rs",
        "outputId": "6b8e4643-1796-4d48-946e-045c959d8944"
      },
      "source": [
        "# checking the info on our annual dataset \n",
        "annual.info()"
      ],
      "execution_count": 8,
      "outputs": [
        {
          "output_type": "stream",
          "text": [
            "<class 'pandas.core.frame.DataFrame'>\n",
            "RangeIndex: 339 entries, 0 to 338\n",
            "Data columns (total 27 columns):\n",
            " #   Column                       Non-Null Count  Dtype  \n",
            "---  ------                       --------------  -----  \n",
            " 0   district                     339 non-null    object \n",
            " 1   year                         339 non-null    int64  \n",
            " 2   implant_women_old            326 non-null    float64\n",
            " 3   implant_women_new            337 non-null    float64\n",
            " 4   injection2_women_old         337 non-null    float64\n",
            " 5   injection2_women_new         334 non-null    float64\n",
            " 6   injection3_women_old         339 non-null    int64  \n",
            " 7   injection3_women_new         339 non-null    int64  \n",
            " 8   pill_women_old               339 non-null    float64\n",
            " 9   pill_women_new               338 non-null    float64\n",
            " 10  iud_women_old                212 non-null    float64\n",
            " 11  iud_women_new                277 non-null    float64\n",
            " 12  iud_number_dispensed         233 non-null    float64\n",
            " 13  implant_number_dispensed     333 non-null    float64\n",
            " 14  injection2_number_dispensed  331 non-null    float64\n",
            " 15  injection3_number_dispensed  338 non-null    float64\n",
            " 16  pill_number_dispensed        334 non-null    float64\n",
            " 17  iud_number_received          245 non-null    float64\n",
            " 18  implant_number_received      333 non-null    float64\n",
            " 19  injection2_number_received   328 non-null    float64\n",
            " 20  injection3_number_received   337 non-null    float64\n",
            " 21  pill_number_received         332 non-null    float64\n",
            " 22  iud_stock_end                0 non-null      float64\n",
            " 23  implant_stock_end            266 non-null    float64\n",
            " 24  injection2_stock_end         0 non-null      float64\n",
            " 25  injection3_stock_end         271 non-null    float64\n",
            " 26  pill_stock_end               266 non-null    float64\n",
            "dtypes: float64(23), int64(3), object(1)\n",
            "memory usage: 71.6+ KB\n"
          ],
          "name": "stdout"
        }
      ]
    },
    {
      "cell_type": "code",
      "metadata": {
        "colab": {
          "base_uri": "https://localhost:8080/"
        },
        "id": "Bwg3n0_SXNIp",
        "outputId": "766e116c-bea1-4fd8-cb1f-c3dc3b080636"
      },
      "source": [
        "# checking the info on our monthly dataset \n",
        "monthly.info()"
      ],
      "execution_count": 9,
      "outputs": [
        {
          "output_type": "stream",
          "text": [
            "<class 'pandas.core.frame.DataFrame'>\n",
            "RangeIndex: 678 entries, 0 to 677\n",
            "Data columns (total 28 columns):\n",
            " #   Column                       Non-Null Count  Dtype  \n",
            "---  ------                       --------------  -----  \n",
            " 0   district                     678 non-null    object \n",
            " 1   month                        678 non-null    int64  \n",
            " 2   year                         678 non-null    int64  \n",
            " 3   implant_women_old            610 non-null    float64\n",
            " 4   implant_women_new            672 non-null    float64\n",
            " 5   injection2_women_old         556 non-null    float64\n",
            " 6   injection2_women_new         481 non-null    float64\n",
            " 7   injection3_women_old         678 non-null    int64  \n",
            " 8   injection3_women_new         678 non-null    int64  \n",
            " 9   pill_women_old               621 non-null    float64\n",
            " 10  pill_women_new               595 non-null    float64\n",
            " 11  iud_women_old                250 non-null    float64\n",
            " 12  iud_women_new                306 non-null    float64\n",
            " 13  iud_number_dispensed         249 non-null    float64\n",
            " 14  implant_number_dispensed     649 non-null    float64\n",
            " 15  injection2_number_dispensed  508 non-null    float64\n",
            " 16  injection3_number_dispensed  662 non-null    float64\n",
            " 17  pill_number_dispensed        615 non-null    float64\n",
            " 18  iud_number_received          334 non-null    float64\n",
            " 19  implant_number_received      643 non-null    float64\n",
            " 20  injection2_number_received   496 non-null    float64\n",
            " 21  injection3_number_received   657 non-null    float64\n",
            " 22  pill_number_received         615 non-null    float64\n",
            " 23  iud_stock_end                0 non-null      float64\n",
            " 24  implant_stock_end            645 non-null    float64\n",
            " 25  injection2_stock_end         0 non-null      float64\n",
            " 26  injection3_stock_end         659 non-null    float64\n",
            " 27  pill_stock_end               626 non-null    float64\n",
            "dtypes: float64(23), int64(4), object(1)\n",
            "memory usage: 148.4+ KB\n"
          ],
          "name": "stdout"
        }
      ]
    },
    {
      "cell_type": "code",
      "metadata": {
        "colab": {
          "base_uri": "https://localhost:8080/"
        },
        "id": "LVr1gdfCXlxb",
        "outputId": "e515136f-2264-49c3-c281-6030d53ab77c"
      },
      "source": [
        "# checking the info on our train dataset \n",
        "df.info()"
      ],
      "execution_count": 10,
      "outputs": [
        {
          "output_type": "stream",
          "text": [
            "<class 'pandas.core.frame.DataFrame'>\n",
            "RangeIndex: 35753 entries, 0 to 35752\n",
            "Data columns (total 14 columns):\n",
            " #   Column                       Non-Null Count  Dtype  \n",
            "---  ------                       --------------  -----  \n",
            " 0   year                         35753 non-null  int64  \n",
            " 1   month                        35753 non-null  int64  \n",
            " 2   region                       35753 non-null  object \n",
            " 3   district                     35753 non-null  object \n",
            " 4   site_code                    35753 non-null  object \n",
            " 5   product_code                 35753 non-null  object \n",
            " 6   stock_initial                35753 non-null  int64  \n",
            " 7   stock_received               35753 non-null  int64  \n",
            " 8   stock_distributed            35753 non-null  int64  \n",
            " 9   stock_adjustment             35753 non-null  int64  \n",
            " 10  stock_end                    35753 non-null  int64  \n",
            " 11  average_monthly_consumption  35753 non-null  int64  \n",
            " 12  stock_stockout_days          35753 non-null  int64  \n",
            " 13  stock_ordered                34990 non-null  float64\n",
            "dtypes: float64(1), int64(9), object(4)\n",
            "memory usage: 3.8+ MB\n"
          ],
          "name": "stdout"
        }
      ]
    },
    {
      "cell_type": "code",
      "metadata": {
        "colab": {
          "base_uri": "https://localhost:8080/",
          "height": 864
        },
        "id": "Z4o4kftMoV75",
        "outputId": "04bf3cd6-fd81-40fe-af4a-2fbcdacd2f1f"
      },
      "source": [
        "# Summary of the numerical attributes\n",
        "annual.describe().transpose()"
      ],
      "execution_count": 11,
      "outputs": [
        {
          "output_type": "execute_result",
          "data": {
            "text/html": [
              "<div>\n",
              "<style scoped>\n",
              "    .dataframe tbody tr th:only-of-type {\n",
              "        vertical-align: middle;\n",
              "    }\n",
              "\n",
              "    .dataframe tbody tr th {\n",
              "        vertical-align: top;\n",
              "    }\n",
              "\n",
              "    .dataframe thead th {\n",
              "        text-align: right;\n",
              "    }\n",
              "</style>\n",
              "<table border=\"1\" class=\"dataframe\">\n",
              "  <thead>\n",
              "    <tr style=\"text-align: right;\">\n",
              "      <th></th>\n",
              "      <th>count</th>\n",
              "      <th>mean</th>\n",
              "      <th>std</th>\n",
              "      <th>min</th>\n",
              "      <th>25%</th>\n",
              "      <th>50%</th>\n",
              "      <th>75%</th>\n",
              "      <th>max</th>\n",
              "    </tr>\n",
              "  </thead>\n",
              "  <tbody>\n",
              "    <tr>\n",
              "      <th>year</th>\n",
              "      <td>339.0</td>\n",
              "      <td>2017.000000</td>\n",
              "      <td>0.817704</td>\n",
              "      <td>2016.0</td>\n",
              "      <td>2016.00</td>\n",
              "      <td>2017.0</td>\n",
              "      <td>2018.00</td>\n",
              "      <td>2018.0</td>\n",
              "    </tr>\n",
              "    <tr>\n",
              "      <th>implant_women_old</th>\n",
              "      <td>326.0</td>\n",
              "      <td>1499.193252</td>\n",
              "      <td>2975.216904</td>\n",
              "      <td>1.0</td>\n",
              "      <td>90.75</td>\n",
              "      <td>459.0</td>\n",
              "      <td>1430.00</td>\n",
              "      <td>23226.0</td>\n",
              "    </tr>\n",
              "    <tr>\n",
              "      <th>implant_women_new</th>\n",
              "      <td>337.0</td>\n",
              "      <td>572.875371</td>\n",
              "      <td>633.746985</td>\n",
              "      <td>5.0</td>\n",
              "      <td>146.00</td>\n",
              "      <td>350.0</td>\n",
              "      <td>749.00</td>\n",
              "      <td>3959.0</td>\n",
              "    </tr>\n",
              "    <tr>\n",
              "      <th>injection2_women_old</th>\n",
              "      <td>337.0</td>\n",
              "      <td>1097.528190</td>\n",
              "      <td>1641.024406</td>\n",
              "      <td>2.0</td>\n",
              "      <td>132.00</td>\n",
              "      <td>498.0</td>\n",
              "      <td>1295.00</td>\n",
              "      <td>10349.0</td>\n",
              "    </tr>\n",
              "    <tr>\n",
              "      <th>injection2_women_new</th>\n",
              "      <td>334.0</td>\n",
              "      <td>243.158683</td>\n",
              "      <td>398.174681</td>\n",
              "      <td>1.0</td>\n",
              "      <td>60.00</td>\n",
              "      <td>145.0</td>\n",
              "      <td>293.75</td>\n",
              "      <td>4535.0</td>\n",
              "    </tr>\n",
              "    <tr>\n",
              "      <th>injection3_women_old</th>\n",
              "      <td>339.0</td>\n",
              "      <td>5657.554572</td>\n",
              "      <td>25958.064589</td>\n",
              "      <td>144.0</td>\n",
              "      <td>1612.50</td>\n",
              "      <td>2828.0</td>\n",
              "      <td>5433.00</td>\n",
              "      <td>475882.0</td>\n",
              "    </tr>\n",
              "    <tr>\n",
              "      <th>injection3_women_new</th>\n",
              "      <td>339.0</td>\n",
              "      <td>1065.843658</td>\n",
              "      <td>809.122417</td>\n",
              "      <td>65.0</td>\n",
              "      <td>460.00</td>\n",
              "      <td>879.0</td>\n",
              "      <td>1456.00</td>\n",
              "      <td>5164.0</td>\n",
              "    </tr>\n",
              "    <tr>\n",
              "      <th>pill_women_old</th>\n",
              "      <td>339.0</td>\n",
              "      <td>1206.662832</td>\n",
              "      <td>1774.006091</td>\n",
              "      <td>1.0</td>\n",
              "      <td>154.00</td>\n",
              "      <td>490.0</td>\n",
              "      <td>1502.00</td>\n",
              "      <td>12508.0</td>\n",
              "    </tr>\n",
              "    <tr>\n",
              "      <th>pill_women_new</th>\n",
              "      <td>338.0</td>\n",
              "      <td>269.105621</td>\n",
              "      <td>615.979742</td>\n",
              "      <td>1.0</td>\n",
              "      <td>60.50</td>\n",
              "      <td>141.0</td>\n",
              "      <td>311.25</td>\n",
              "      <td>8376.0</td>\n",
              "    </tr>\n",
              "    <tr>\n",
              "      <th>iud_women_old</th>\n",
              "      <td>212.0</td>\n",
              "      <td>138.396226</td>\n",
              "      <td>367.104029</td>\n",
              "      <td>1.0</td>\n",
              "      <td>12.00</td>\n",
              "      <td>37.5</td>\n",
              "      <td>130.00</td>\n",
              "      <td>3482.0</td>\n",
              "    </tr>\n",
              "    <tr>\n",
              "      <th>iud_women_new</th>\n",
              "      <td>277.0</td>\n",
              "      <td>46.454874</td>\n",
              "      <td>85.993653</td>\n",
              "      <td>1.0</td>\n",
              "      <td>4.00</td>\n",
              "      <td>14.0</td>\n",
              "      <td>43.00</td>\n",
              "      <td>889.0</td>\n",
              "    </tr>\n",
              "    <tr>\n",
              "      <th>iud_number_dispensed</th>\n",
              "      <td>233.0</td>\n",
              "      <td>70.763948</td>\n",
              "      <td>151.963812</td>\n",
              "      <td>1.0</td>\n",
              "      <td>5.00</td>\n",
              "      <td>17.0</td>\n",
              "      <td>54.00</td>\n",
              "      <td>1243.0</td>\n",
              "    </tr>\n",
              "    <tr>\n",
              "      <th>implant_number_dispensed</th>\n",
              "      <td>333.0</td>\n",
              "      <td>507.852853</td>\n",
              "      <td>591.170484</td>\n",
              "      <td>2.0</td>\n",
              "      <td>134.00</td>\n",
              "      <td>304.0</td>\n",
              "      <td>663.00</td>\n",
              "      <td>3990.0</td>\n",
              "    </tr>\n",
              "    <tr>\n",
              "      <th>injection2_number_dispensed</th>\n",
              "      <td>331.0</td>\n",
              "      <td>1034.655589</td>\n",
              "      <td>1685.400351</td>\n",
              "      <td>1.0</td>\n",
              "      <td>130.00</td>\n",
              "      <td>427.0</td>\n",
              "      <td>988.50</td>\n",
              "      <td>12131.0</td>\n",
              "    </tr>\n",
              "    <tr>\n",
              "      <th>injection3_number_dispensed</th>\n",
              "      <td>338.0</td>\n",
              "      <td>3023.763314</td>\n",
              "      <td>2811.226297</td>\n",
              "      <td>49.0</td>\n",
              "      <td>1125.50</td>\n",
              "      <td>2142.0</td>\n",
              "      <td>3713.50</td>\n",
              "      <td>15915.0</td>\n",
              "    </tr>\n",
              "    <tr>\n",
              "      <th>pill_number_dispensed</th>\n",
              "      <td>334.0</td>\n",
              "      <td>3366.574850</td>\n",
              "      <td>5942.414705</td>\n",
              "      <td>2.0</td>\n",
              "      <td>388.75</td>\n",
              "      <td>1351.0</td>\n",
              "      <td>3758.50</td>\n",
              "      <td>50638.0</td>\n",
              "    </tr>\n",
              "    <tr>\n",
              "      <th>iud_number_received</th>\n",
              "      <td>245.0</td>\n",
              "      <td>296.371429</td>\n",
              "      <td>566.892801</td>\n",
              "      <td>1.0</td>\n",
              "      <td>15.00</td>\n",
              "      <td>58.0</td>\n",
              "      <td>276.00</td>\n",
              "      <td>3342.0</td>\n",
              "    </tr>\n",
              "    <tr>\n",
              "      <th>implant_number_received</th>\n",
              "      <td>333.0</td>\n",
              "      <td>1054.543544</td>\n",
              "      <td>1436.531292</td>\n",
              "      <td>10.0</td>\n",
              "      <td>237.00</td>\n",
              "      <td>582.0</td>\n",
              "      <td>1195.00</td>\n",
              "      <td>10972.0</td>\n",
              "    </tr>\n",
              "    <tr>\n",
              "      <th>injection2_number_received</th>\n",
              "      <td>328.0</td>\n",
              "      <td>2961.426829</td>\n",
              "      <td>7012.029936</td>\n",
              "      <td>2.0</td>\n",
              "      <td>350.50</td>\n",
              "      <td>917.0</td>\n",
              "      <td>1983.25</td>\n",
              "      <td>64521.0</td>\n",
              "    </tr>\n",
              "    <tr>\n",
              "      <th>injection3_number_received</th>\n",
              "      <td>337.0</td>\n",
              "      <td>4972.287834</td>\n",
              "      <td>6827.590073</td>\n",
              "      <td>76.0</td>\n",
              "      <td>1504.00</td>\n",
              "      <td>2863.0</td>\n",
              "      <td>4986.00</td>\n",
              "      <td>57901.0</td>\n",
              "    </tr>\n",
              "    <tr>\n",
              "      <th>pill_number_received</th>\n",
              "      <td>332.0</td>\n",
              "      <td>8063.759036</td>\n",
              "      <td>15147.234031</td>\n",
              "      <td>1.0</td>\n",
              "      <td>827.75</td>\n",
              "      <td>2658.0</td>\n",
              "      <td>7398.25</td>\n",
              "      <td>105333.0</td>\n",
              "    </tr>\n",
              "    <tr>\n",
              "      <th>iud_stock_end</th>\n",
              "      <td>0.0</td>\n",
              "      <td>NaN</td>\n",
              "      <td>NaN</td>\n",
              "      <td>NaN</td>\n",
              "      <td>NaN</td>\n",
              "      <td>NaN</td>\n",
              "      <td>NaN</td>\n",
              "      <td>NaN</td>\n",
              "    </tr>\n",
              "    <tr>\n",
              "      <th>implant_stock_end</th>\n",
              "      <td>266.0</td>\n",
              "      <td>1042.857143</td>\n",
              "      <td>1194.955524</td>\n",
              "      <td>2.0</td>\n",
              "      <td>221.75</td>\n",
              "      <td>583.5</td>\n",
              "      <td>1495.00</td>\n",
              "      <td>7474.0</td>\n",
              "    </tr>\n",
              "    <tr>\n",
              "      <th>injection2_stock_end</th>\n",
              "      <td>0.0</td>\n",
              "      <td>NaN</td>\n",
              "      <td>NaN</td>\n",
              "      <td>NaN</td>\n",
              "      <td>NaN</td>\n",
              "      <td>NaN</td>\n",
              "      <td>NaN</td>\n",
              "      <td>NaN</td>\n",
              "    </tr>\n",
              "    <tr>\n",
              "      <th>injection3_stock_end</th>\n",
              "      <td>271.0</td>\n",
              "      <td>3579.070111</td>\n",
              "      <td>4794.325204</td>\n",
              "      <td>5.0</td>\n",
              "      <td>880.50</td>\n",
              "      <td>2066.0</td>\n",
              "      <td>4054.00</td>\n",
              "      <td>32457.0</td>\n",
              "    </tr>\n",
              "    <tr>\n",
              "      <th>pill_stock_end</th>\n",
              "      <td>266.0</td>\n",
              "      <td>9146.868421</td>\n",
              "      <td>18806.852458</td>\n",
              "      <td>1.0</td>\n",
              "      <td>626.00</td>\n",
              "      <td>2923.0</td>\n",
              "      <td>7919.50</td>\n",
              "      <td>181880.0</td>\n",
              "    </tr>\n",
              "  </tbody>\n",
              "</table>\n",
              "</div>"
            ],
            "text/plain": [
              "                             count         mean  ...      75%       max\n",
              "year                         339.0  2017.000000  ...  2018.00    2018.0\n",
              "implant_women_old            326.0  1499.193252  ...  1430.00   23226.0\n",
              "implant_women_new            337.0   572.875371  ...   749.00    3959.0\n",
              "injection2_women_old         337.0  1097.528190  ...  1295.00   10349.0\n",
              "injection2_women_new         334.0   243.158683  ...   293.75    4535.0\n",
              "injection3_women_old         339.0  5657.554572  ...  5433.00  475882.0\n",
              "injection3_women_new         339.0  1065.843658  ...  1456.00    5164.0\n",
              "pill_women_old               339.0  1206.662832  ...  1502.00   12508.0\n",
              "pill_women_new               338.0   269.105621  ...   311.25    8376.0\n",
              "iud_women_old                212.0   138.396226  ...   130.00    3482.0\n",
              "iud_women_new                277.0    46.454874  ...    43.00     889.0\n",
              "iud_number_dispensed         233.0    70.763948  ...    54.00    1243.0\n",
              "implant_number_dispensed     333.0   507.852853  ...   663.00    3990.0\n",
              "injection2_number_dispensed  331.0  1034.655589  ...   988.50   12131.0\n",
              "injection3_number_dispensed  338.0  3023.763314  ...  3713.50   15915.0\n",
              "pill_number_dispensed        334.0  3366.574850  ...  3758.50   50638.0\n",
              "iud_number_received          245.0   296.371429  ...   276.00    3342.0\n",
              "implant_number_received      333.0  1054.543544  ...  1195.00   10972.0\n",
              "injection2_number_received   328.0  2961.426829  ...  1983.25   64521.0\n",
              "injection3_number_received   337.0  4972.287834  ...  4986.00   57901.0\n",
              "pill_number_received         332.0  8063.759036  ...  7398.25  105333.0\n",
              "iud_stock_end                  0.0          NaN  ...      NaN       NaN\n",
              "implant_stock_end            266.0  1042.857143  ...  1495.00    7474.0\n",
              "injection2_stock_end           0.0          NaN  ...      NaN       NaN\n",
              "injection3_stock_end         271.0  3579.070111  ...  4054.00   32457.0\n",
              "pill_stock_end               266.0  9146.868421  ...  7919.50  181880.0\n",
              "\n",
              "[26 rows x 8 columns]"
            ]
          },
          "metadata": {
            "tags": []
          },
          "execution_count": 11
        }
      ]
    },
    {
      "cell_type": "code",
      "metadata": {
        "colab": {
          "base_uri": "https://localhost:8080/",
          "height": 895
        },
        "id": "_XP4UrekX0hr",
        "outputId": "62d807f3-0968-4c44-d991-00b1870421e3"
      },
      "source": [
        "# Summary of the numerical attributes\n",
        "monthly.describe().transpose()"
      ],
      "execution_count": 12,
      "outputs": [
        {
          "output_type": "execute_result",
          "data": {
            "text/html": [
              "<div>\n",
              "<style scoped>\n",
              "    .dataframe tbody tr th:only-of-type {\n",
              "        vertical-align: middle;\n",
              "    }\n",
              "\n",
              "    .dataframe tbody tr th {\n",
              "        vertical-align: top;\n",
              "    }\n",
              "\n",
              "    .dataframe thead th {\n",
              "        text-align: right;\n",
              "    }\n",
              "</style>\n",
              "<table border=\"1\" class=\"dataframe\">\n",
              "  <thead>\n",
              "    <tr style=\"text-align: right;\">\n",
              "      <th></th>\n",
              "      <th>count</th>\n",
              "      <th>mean</th>\n",
              "      <th>std</th>\n",
              "      <th>min</th>\n",
              "      <th>25%</th>\n",
              "      <th>50%</th>\n",
              "      <th>75%</th>\n",
              "      <th>max</th>\n",
              "    </tr>\n",
              "  </thead>\n",
              "  <tbody>\n",
              "    <tr>\n",
              "      <th>month</th>\n",
              "      <td>678.0</td>\n",
              "      <td>3.500000</td>\n",
              "      <td>1.709086</td>\n",
              "      <td>1.0</td>\n",
              "      <td>2.00</td>\n",
              "      <td>3.5</td>\n",
              "      <td>5.00</td>\n",
              "      <td>6.0</td>\n",
              "    </tr>\n",
              "    <tr>\n",
              "      <th>year</th>\n",
              "      <td>678.0</td>\n",
              "      <td>2019.000000</td>\n",
              "      <td>0.000000</td>\n",
              "      <td>2019.0</td>\n",
              "      <td>2019.00</td>\n",
              "      <td>2019.0</td>\n",
              "      <td>2019.00</td>\n",
              "      <td>2019.0</td>\n",
              "    </tr>\n",
              "    <tr>\n",
              "      <th>implant_women_old</th>\n",
              "      <td>610.0</td>\n",
              "      <td>213.509836</td>\n",
              "      <td>358.961649</td>\n",
              "      <td>1.0</td>\n",
              "      <td>12.00</td>\n",
              "      <td>75.0</td>\n",
              "      <td>288.50</td>\n",
              "      <td>2883.0</td>\n",
              "    </tr>\n",
              "    <tr>\n",
              "      <th>implant_women_new</th>\n",
              "      <td>672.0</td>\n",
              "      <td>77.831845</td>\n",
              "      <td>108.731927</td>\n",
              "      <td>1.0</td>\n",
              "      <td>21.00</td>\n",
              "      <td>45.0</td>\n",
              "      <td>87.00</td>\n",
              "      <td>1344.0</td>\n",
              "    </tr>\n",
              "    <tr>\n",
              "      <th>injection2_women_old</th>\n",
              "      <td>556.0</td>\n",
              "      <td>39.429856</td>\n",
              "      <td>71.846085</td>\n",
              "      <td>1.0</td>\n",
              "      <td>6.00</td>\n",
              "      <td>18.0</td>\n",
              "      <td>50.00</td>\n",
              "      <td>1259.0</td>\n",
              "    </tr>\n",
              "    <tr>\n",
              "      <th>injection2_women_new</th>\n",
              "      <td>481.0</td>\n",
              "      <td>9.428274</td>\n",
              "      <td>12.449881</td>\n",
              "      <td>1.0</td>\n",
              "      <td>2.00</td>\n",
              "      <td>5.0</td>\n",
              "      <td>12.00</td>\n",
              "      <td>133.0</td>\n",
              "    </tr>\n",
              "    <tr>\n",
              "      <th>injection3_women_old</th>\n",
              "      <td>678.0</td>\n",
              "      <td>495.436578</td>\n",
              "      <td>467.385785</td>\n",
              "      <td>20.0</td>\n",
              "      <td>184.50</td>\n",
              "      <td>320.0</td>\n",
              "      <td>665.75</td>\n",
              "      <td>2534.0</td>\n",
              "    </tr>\n",
              "    <tr>\n",
              "      <th>injection3_women_new</th>\n",
              "      <td>678.0</td>\n",
              "      <td>110.523599</td>\n",
              "      <td>94.042050</td>\n",
              "      <td>7.0</td>\n",
              "      <td>51.00</td>\n",
              "      <td>87.0</td>\n",
              "      <td>136.75</td>\n",
              "      <td>1061.0</td>\n",
              "    </tr>\n",
              "    <tr>\n",
              "      <th>pill_women_old</th>\n",
              "      <td>621.0</td>\n",
              "      <td>98.466989</td>\n",
              "      <td>126.187320</td>\n",
              "      <td>1.0</td>\n",
              "      <td>15.00</td>\n",
              "      <td>45.0</td>\n",
              "      <td>130.00</td>\n",
              "      <td>726.0</td>\n",
              "    </tr>\n",
              "    <tr>\n",
              "      <th>pill_women_new</th>\n",
              "      <td>595.0</td>\n",
              "      <td>17.986555</td>\n",
              "      <td>26.655676</td>\n",
              "      <td>1.0</td>\n",
              "      <td>5.00</td>\n",
              "      <td>10.0</td>\n",
              "      <td>21.00</td>\n",
              "      <td>314.0</td>\n",
              "    </tr>\n",
              "    <tr>\n",
              "      <th>iud_women_old</th>\n",
              "      <td>250.0</td>\n",
              "      <td>29.924000</td>\n",
              "      <td>72.441128</td>\n",
              "      <td>1.0</td>\n",
              "      <td>2.00</td>\n",
              "      <td>8.0</td>\n",
              "      <td>22.50</td>\n",
              "      <td>498.0</td>\n",
              "    </tr>\n",
              "    <tr>\n",
              "      <th>iud_women_new</th>\n",
              "      <td>306.0</td>\n",
              "      <td>7.071895</td>\n",
              "      <td>9.717387</td>\n",
              "      <td>1.0</td>\n",
              "      <td>2.00</td>\n",
              "      <td>4.0</td>\n",
              "      <td>9.00</td>\n",
              "      <td>99.0</td>\n",
              "    </tr>\n",
              "    <tr>\n",
              "      <th>iud_number_dispensed</th>\n",
              "      <td>249.0</td>\n",
              "      <td>14.269076</td>\n",
              "      <td>31.723031</td>\n",
              "      <td>1.0</td>\n",
              "      <td>2.00</td>\n",
              "      <td>5.0</td>\n",
              "      <td>16.00</td>\n",
              "      <td>410.0</td>\n",
              "    </tr>\n",
              "    <tr>\n",
              "      <th>implant_number_dispensed</th>\n",
              "      <td>649.0</td>\n",
              "      <td>73.805855</td>\n",
              "      <td>138.604484</td>\n",
              "      <td>1.0</td>\n",
              "      <td>18.00</td>\n",
              "      <td>43.0</td>\n",
              "      <td>88.00</td>\n",
              "      <td>2889.0</td>\n",
              "    </tr>\n",
              "    <tr>\n",
              "      <th>injection2_number_dispensed</th>\n",
              "      <td>508.0</td>\n",
              "      <td>29.826772</td>\n",
              "      <td>51.024934</td>\n",
              "      <td>1.0</td>\n",
              "      <td>5.00</td>\n",
              "      <td>14.0</td>\n",
              "      <td>34.25</td>\n",
              "      <td>487.0</td>\n",
              "    </tr>\n",
              "    <tr>\n",
              "      <th>injection3_number_dispensed</th>\n",
              "      <td>662.0</td>\n",
              "      <td>354.691843</td>\n",
              "      <td>323.045598</td>\n",
              "      <td>1.0</td>\n",
              "      <td>132.25</td>\n",
              "      <td>260.0</td>\n",
              "      <td>449.25</td>\n",
              "      <td>1903.0</td>\n",
              "    </tr>\n",
              "    <tr>\n",
              "      <th>pill_number_dispensed</th>\n",
              "      <td>615.0</td>\n",
              "      <td>278.626016</td>\n",
              "      <td>536.933451</td>\n",
              "      <td>1.0</td>\n",
              "      <td>28.00</td>\n",
              "      <td>94.0</td>\n",
              "      <td>300.50</td>\n",
              "      <td>5711.0</td>\n",
              "    </tr>\n",
              "    <tr>\n",
              "      <th>iud_number_received</th>\n",
              "      <td>334.0</td>\n",
              "      <td>30.311377</td>\n",
              "      <td>46.266678</td>\n",
              "      <td>1.0</td>\n",
              "      <td>5.00</td>\n",
              "      <td>10.5</td>\n",
              "      <td>35.50</td>\n",
              "      <td>364.0</td>\n",
              "    </tr>\n",
              "    <tr>\n",
              "      <th>implant_number_received</th>\n",
              "      <td>643.0</td>\n",
              "      <td>138.527216</td>\n",
              "      <td>191.089246</td>\n",
              "      <td>1.0</td>\n",
              "      <td>35.50</td>\n",
              "      <td>82.0</td>\n",
              "      <td>161.00</td>\n",
              "      <td>2333.0</td>\n",
              "    </tr>\n",
              "    <tr>\n",
              "      <th>injection2_number_received</th>\n",
              "      <td>496.0</td>\n",
              "      <td>102.322581</td>\n",
              "      <td>193.269208</td>\n",
              "      <td>1.0</td>\n",
              "      <td>15.00</td>\n",
              "      <td>45.0</td>\n",
              "      <td>107.25</td>\n",
              "      <td>1621.0</td>\n",
              "    </tr>\n",
              "    <tr>\n",
              "      <th>injection3_number_received</th>\n",
              "      <td>657.0</td>\n",
              "      <td>505.001522</td>\n",
              "      <td>579.414216</td>\n",
              "      <td>5.0</td>\n",
              "      <td>183.00</td>\n",
              "      <td>335.0</td>\n",
              "      <td>538.00</td>\n",
              "      <td>4934.0</td>\n",
              "    </tr>\n",
              "    <tr>\n",
              "      <th>pill_number_received</th>\n",
              "      <td>615.0</td>\n",
              "      <td>665.076423</td>\n",
              "      <td>2107.103258</td>\n",
              "      <td>1.0</td>\n",
              "      <td>61.00</td>\n",
              "      <td>176.0</td>\n",
              "      <td>518.50</td>\n",
              "      <td>43282.0</td>\n",
              "    </tr>\n",
              "    <tr>\n",
              "      <th>iud_stock_end</th>\n",
              "      <td>0.0</td>\n",
              "      <td>NaN</td>\n",
              "      <td>NaN</td>\n",
              "      <td>NaN</td>\n",
              "      <td>NaN</td>\n",
              "      <td>NaN</td>\n",
              "      <td>NaN</td>\n",
              "      <td>NaN</td>\n",
              "    </tr>\n",
              "    <tr>\n",
              "      <th>implant_stock_end</th>\n",
              "      <td>645.0</td>\n",
              "      <td>143.289922</td>\n",
              "      <td>177.133941</td>\n",
              "      <td>1.0</td>\n",
              "      <td>38.00</td>\n",
              "      <td>91.0</td>\n",
              "      <td>174.00</td>\n",
              "      <td>1801.0</td>\n",
              "    </tr>\n",
              "    <tr>\n",
              "      <th>injection2_stock_end</th>\n",
              "      <td>0.0</td>\n",
              "      <td>NaN</td>\n",
              "      <td>NaN</td>\n",
              "      <td>NaN</td>\n",
              "      <td>NaN</td>\n",
              "      <td>NaN</td>\n",
              "      <td>NaN</td>\n",
              "      <td>NaN</td>\n",
              "    </tr>\n",
              "    <tr>\n",
              "      <th>injection3_stock_end</th>\n",
              "      <td>659.0</td>\n",
              "      <td>390.250379</td>\n",
              "      <td>461.823990</td>\n",
              "      <td>1.0</td>\n",
              "      <td>124.00</td>\n",
              "      <td>239.0</td>\n",
              "      <td>460.50</td>\n",
              "      <td>4274.0</td>\n",
              "    </tr>\n",
              "    <tr>\n",
              "      <th>pill_stock_end</th>\n",
              "      <td>626.0</td>\n",
              "      <td>694.589457</td>\n",
              "      <td>1266.391772</td>\n",
              "      <td>1.0</td>\n",
              "      <td>65.25</td>\n",
              "      <td>247.5</td>\n",
              "      <td>658.00</td>\n",
              "      <td>8775.0</td>\n",
              "    </tr>\n",
              "  </tbody>\n",
              "</table>\n",
              "</div>"
            ],
            "text/plain": [
              "                             count         mean  ...      75%      max\n",
              "month                        678.0     3.500000  ...     5.00      6.0\n",
              "year                         678.0  2019.000000  ...  2019.00   2019.0\n",
              "implant_women_old            610.0   213.509836  ...   288.50   2883.0\n",
              "implant_women_new            672.0    77.831845  ...    87.00   1344.0\n",
              "injection2_women_old         556.0    39.429856  ...    50.00   1259.0\n",
              "injection2_women_new         481.0     9.428274  ...    12.00    133.0\n",
              "injection3_women_old         678.0   495.436578  ...   665.75   2534.0\n",
              "injection3_women_new         678.0   110.523599  ...   136.75   1061.0\n",
              "pill_women_old               621.0    98.466989  ...   130.00    726.0\n",
              "pill_women_new               595.0    17.986555  ...    21.00    314.0\n",
              "iud_women_old                250.0    29.924000  ...    22.50    498.0\n",
              "iud_women_new                306.0     7.071895  ...     9.00     99.0\n",
              "iud_number_dispensed         249.0    14.269076  ...    16.00    410.0\n",
              "implant_number_dispensed     649.0    73.805855  ...    88.00   2889.0\n",
              "injection2_number_dispensed  508.0    29.826772  ...    34.25    487.0\n",
              "injection3_number_dispensed  662.0   354.691843  ...   449.25   1903.0\n",
              "pill_number_dispensed        615.0   278.626016  ...   300.50   5711.0\n",
              "iud_number_received          334.0    30.311377  ...    35.50    364.0\n",
              "implant_number_received      643.0   138.527216  ...   161.00   2333.0\n",
              "injection2_number_received   496.0   102.322581  ...   107.25   1621.0\n",
              "injection3_number_received   657.0   505.001522  ...   538.00   4934.0\n",
              "pill_number_received         615.0   665.076423  ...   518.50  43282.0\n",
              "iud_stock_end                  0.0          NaN  ...      NaN      NaN\n",
              "implant_stock_end            645.0   143.289922  ...   174.00   1801.0\n",
              "injection2_stock_end           0.0          NaN  ...      NaN      NaN\n",
              "injection3_stock_end         659.0   390.250379  ...   460.50   4274.0\n",
              "pill_stock_end               626.0   694.589457  ...   658.00   8775.0\n",
              "\n",
              "[27 rows x 8 columns]"
            ]
          },
          "metadata": {
            "tags": []
          },
          "execution_count": 12
        }
      ]
    },
    {
      "cell_type": "code",
      "metadata": {
        "colab": {
          "base_uri": "https://localhost:8080/",
          "height": 363
        },
        "id": "rCgZtoDeX44V",
        "outputId": "3315a9a0-b4e3-4ba3-f63a-36e75cdabe39"
      },
      "source": [
        "# Summary of the numerical attributes\n",
        "df.describe().transpose()"
      ],
      "execution_count": 13,
      "outputs": [
        {
          "output_type": "execute_result",
          "data": {
            "text/html": [
              "<div>\n",
              "<style scoped>\n",
              "    .dataframe tbody tr th:only-of-type {\n",
              "        vertical-align: middle;\n",
              "    }\n",
              "\n",
              "    .dataframe tbody tr th {\n",
              "        vertical-align: top;\n",
              "    }\n",
              "\n",
              "    .dataframe thead th {\n",
              "        text-align: right;\n",
              "    }\n",
              "</style>\n",
              "<table border=\"1\" class=\"dataframe\">\n",
              "  <thead>\n",
              "    <tr style=\"text-align: right;\">\n",
              "      <th></th>\n",
              "      <th>count</th>\n",
              "      <th>mean</th>\n",
              "      <th>std</th>\n",
              "      <th>min</th>\n",
              "      <th>25%</th>\n",
              "      <th>50%</th>\n",
              "      <th>75%</th>\n",
              "      <th>max</th>\n",
              "    </tr>\n",
              "  </thead>\n",
              "  <tbody>\n",
              "    <tr>\n",
              "      <th>year</th>\n",
              "      <td>35753.0</td>\n",
              "      <td>2017.433782</td>\n",
              "      <td>1.019933</td>\n",
              "      <td>2016.0</td>\n",
              "      <td>2017.0</td>\n",
              "      <td>2017.0</td>\n",
              "      <td>2018.0</td>\n",
              "      <td>2019.0</td>\n",
              "    </tr>\n",
              "    <tr>\n",
              "      <th>month</th>\n",
              "      <td>35753.0</td>\n",
              "      <td>6.169412</td>\n",
              "      <td>3.429079</td>\n",
              "      <td>1.0</td>\n",
              "      <td>3.0</td>\n",
              "      <td>6.0</td>\n",
              "      <td>9.0</td>\n",
              "      <td>12.0</td>\n",
              "    </tr>\n",
              "    <tr>\n",
              "      <th>stock_initial</th>\n",
              "      <td>35753.0</td>\n",
              "      <td>63.245518</td>\n",
              "      <td>168.661538</td>\n",
              "      <td>0.0</td>\n",
              "      <td>0.0</td>\n",
              "      <td>12.0</td>\n",
              "      <td>69.0</td>\n",
              "      <td>4320.0</td>\n",
              "    </tr>\n",
              "    <tr>\n",
              "      <th>stock_received</th>\n",
              "      <td>35753.0</td>\n",
              "      <td>14.846055</td>\n",
              "      <td>70.631782</td>\n",
              "      <td>0.0</td>\n",
              "      <td>0.0</td>\n",
              "      <td>0.0</td>\n",
              "      <td>0.0</td>\n",
              "      <td>3534.0</td>\n",
              "    </tr>\n",
              "    <tr>\n",
              "      <th>stock_distributed</th>\n",
              "      <td>35753.0</td>\n",
              "      <td>14.764327</td>\n",
              "      <td>39.848242</td>\n",
              "      <td>0.0</td>\n",
              "      <td>0.0</td>\n",
              "      <td>1.0</td>\n",
              "      <td>13.0</td>\n",
              "      <td>1728.0</td>\n",
              "    </tr>\n",
              "    <tr>\n",
              "      <th>stock_adjustment</th>\n",
              "      <td>35753.0</td>\n",
              "      <td>0.961150</td>\n",
              "      <td>37.883099</td>\n",
              "      <td>-1440.0</td>\n",
              "      <td>0.0</td>\n",
              "      <td>0.0</td>\n",
              "      <td>0.0</td>\n",
              "      <td>3003.0</td>\n",
              "    </tr>\n",
              "    <tr>\n",
              "      <th>stock_end</th>\n",
              "      <td>35753.0</td>\n",
              "      <td>64.288395</td>\n",
              "      <td>170.848479</td>\n",
              "      <td>0.0</td>\n",
              "      <td>0.0</td>\n",
              "      <td>13.0</td>\n",
              "      <td>70.0</td>\n",
              "      <td>4320.0</td>\n",
              "    </tr>\n",
              "    <tr>\n",
              "      <th>average_monthly_consumption</th>\n",
              "      <td>35753.0</td>\n",
              "      <td>14.606439</td>\n",
              "      <td>32.521384</td>\n",
              "      <td>0.0</td>\n",
              "      <td>0.0</td>\n",
              "      <td>3.0</td>\n",
              "      <td>16.0</td>\n",
              "      <td>864.0</td>\n",
              "    </tr>\n",
              "    <tr>\n",
              "      <th>stock_stockout_days</th>\n",
              "      <td>35753.0</td>\n",
              "      <td>0.000000</td>\n",
              "      <td>0.000000</td>\n",
              "      <td>0.0</td>\n",
              "      <td>0.0</td>\n",
              "      <td>0.0</td>\n",
              "      <td>0.0</td>\n",
              "      <td>0.0</td>\n",
              "    </tr>\n",
              "    <tr>\n",
              "      <th>stock_ordered</th>\n",
              "      <td>34990.0</td>\n",
              "      <td>26.658102</td>\n",
              "      <td>107.166082</td>\n",
              "      <td>0.0</td>\n",
              "      <td>0.0</td>\n",
              "      <td>0.0</td>\n",
              "      <td>20.0</td>\n",
              "      <td>10240.0</td>\n",
              "    </tr>\n",
              "  </tbody>\n",
              "</table>\n",
              "</div>"
            ],
            "text/plain": [
              "                               count         mean  ...     75%      max\n",
              "year                         35753.0  2017.433782  ...  2018.0   2019.0\n",
              "month                        35753.0     6.169412  ...     9.0     12.0\n",
              "stock_initial                35753.0    63.245518  ...    69.0   4320.0\n",
              "stock_received               35753.0    14.846055  ...     0.0   3534.0\n",
              "stock_distributed            35753.0    14.764327  ...    13.0   1728.0\n",
              "stock_adjustment             35753.0     0.961150  ...     0.0   3003.0\n",
              "stock_end                    35753.0    64.288395  ...    70.0   4320.0\n",
              "average_monthly_consumption  35753.0    14.606439  ...    16.0    864.0\n",
              "stock_stockout_days          35753.0     0.000000  ...     0.0      0.0\n",
              "stock_ordered                34990.0    26.658102  ...    20.0  10240.0\n",
              "\n",
              "[10 rows x 8 columns]"
            ]
          },
          "metadata": {
            "tags": []
          },
          "execution_count": 13
        }
      ]
    },
    {
      "cell_type": "markdown",
      "metadata": {
        "id": "DuPeBAxPoyz1"
      },
      "source": [
        "#### Merging The Train Dataset "
      ]
    },
    {
      "cell_type": "code",
      "metadata": {
        "colab": {
          "base_uri": "https://localhost:8080/",
          "height": 313
        },
        "id": "9TIdIgpToxtS",
        "outputId": "d3050abc-8b61-4d24-f9f0-d3e35b5bbf53"
      },
      "source": [
        "# Merging the train dataset with the relevant columns\n",
        "\n",
        "# adopting the site type column to the train dataset\n",
        "df=pd.merge(site[['site_code','site_type']],df,how='inner',left_on=['site_code'],right_on=['site_code'])\n",
        "\n",
        "# adopting the product type column to the train dataset\n",
        "df = pd.merge(prod[['product_code','product_type']],df,how='inner',left_on=['product_code'],right_on=['product_code'])\n",
        "\n",
        "# dropping the product code column\n",
        "df.drop(columns=['product_code'], axis = 1, inplace=True)\n",
        "\n",
        "df.head(5)"
      ],
      "execution_count": 14,
      "outputs": [
        {
          "output_type": "execute_result",
          "data": {
            "text/html": [
              "<div>\n",
              "<style scoped>\n",
              "    .dataframe tbody tr th:only-of-type {\n",
              "        vertical-align: middle;\n",
              "    }\n",
              "\n",
              "    .dataframe tbody tr th {\n",
              "        vertical-align: top;\n",
              "    }\n",
              "\n",
              "    .dataframe thead th {\n",
              "        text-align: right;\n",
              "    }\n",
              "</style>\n",
              "<table border=\"1\" class=\"dataframe\">\n",
              "  <thead>\n",
              "    <tr style=\"text-align: right;\">\n",
              "      <th></th>\n",
              "      <th>product_type</th>\n",
              "      <th>site_code</th>\n",
              "      <th>site_type</th>\n",
              "      <th>year</th>\n",
              "      <th>month</th>\n",
              "      <th>region</th>\n",
              "      <th>district</th>\n",
              "      <th>stock_initial</th>\n",
              "      <th>stock_received</th>\n",
              "      <th>stock_distributed</th>\n",
              "      <th>stock_adjustment</th>\n",
              "      <th>stock_end</th>\n",
              "      <th>average_monthly_consumption</th>\n",
              "      <th>stock_stockout_days</th>\n",
              "      <th>stock_ordered</th>\n",
              "    </tr>\n",
              "  </thead>\n",
              "  <tbody>\n",
              "    <tr>\n",
              "      <th>0</th>\n",
              "      <td>Female Condom</td>\n",
              "      <td>C4001</td>\n",
              "      <td>Hospital</td>\n",
              "      <td>2016</td>\n",
              "      <td>1</td>\n",
              "      <td>INDENIE-DJUABLIN</td>\n",
              "      <td>ABENGOUROU</td>\n",
              "      <td>0</td>\n",
              "      <td>0</td>\n",
              "      <td>0</td>\n",
              "      <td>0</td>\n",
              "      <td>0</td>\n",
              "      <td>0</td>\n",
              "      <td>0</td>\n",
              "      <td>0.0</td>\n",
              "    </tr>\n",
              "    <tr>\n",
              "      <th>1</th>\n",
              "      <td>Female Condom</td>\n",
              "      <td>C2002</td>\n",
              "      <td>Hospital</td>\n",
              "      <td>2017</td>\n",
              "      <td>1</td>\n",
              "      <td>MARAHOUE</td>\n",
              "      <td>BOUAFLE</td>\n",
              "      <td>0</td>\n",
              "      <td>0</td>\n",
              "      <td>0</td>\n",
              "      <td>0</td>\n",
              "      <td>0</td>\n",
              "      <td>0</td>\n",
              "      <td>0</td>\n",
              "      <td>0.0</td>\n",
              "    </tr>\n",
              "    <tr>\n",
              "      <th>2</th>\n",
              "      <td>Female Condom</td>\n",
              "      <td>C2002</td>\n",
              "      <td>Hospital</td>\n",
              "      <td>2017</td>\n",
              "      <td>2</td>\n",
              "      <td>MARAHOUE</td>\n",
              "      <td>BOUAFLE</td>\n",
              "      <td>0</td>\n",
              "      <td>0</td>\n",
              "      <td>0</td>\n",
              "      <td>0</td>\n",
              "      <td>0</td>\n",
              "      <td>0</td>\n",
              "      <td>0</td>\n",
              "      <td>0.0</td>\n",
              "    </tr>\n",
              "    <tr>\n",
              "      <th>3</th>\n",
              "      <td>Female Condom</td>\n",
              "      <td>C2002</td>\n",
              "      <td>Hospital</td>\n",
              "      <td>2017</td>\n",
              "      <td>3</td>\n",
              "      <td>MARAHOUE</td>\n",
              "      <td>BOUAFLE</td>\n",
              "      <td>0</td>\n",
              "      <td>0</td>\n",
              "      <td>0</td>\n",
              "      <td>0</td>\n",
              "      <td>0</td>\n",
              "      <td>0</td>\n",
              "      <td>0</td>\n",
              "      <td>0.0</td>\n",
              "    </tr>\n",
              "    <tr>\n",
              "      <th>4</th>\n",
              "      <td>Female Condom</td>\n",
              "      <td>C2002</td>\n",
              "      <td>Hospital</td>\n",
              "      <td>2017</td>\n",
              "      <td>4</td>\n",
              "      <td>MARAHOUE</td>\n",
              "      <td>BOUAFLE</td>\n",
              "      <td>0</td>\n",
              "      <td>0</td>\n",
              "      <td>0</td>\n",
              "      <td>0</td>\n",
              "      <td>0</td>\n",
              "      <td>0</td>\n",
              "      <td>0</td>\n",
              "      <td>0.0</td>\n",
              "    </tr>\n",
              "  </tbody>\n",
              "</table>\n",
              "</div>"
            ],
            "text/plain": [
              "    product_type site_code  ... stock_stockout_days  stock_ordered\n",
              "0  Female Condom     C4001  ...                   0            0.0\n",
              "1  Female Condom     C2002  ...                   0            0.0\n",
              "2  Female Condom     C2002  ...                   0            0.0\n",
              "3  Female Condom     C2002  ...                   0            0.0\n",
              "4  Female Condom     C2002  ...                   0            0.0\n",
              "\n",
              "[5 rows x 15 columns]"
            ]
          },
          "metadata": {
            "tags": []
          },
          "execution_count": 14
        }
      ]
    },
    {
      "cell_type": "markdown",
      "metadata": {
        "id": "JkuUxwjKycNT"
      },
      "source": [
        "## **Data Cleaning**"
      ]
    },
    {
      "cell_type": "markdown",
      "metadata": {
        "id": "amwcLWheZfOo"
      },
      "source": [
        "### **Removing Duplicates**\n"
      ]
    },
    {
      "cell_type": "code",
      "metadata": {
        "colab": {
          "base_uri": "https://localhost:8080/"
        },
        "id": "g9K39YetoTZ-",
        "outputId": "beb2d58c-1a93-4638-b427-5ae84cff7846"
      },
      "source": [
        "# Check for the consistency in our data\n",
        "print('annual\\n',annual.duplicated().sum())\n",
        "print('monthly\\n',monthly.duplicated().sum())\n",
        "print('train\\n',df.duplicated().sum())\n"
      ],
      "execution_count": 15,
      "outputs": [
        {
          "output_type": "stream",
          "text": [
            "annual\n",
            " 0\n",
            "monthly\n",
            " 0\n",
            "train\n",
            " 396\n"
          ],
          "name": "stdout"
        }
      ]
    },
    {
      "cell_type": "markdown",
      "metadata": {
        "id": "L4gOz1GmMxb8"
      },
      "source": [
        "### **Dealing with Missing Values**"
      ]
    },
    {
      "cell_type": "markdown",
      "metadata": {
        "id": "_JVpRp34cCiM"
      },
      "source": [
        "##### Annual dataset"
      ]
    },
    {
      "cell_type": "code",
      "metadata": {
        "colab": {
          "base_uri": "https://localhost:8080/"
        },
        "id": "XezvG2EbkZ_K",
        "outputId": "7470a6b9-4040-43d0-f74d-598bc59bd2dd"
      },
      "source": [
        "#Calaculating the percentage of missing values and the visualising it \n",
        "# Count the missing values\n",
        "missing_count = annual.isnull().sum() \n",
        "#the count of all values\n",
        "value_count = annual.isnull().count() \n",
        "#the percetage of missing values\n",
        "missing_percentage = round(missing_count / value_count * 100,2) \n",
        "#Cretaing a dataframe\n",
        "missing_df = pd.DataFrame({'count' : missing_count, 'percentage' : missing_percentage}) \n",
        "print(missing_df)"
      ],
      "execution_count": 16,
      "outputs": [
        {
          "output_type": "stream",
          "text": [
            "                             count  percentage\n",
            "district                         0        0.00\n",
            "year                             0        0.00\n",
            "implant_women_old               13        3.83\n",
            "implant_women_new                2        0.59\n",
            "injection2_women_old             2        0.59\n",
            "injection2_women_new             5        1.47\n",
            "injection3_women_old             0        0.00\n",
            "injection3_women_new             0        0.00\n",
            "pill_women_old                   0        0.00\n",
            "pill_women_new                   1        0.29\n",
            "iud_women_old                  127       37.46\n",
            "iud_women_new                   62       18.29\n",
            "iud_number_dispensed           106       31.27\n",
            "implant_number_dispensed         6        1.77\n",
            "injection2_number_dispensed      8        2.36\n",
            "injection3_number_dispensed      1        0.29\n",
            "pill_number_dispensed            5        1.47\n",
            "iud_number_received             94       27.73\n",
            "implant_number_received          6        1.77\n",
            "injection2_number_received      11        3.24\n",
            "injection3_number_received       2        0.59\n",
            "pill_number_received             7        2.06\n",
            "iud_stock_end                  339      100.00\n",
            "implant_stock_end               73       21.53\n",
            "injection2_stock_end           339      100.00\n",
            "injection3_stock_end            68       20.06\n",
            "pill_stock_end                  73       21.53\n"
          ],
          "name": "stdout"
        }
      ]
    },
    {
      "cell_type": "code",
      "metadata": {
        "id": "i4qtynKFIzki"
      },
      "source": [
        "#Dropping the iud_stock_end and injection2_stock_end\n",
        "annual.drop(columns = [\"iud_stock_end\", \"injection2_stock_end\"], inplace = True)"
      ],
      "execution_count": 17,
      "outputs": []
    },
    {
      "cell_type": "code",
      "metadata": {
        "colab": {
          "base_uri": "https://localhost:8080/"
        },
        "id": "WAa_DcmlkhHd",
        "outputId": "0455042a-4514-4e93-83f4-4da2db212038"
      },
      "source": [
        "# filling the null values with zero\n",
        "annual.fillna(0, inplace=True)\n",
        "annual.isnull().sum()"
      ],
      "execution_count": 18,
      "outputs": [
        {
          "output_type": "execute_result",
          "data": {
            "text/plain": [
              "district                       0\n",
              "year                           0\n",
              "implant_women_old              0\n",
              "implant_women_new              0\n",
              "injection2_women_old           0\n",
              "injection2_women_new           0\n",
              "injection3_women_old           0\n",
              "injection3_women_new           0\n",
              "pill_women_old                 0\n",
              "pill_women_new                 0\n",
              "iud_women_old                  0\n",
              "iud_women_new                  0\n",
              "iud_number_dispensed           0\n",
              "implant_number_dispensed       0\n",
              "injection2_number_dispensed    0\n",
              "injection3_number_dispensed    0\n",
              "pill_number_dispensed          0\n",
              "iud_number_received            0\n",
              "implant_number_received        0\n",
              "injection2_number_received     0\n",
              "injection3_number_received     0\n",
              "pill_number_received           0\n",
              "implant_stock_end              0\n",
              "injection3_stock_end           0\n",
              "pill_stock_end                 0\n",
              "dtype: int64"
            ]
          },
          "metadata": {
            "tags": []
          },
          "execution_count": 18
        }
      ]
    },
    {
      "cell_type": "markdown",
      "metadata": {
        "id": "7aIcbnfacG9s"
      },
      "source": [
        "##### monthly dataset"
      ]
    },
    {
      "cell_type": "code",
      "metadata": {
        "colab": {
          "base_uri": "https://localhost:8080/"
        },
        "id": "PoxEzg6dYpbn",
        "outputId": "3d524514-32b2-4250-a4ba-ba2028c0f504"
      },
      "source": [
        "#Calaculating the percentage of missing values and the visualising it \n",
        "# Count the missing values\n",
        "missing_count = monthly.isnull().sum() \n",
        "#the count of all values\n",
        "value_count = monthly.isnull().count() \n",
        "#the percetage of missing values\n",
        "missing_percentage = round(missing_count / value_count * 100,2) \n",
        "#Cretaing a dataframe\n",
        "missing_df = pd.DataFrame({'count' : missing_count, 'percentage' : missing_percentage}) \n",
        "print(missing_df)"
      ],
      "execution_count": 19,
      "outputs": [
        {
          "output_type": "stream",
          "text": [
            "                             count  percentage\n",
            "district                         0        0.00\n",
            "month                            0        0.00\n",
            "year                             0        0.00\n",
            "implant_women_old               68       10.03\n",
            "implant_women_new                6        0.88\n",
            "injection2_women_old           122       17.99\n",
            "injection2_women_new           197       29.06\n",
            "injection3_women_old             0        0.00\n",
            "injection3_women_new             0        0.00\n",
            "pill_women_old                  57        8.41\n",
            "pill_women_new                  83       12.24\n",
            "iud_women_old                  428       63.13\n",
            "iud_women_new                  372       54.87\n",
            "iud_number_dispensed           429       63.27\n",
            "implant_number_dispensed        29        4.28\n",
            "injection2_number_dispensed    170       25.07\n",
            "injection3_number_dispensed     16        2.36\n",
            "pill_number_dispensed           63        9.29\n",
            "iud_number_received            344       50.74\n",
            "implant_number_received         35        5.16\n",
            "injection2_number_received     182       26.84\n",
            "injection3_number_received      21        3.10\n",
            "pill_number_received            63        9.29\n",
            "iud_stock_end                  678      100.00\n",
            "implant_stock_end               33        4.87\n",
            "injection2_stock_end           678      100.00\n",
            "injection3_stock_end            19        2.80\n",
            "pill_stock_end                  52        7.67\n"
          ],
          "name": "stdout"
        }
      ]
    },
    {
      "cell_type": "code",
      "metadata": {
        "id": "-IM-lj6lizQq"
      },
      "source": [
        "#Dropping the iud_stock_end and injection2_stock_end\n",
        "monthly.drop(columns = [\"iud_stock_end\", \"injection2_stock_end\"], inplace = True)"
      ],
      "execution_count": 20,
      "outputs": []
    },
    {
      "cell_type": "code",
      "metadata": {
        "colab": {
          "base_uri": "https://localhost:8080/"
        },
        "id": "BFjjr6vJeFhr",
        "outputId": "e2f2b563-63e7-4da1-ac61-3d298d9dd2ba"
      },
      "source": [
        "# filling the null values with zero\n",
        "monthly.fillna(0, inplace=True)\n",
        "monthly.isnull().sum()"
      ],
      "execution_count": 21,
      "outputs": [
        {
          "output_type": "execute_result",
          "data": {
            "text/plain": [
              "district                       0\n",
              "month                          0\n",
              "year                           0\n",
              "implant_women_old              0\n",
              "implant_women_new              0\n",
              "injection2_women_old           0\n",
              "injection2_women_new           0\n",
              "injection3_women_old           0\n",
              "injection3_women_new           0\n",
              "pill_women_old                 0\n",
              "pill_women_new                 0\n",
              "iud_women_old                  0\n",
              "iud_women_new                  0\n",
              "iud_number_dispensed           0\n",
              "implant_number_dispensed       0\n",
              "injection2_number_dispensed    0\n",
              "injection3_number_dispensed    0\n",
              "pill_number_dispensed          0\n",
              "iud_number_received            0\n",
              "implant_number_received        0\n",
              "injection2_number_received     0\n",
              "injection3_number_received     0\n",
              "pill_number_received           0\n",
              "implant_stock_end              0\n",
              "injection3_stock_end           0\n",
              "pill_stock_end                 0\n",
              "dtype: int64"
            ]
          },
          "metadata": {
            "tags": []
          },
          "execution_count": 21
        }
      ]
    },
    {
      "cell_type": "markdown",
      "metadata": {
        "id": "e3hqQAhQcPHl"
      },
      "source": [
        "##### Train dataset"
      ]
    },
    {
      "cell_type": "code",
      "metadata": {
        "colab": {
          "base_uri": "https://localhost:8080/"
        },
        "id": "C4aw9bL0cn19",
        "outputId": "98fba78e-8366-41c3-e341-fc2dfa968065"
      },
      "source": [
        "#Calaculating the percentage of missing values and the visualising it \n",
        "# Count the missing values\n",
        "missing_count = df.isnull().sum() \n",
        "#the count of all values\n",
        "value_count = df.isnull().count() \n",
        "#the percetage of missing values\n",
        "missing_percentage = round(missing_count / value_count * 100,2) \n",
        "#Cretaing a dataframe\n",
        "missing_df = pd.DataFrame({'count' : missing_count, 'percentage' : missing_percentage}) \n",
        "print(missing_df)"
      ],
      "execution_count": 22,
      "outputs": [
        {
          "output_type": "stream",
          "text": [
            "                             count  percentage\n",
            "product_type                     0        0.00\n",
            "site_code                        0        0.00\n",
            "site_type                        0        0.00\n",
            "year                             0        0.00\n",
            "month                            0        0.00\n",
            "region                           0        0.00\n",
            "district                         0        0.00\n",
            "stock_initial                    0        0.00\n",
            "stock_received                   0        0.00\n",
            "stock_distributed                0        0.00\n",
            "stock_adjustment                 0        0.00\n",
            "stock_end                        0        0.00\n",
            "average_monthly_consumption      0        0.00\n",
            "stock_stockout_days              0        0.00\n",
            "stock_ordered                  763        2.13\n"
          ],
          "name": "stdout"
        }
      ]
    },
    {
      "cell_type": "markdown",
      "metadata": {
        "id": "FWgu-MQ1jl-u"
      },
      "source": [
        "### **Taking care of invalid zeros in the dataset**\n"
      ]
    },
    {
      "cell_type": "markdown",
      "metadata": {
        "id": "8ufwD8cxjl-v"
      },
      "source": [
        "These invalid 0 values may be identified, for example, when:\n",
        "\n",
        "A) All fields (possibly with the exception of stock_ordered) are recorded as '0' for a given contraceptive product, month and service delivery site; or\n",
        "\n",
        "B) Stock_distributed for a contraceptive product at a service delivery site is reported in a given month as '0', even though stock was available (stock_initial was above 0) and stock_distributed is historically well above 0."
      ]
    },
    {
      "cell_type": "code",
      "metadata": {
        "id": "vxc-pUqVjl-v"
      },
      "source": [
        "# Defining a function that takes the conditions listed above and fills invalid zeros with a ?\n",
        "def invalid(stock_intial, average, stock_dist):\n",
        "    if stock_intial > 0 and average > 0 and stock_dist == 0:\n",
        "      stock_dist = '?'\n",
        "    else:\n",
        "        stock_dist=stock_dist\n",
        "    return stock_dist\n",
        "\n",
        "#Mapping our function onto a new column\n",
        "df['NewColumn_1'] = df.apply(lambda x: invalid(x['stock_initial'], x['average_monthly_consumption'], x['stock_distributed']), axis=1)\n",
        "df.replace('?', np.nan, inplace=True)\n",
        "df.rename(columns={\"NewColumn_1\" : \"stock_distributed2\"}, inplace = True)"
      ],
      "execution_count": 23,
      "outputs": []
    },
    {
      "cell_type": "code",
      "metadata": {
        "colab": {
          "base_uri": "https://localhost:8080/"
        },
        "id": "nT6BrqMOjl-w",
        "outputId": "9814e845-ccb3-4d71-df97-c60add368c05"
      },
      "source": [
        "#Cheking missing values on our columns\n",
        "df.isnull().sum()"
      ],
      "execution_count": 24,
      "outputs": [
        {
          "output_type": "execute_result",
          "data": {
            "text/plain": [
              "product_type                      0\n",
              "site_code                         0\n",
              "site_type                         0\n",
              "year                              0\n",
              "month                             0\n",
              "region                            0\n",
              "district                          0\n",
              "stock_initial                     0\n",
              "stock_received                    0\n",
              "stock_distributed                 0\n",
              "stock_adjustment                  0\n",
              "stock_end                         0\n",
              "average_monthly_consumption       0\n",
              "stock_stockout_days               0\n",
              "stock_ordered                   763\n",
              "stock_distributed2             2858\n",
              "dtype: int64"
            ]
          },
          "metadata": {
            "tags": []
          },
          "execution_count": 24
        }
      ]
    },
    {
      "cell_type": "code",
      "metadata": {
        "id": "ILgLUGabjl-x"
      },
      "source": [
        "# Dropping the stock_distrubeted column\n",
        "df.drop(columns = [\"stock_distributed\"], inplace = True )"
      ],
      "execution_count": 25,
      "outputs": []
    },
    {
      "cell_type": "code",
      "metadata": {
        "id": "OAftBHzfcudn",
        "colab": {
          "base_uri": "https://localhost:8080/"
        },
        "outputId": "b84a2fc5-ed28-4f58-d1a3-1e53744721ea"
      },
      "source": [
        "#Filling null values with the mode\n",
        "df[\"stock_ordered\"].fillna(df[\"stock_ordered\"].mode()[0], inplace = True)\n",
        "\n",
        "# Cheking if null values have been replaced with the mode\n",
        "df.isnull().sum()"
      ],
      "execution_count": 26,
      "outputs": [
        {
          "output_type": "execute_result",
          "data": {
            "text/plain": [
              "product_type                      0\n",
              "site_code                         0\n",
              "site_type                         0\n",
              "year                              0\n",
              "month                             0\n",
              "region                            0\n",
              "district                          0\n",
              "stock_initial                     0\n",
              "stock_received                    0\n",
              "stock_adjustment                  0\n",
              "stock_end                         0\n",
              "average_monthly_consumption       0\n",
              "stock_stockout_days               0\n",
              "stock_ordered                     0\n",
              "stock_distributed2             2858\n",
              "dtype: int64"
            ]
          },
          "metadata": {
            "tags": []
          },
          "execution_count": 26
        }
      ]
    },
    {
      "cell_type": "code",
      "metadata": {
        "id": "gLrSiYrkjl-x"
      },
      "source": [
        "#Dropping the null values in our stock_distributed2 column\n",
        "df.dropna(axis = 0, inplace = True)"
      ],
      "execution_count": 27,
      "outputs": []
    },
    {
      "cell_type": "code",
      "metadata": {
        "colab": {
          "base_uri": "https://localhost:8080/"
        },
        "id": "LXrwxxwRjl-x",
        "outputId": "aa4f9bb3-9e38-439f-f754-dfb6e94edf4c"
      },
      "source": [
        "#Cheking to see whether the null values have been dropped\n",
        "df.isnull().sum()"
      ],
      "execution_count": 28,
      "outputs": [
        {
          "output_type": "execute_result",
          "data": {
            "text/plain": [
              "product_type                   0\n",
              "site_code                      0\n",
              "site_type                      0\n",
              "year                           0\n",
              "month                          0\n",
              "region                         0\n",
              "district                       0\n",
              "stock_initial                  0\n",
              "stock_received                 0\n",
              "stock_adjustment               0\n",
              "stock_end                      0\n",
              "average_monthly_consumption    0\n",
              "stock_stockout_days            0\n",
              "stock_ordered                  0\n",
              "stock_distributed2             0\n",
              "dtype: int64"
            ]
          },
          "metadata": {
            "tags": []
          },
          "execution_count": 28
        }
      ]
    },
    {
      "cell_type": "markdown",
      "metadata": {
        "id": "K0v8OgNGTjPA"
      },
      "source": [
        "### **Checking for outliers**"
      ]
    },
    {
      "cell_type": "code",
      "metadata": {
        "colab": {
          "base_uri": "https://localhost:8080/",
          "height": 1000
        },
        "id": "SxDUt2Gz5j9q",
        "outputId": "6579e17b-66e5-4d03-e194-f53115ad162c"
      },
      "source": [
        "# Checking for outliers for numeric variables\n",
        "import seaborn as sns\n",
        "cols = ['stock_initial', 'stock_received', 'stock_adjustment', 'stock_end',\n",
        "       'average_monthly_consumption', 'stock_ordered', 'stock_distributed2']\n",
        "\n",
        "fig, axs = plt.subplots(len(cols), figsize=(6,44))\n",
        "\n",
        "for i, col_val in enumerate(cols):\n",
        "    sns.boxplot(y=df[col_val], ax=axs[i])\n",
        "    axs[i].set_xlabel(col_val, fontsize=10)"
      ],
      "execution_count": 29,
      "outputs": [
        {
          "output_type": "display_data",
          "data": {
            "image/png": "[encoded data removed]",
            "text/plain": [
              "<Figure size 432x3168 with 7 Axes>"
            ]
          },
          "metadata": {
            "tags": [],
            "needs_background": "light"
          }
        }
      ]
    },
    {
      "cell_type": "markdown",
      "metadata": {
        "id": "7SMXVlkyMMyD"
      },
      "source": [
        "The Number of outliers after dropping is quite significant so we won't drop the outliers because we may lose valuable information, we will consider log transformation instead for this case of our dataset"
      ]
    },
    {
      "cell_type": "code",
      "metadata": {
        "id": "enLPxSnROohX"
      },
      "source": [
        "#Exporting to csv\n",
        "annual.to_csv(\"Contraceptive_case_data_annual_cleaned.csv\")\n",
        "\n",
        "df.to_csv(\"train_cleaned.csv\")\n",
        "\n",
        "monthly.to_csv(\"monthly_cleaned.csv\")"
      ],
      "execution_count": 30,
      "outputs": []
    },
    {
      "cell_type": "markdown",
      "metadata": {
        "id": "Ru9zk5PDsp4m"
      },
      "source": [
        "## **Exploratory Data Analysis**"
      ]
    },
    {
      "cell_type": "markdown",
      "metadata": {
        "id": "ORwiy0OmzsNt"
      },
      "source": [
        "### **Distribution Plots**"
      ]
    },
    {
      "cell_type": "code",
      "metadata": {
        "colab": {
          "base_uri": "https://localhost:8080/",
          "height": 1000
        },
        "id": "h1liSn9OMeC5",
        "outputId": "9b1021df-d529-473b-c739-d642df25feae"
      },
      "source": [
        "import seaborn as sns\n",
        "cols = ['stock_initial', 'stock_received', 'stock_adjustment', 'stock_end',\n",
        "       'average_monthly_consumption', 'stock_ordered', 'stock_distributed2']\n",
        "\n",
        "fig, axs = plt.subplots(len(cols), figsize=(6,44))\n",
        "\n",
        "for i, col_val in enumerate(cols):\n",
        "    sns.distplot(df[col_val], ax=axs[i])\n",
        "    axs[i].set_xlabel(col_val, fontsize=10)"
      ],
      "execution_count": 31,
      "outputs": [
        {
          "output_type": "display_data",
          "data": {
            "image/png": "[encoded data removed]",
            "text/plain": [
              "<Figure size 432x3168 with 7 Axes>"
            ]
          },
          "metadata": {
            "tags": [],
            "needs_background": "light"
          }
        }
      ]
    },
    {
      "cell_type": "code",
      "metadata": {
        "colab": {
          "base_uri": "https://localhost:8080/",
          "height": 1000
        },
        "id": "C0rPonOwMchH",
        "outputId": "08c8e4ca-2ee5-4229-e01c-f907581f402d"
      },
      "source": [
        "# distribution\n",
        "import seaborn as sns\n",
        "cols = ['implant_women_old', 'implant_women_new',\n",
        "       'injection2_women_old', 'injection2_women_new', 'injection3_women_old',\n",
        "       'injection3_women_new', 'pill_women_old', 'pill_women_new',\n",
        "       'iud_women_old', 'iud_women_new', 'iud_number_dispensed',\n",
        "       'implant_number_dispensed', 'injection2_number_dispensed',\n",
        "       'injection3_number_dispensed', 'pill_number_dispensed']\n",
        "\n",
        "fig, axs = plt.subplots(len(cols), figsize=(6,44))\n",
        "\n",
        "for i, col_val in enumerate(cols):\n",
        "    sns.distplot(annual[col_val], ax=axs[i])\n",
        "    axs[i].set_xlabel(col_val, fontsize=10)"
      ],
      "execution_count": 32,
      "outputs": [
        {
          "output_type": "display_data",
          "data": {
            "image/png": "[encoded data removed]",
            "text/plain": [
              "<Figure size 432x3168 with 15 Axes>"
            ]
          },
          "metadata": {
            "tags": [],
            "needs_background": "light"
          }
        }
      ]
    },
    {
      "cell_type": "markdown",
      "metadata": {
        "id": "crD0Xk3Jz68W"
      },
      "source": [
        "### **Univariate Data Analysis**"
      ]
    },
    {
      "cell_type": "markdown",
      "metadata": {
        "id": "XyOkpG_8dBHi"
      },
      "source": [
        "#### **Measures of Central Tendency**"
      ]
    },
    {
      "cell_type": "code",
      "metadata": {
        "colab": {
          "base_uri": "https://localhost:8080/"
        },
        "id": "AgWUCw2cc_rs",
        "outputId": "aea684ba-fd1d-4343-bd4f-5c1ed86652c0"
      },
      "source": [
        "# Finding the mean of our numerical variables\n",
        "\n",
        "num = df[['stock_initial', 'stock_received', 'stock_adjustment', 'stock_end',\n",
        "       'average_monthly_consumption', 'stock_ordered', 'stock_distributed2']]\n",
        "\n",
        "num.mean()"
      ],
      "execution_count": 33,
      "outputs": [
        {
          "output_type": "execute_result",
          "data": {
            "text/plain": [
              "stock_initial                  61.330719\n",
              "stock_received                 15.455601\n",
              "stock_adjustment                1.191275\n",
              "stock_end                      61.930506\n",
              "average_monthly_consumption    14.827633\n",
              "stock_ordered                  27.761332\n",
              "stock_distributed2             16.047089\n",
              "dtype: float64"
            ]
          },
          "metadata": {
            "tags": []
          },
          "execution_count": 33
        }
      ]
    },
    {
      "cell_type": "code",
      "metadata": {
        "colab": {
          "base_uri": "https://localhost:8080/",
          "height": 101
        },
        "id": "5vli_5aYeZFQ",
        "outputId": "f867ecdb-294c-4dc4-9d98-2e8e8ce6e1b3"
      },
      "source": [
        "# Finding the mode of our numerical variables\n",
        "\n",
        "num.mode()"
      ],
      "execution_count": 34,
      "outputs": [
        {
          "output_type": "execute_result",
          "data": {
            "text/html": [
              "<div>\n",
              "<style scoped>\n",
              "    .dataframe tbody tr th:only-of-type {\n",
              "        vertical-align: middle;\n",
              "    }\n",
              "\n",
              "    .dataframe tbody tr th {\n",
              "        vertical-align: top;\n",
              "    }\n",
              "\n",
              "    .dataframe thead th {\n",
              "        text-align: right;\n",
              "    }\n",
              "</style>\n",
              "<table border=\"1\" class=\"dataframe\">\n",
              "  <thead>\n",
              "    <tr style=\"text-align: right;\">\n",
              "      <th></th>\n",
              "      <th>stock_initial</th>\n",
              "      <th>stock_received</th>\n",
              "      <th>stock_adjustment</th>\n",
              "      <th>stock_end</th>\n",
              "      <th>average_monthly_consumption</th>\n",
              "      <th>stock_ordered</th>\n",
              "      <th>stock_distributed2</th>\n",
              "    </tr>\n",
              "  </thead>\n",
              "  <tbody>\n",
              "    <tr>\n",
              "      <th>0</th>\n",
              "      <td>0</td>\n",
              "      <td>0</td>\n",
              "      <td>0</td>\n",
              "      <td>0</td>\n",
              "      <td>0</td>\n",
              "      <td>0.0</td>\n",
              "      <td>0.0</td>\n",
              "    </tr>\n",
              "  </tbody>\n",
              "</table>\n",
              "</div>"
            ],
            "text/plain": [
              "   stock_initial  stock_received  ...  stock_ordered  stock_distributed2\n",
              "0              0               0  ...            0.0                 0.0\n",
              "\n",
              "[1 rows x 7 columns]"
            ]
          },
          "metadata": {
            "tags": []
          },
          "execution_count": 34
        }
      ]
    },
    {
      "cell_type": "code",
      "metadata": {
        "colab": {
          "base_uri": "https://localhost:8080/"
        },
        "id": "HvYZxQlifvpa",
        "outputId": "b9270a56-b30a-4b4b-c27b-43e172c7153d"
      },
      "source": [
        "# Finding the median \n",
        "\n",
        "num.median()"
      ],
      "execution_count": 35,
      "outputs": [
        {
          "output_type": "execute_result",
          "data": {
            "text/plain": [
              "stock_initial                  10.0\n",
              "stock_received                  0.0\n",
              "stock_adjustment                0.0\n",
              "stock_end                      10.0\n",
              "average_monthly_consumption     3.0\n",
              "stock_ordered                   0.0\n",
              "stock_distributed2              2.0\n",
              "dtype: float64"
            ]
          },
          "metadata": {
            "tags": []
          },
          "execution_count": 35
        }
      ]
    },
    {
      "cell_type": "markdown",
      "metadata": {
        "id": "dQje1zl1f9cf"
      },
      "source": [
        "#### **Measures of Dispersion**"
      ]
    },
    {
      "cell_type": "code",
      "metadata": {
        "colab": {
          "base_uri": "https://localhost:8080/"
        },
        "id": "72AkC7e_f7qN",
        "outputId": "9fc7a6f0-82c2-4dff-f729-37c4c3f3acbe"
      },
      "source": [
        "# Calculating the variance\n",
        "\n",
        "num.var()"
      ],
      "execution_count": null,
      "outputs": [
        {
          "output_type": "execute_result",
          "data": {
            "text/plain": [
              "stock_initial                  28051.345446\n",
              "stock_received                  5259.157442\n",
              "stock_adjustment                1456.977032\n",
              "stock_end                      28529.547612\n",
              "average_monthly_consumption     1098.478102\n",
              "stock_ordered                  12125.046064\n",
              "stock_distributed2              1705.260536\n",
              "dtype: float64"
            ]
          },
          "metadata": {
            "tags": []
          },
          "execution_count": 28
        }
      ]
    },
    {
      "cell_type": "code",
      "metadata": {
        "colab": {
          "base_uri": "https://localhost:8080/"
        },
        "id": "LIVla15IganO",
        "outputId": "97d25afb-9e93-4a3e-a02b-2d967b29b313"
      },
      "source": [
        "# Calculating the standard deviation\n",
        "\n",
        "num.std()"
      ],
      "execution_count": null,
      "outputs": [
        {
          "output_type": "execute_result",
          "data": {
            "text/plain": [
              "stock_initial                  167.485359\n",
              "stock_received                  72.520049\n",
              "stock_adjustment                38.170369\n",
              "stock_end                      168.906920\n",
              "average_monthly_consumption     33.143296\n",
              "stock_ordered                  110.113787\n",
              "stock_distributed2              41.294800\n",
              "dtype: float64"
            ]
          },
          "metadata": {
            "tags": []
          },
          "execution_count": 29
        }
      ]
    },
    {
      "cell_type": "code",
      "metadata": {
        "colab": {
          "base_uri": "https://localhost:8080/"
        },
        "id": "CF7fRwNVgs0f",
        "outputId": "57536cc0-d871-46fb-8848-01c36aa461f4"
      },
      "source": [
        "#skewness\n",
        "def my_skew():\n",
        "  for column in df:\n",
        "    columncontent = df[column]\n",
        "    if column in num:\n",
        "      skew = columncontent.skew()\n",
        "      if skew > 0:\n",
        "        print('Positvely skewed')\n",
        "      elif skew == 0:\n",
        "        print('Symmetric skew')\n",
        "      else:\n",
        "        print('negatively skewed')\n",
        "\n",
        "      print('column name', column)\n",
        "      print('Column skew:', skew)\n",
        "      print('\\n') \n",
        "#calling\n",
        "print(my_skew())\n"
      ],
      "execution_count": null,
      "outputs": [
        {
          "output_type": "stream",
          "text": [
            "Positvely skewed\n",
            "column name stock_initial\n",
            "Column skew: 9.680581194649628\n",
            "\n",
            "\n",
            "Positvely skewed\n",
            "column name stock_received\n",
            "Column skew: 15.459484988912466\n",
            "\n",
            "\n",
            "Positvely skewed\n",
            "column name stock_adjustment\n",
            "Column skew: 25.344162009183087\n",
            "\n",
            "\n",
            "Positvely skewed\n",
            "column name stock_end\n",
            "Column skew: 9.687333999313838\n",
            "\n",
            "\n",
            "Positvely skewed\n",
            "column name average_monthly_consumption\n",
            "Column skew: 6.1341692295877905\n",
            "\n",
            "\n",
            "Positvely skewed\n",
            "column name stock_ordered\n",
            "Column skew: 39.14941677020827\n",
            "\n",
            "\n",
            "Positvely skewed\n",
            "column name stock_distributed2\n",
            "Column skew: 9.548566312499839\n",
            "\n",
            "\n",
            "None\n"
          ],
          "name": "stdout"
        }
      ]
    },
    {
      "cell_type": "code",
      "metadata": {
        "colab": {
          "base_uri": "https://localhost:8080/"
        },
        "id": "Z8A_zPlThAmp",
        "outputId": "9f2744f5-177c-49da-99e0-98eed97443d7"
      },
      "source": [
        "#kurtosis\n",
        "def kurt():\n",
        "  for column in df:\n",
        "    columncontent = df[column]\n",
        "    if column in num:\n",
        "      kurt = columncontent.kurt()\n",
        "      if kurt > 0:\n",
        "        print('Leptokurtic kurtosis')\n",
        "      elif kurt < 0:\n",
        "        print('platykurtic distribution')\n",
        "      else:\n",
        "        print('mesokurtic distribution')\n",
        "\n",
        "      print('column name', column)\n",
        "      print('Column kurt:', kurt)\n",
        "      print('\\n') \n",
        "#calling\n",
        "print(kurt())"
      ],
      "execution_count": null,
      "outputs": [
        {
          "output_type": "stream",
          "text": [
            "Leptokurtic kurtosis\n",
            "column name stock_initial\n",
            "Column kurt: 148.16266412977103\n",
            "\n",
            "\n",
            "Leptokurtic kurtosis\n",
            "column name stock_received\n",
            "Column kurt: 439.12513522618184\n",
            "\n",
            "\n",
            "Leptokurtic kurtosis\n",
            "column name stock_adjustment\n",
            "Column kurt: 2108.5245186840307\n",
            "\n",
            "\n",
            "Leptokurtic kurtosis\n",
            "column name stock_end\n",
            "Column kurt: 146.90394319643133\n",
            "\n",
            "\n",
            "Leptokurtic kurtosis\n",
            "column name average_monthly_consumption\n",
            "Column kurt: 66.79249780718084\n",
            "\n",
            "\n",
            "Leptokurtic kurtosis\n",
            "column name stock_ordered\n",
            "Column kurt: 2838.7997727208663\n",
            "\n",
            "\n",
            "Leptokurtic kurtosis\n",
            "column name stock_distributed2\n",
            "Column kurt: 200.65260342897787\n",
            "\n",
            "\n",
            "None\n"
          ],
          "name": "stdout"
        }
      ]
    },
    {
      "cell_type": "markdown",
      "metadata": {
        "id": "_Qde07TniKWc"
      },
      "source": [
        "#### **Frequency Tables**"
      ]
    },
    {
      "cell_type": "code",
      "metadata": {
        "colab": {
          "base_uri": "https://localhost:8080/"
        },
        "id": "nSPB46lThfMF",
        "outputId": "85a746e0-de27-4c41-eba8-ce8c79455535"
      },
      "source": [
        "# Finding the unique values in our district column\n",
        "\n",
        "df['district'].nunique()"
      ],
      "execution_count": null,
      "outputs": [
        {
          "output_type": "execute_result",
          "data": {
            "text/plain": [
              "80"
            ]
          },
          "metadata": {
            "tags": []
          },
          "execution_count": 32
        }
      ]
    },
    {
      "cell_type": "code",
      "metadata": {
        "colab": {
          "base_uri": "https://localhost:8080/"
        },
        "id": "M3A6Gerein-Z",
        "outputId": "c2784d69-c9b0-4abb-e19d-e16a4c6e4b27"
      },
      "source": [
        "# Finding the unique values in our regions column\n",
        "\n",
        "df['region'].nunique()"
      ],
      "execution_count": null,
      "outputs": [
        {
          "output_type": "execute_result",
          "data": {
            "text/plain": [
              "20"
            ]
          },
          "metadata": {
            "tags": []
          },
          "execution_count": 33
        }
      ]
    },
    {
      "cell_type": "code",
      "metadata": {
        "colab": {
          "base_uri": "https://localhost:8080/"
        },
        "id": "nIVSJO2bi3VD",
        "outputId": "524d007f-6ca1-4d36-debe-07b22c3b8cda"
      },
      "source": [
        "df['product_code'].nunique()"
      ],
      "execution_count": null,
      "outputs": [
        {
          "output_type": "execute_result",
          "data": {
            "text/plain": [
              "11"
            ]
          },
          "metadata": {
            "tags": []
          },
          "execution_count": 34
        }
      ]
    },
    {
      "cell_type": "code",
      "metadata": {
        "colab": {
          "base_uri": "https://localhost:8080/"
        },
        "id": "yzDBiGZfi7tN",
        "outputId": "1c2b3c74-fb3b-49ac-bbe9-8172076c778a"
      },
      "source": [
        "df['site_code'].nunique()"
      ],
      "execution_count": null,
      "outputs": [
        {
          "output_type": "execute_result",
          "data": {
            "text/plain": [
              "155"
            ]
          },
          "metadata": {
            "tags": []
          },
          "execution_count": 35
        }
      ]
    },
    {
      "cell_type": "markdown",
      "metadata": {
        "id": "3iWbFl1bjD29"
      },
      "source": [
        "#### **Countplots**"
      ]
    },
    {
      "cell_type": "code",
      "metadata": {
        "colab": {
          "base_uri": "https://localhost:8080/",
          "height": 343
        },
        "id": "Jd-GODWajpCC",
        "outputId": "22067f5d-f00c-412c-8306-d8d7f758fa3f"
      },
      "source": [
        "sns.countplot(df['product_code'])\n",
        "plt.xticks(rotation = 45)\n",
        "plt.title(\"Count plots of Products\")"
      ],
      "execution_count": null,
      "outputs": [
        {
          "output_type": "execute_result",
          "data": {
            "text/plain": [
              "Text(0.5, 1.0, 'Count plots of Products')"
            ]
          },
          "metadata": {
            "tags": []
          },
          "execution_count": 36
        },
        {
          "output_type": "display_data",
          "data": {
            "image/png": "[encoded data removed]",
            "text/plain": [
              "<Figure size 432x288 with 1 Axes>"
            ]
          },
          "metadata": {
            "tags": [],
            "needs_background": "light"
          }
        }
      ]
    },
    {
      "cell_type": "markdown",
      "metadata": {
        "id": "H-Tf7CR_4Rl8"
      },
      "source": [
        "### **Bivariate Data Analysis**"
      ]
    },
    {
      "cell_type": "markdown",
      "metadata": {
        "id": "5OuPNooxGTNy"
      },
      "source": [
        "#### **Heat Maps**"
      ]
    },
    {
      "cell_type": "code",
      "metadata": {
        "colab": {
          "base_uri": "https://localhost:8080/",
          "height": 411
        },
        "id": "uTrO1jAbtKEy",
        "outputId": "74bff262-27d8-441a-dfd3-59bd8e1bfe0d"
      },
      "source": [
        "# Plotting a pivot Table to visualize the stock distributed across the years and months\n",
        "\n",
        "pt= df.pivot_table(index='month',columns='year',values='stock_distributed2')\n",
        "sns.heatmap(pt, linecolor='white',linewidths=2)"
      ],
      "execution_count": null,
      "outputs": [
        {
          "output_type": "execute_result",
          "data": {
            "text/plain": [
              "<matplotlib.axes._subplots.AxesSubplot at 0x7f440e6c7d10>"
            ]
          },
          "metadata": {
            "tags": []
          },
          "execution_count": 41
        },
        {
          "output_type": "display_data",
          "data": {
            "image/png": "[encoded data removed]",
            "text/plain": [
              "<Figure size 864x432 with 2 Axes>"
            ]
          },
          "metadata": {
            "tags": []
          }
        }
      ]
    },
    {
      "cell_type": "code",
      "metadata": {
        "colab": {
          "base_uri": "https://localhost:8080/",
          "height": 467
        },
        "id": "j5MyKyFHGJ5c",
        "outputId": "2824d8b7-7648-4324-bc31-d91ab9b6c0db"
      },
      "source": [
        "# Plotting a heat map to show correlation\n",
        "\n",
        "mask = np.zeros_like(df.corr())\n",
        "mask[np.triu_indices_from(mask)] = True\n",
        "with sns.axes_style(\"white\"):\n",
        "    f, ax = plt.subplots(figsize=(20,8))\n",
        "    ax = sns.heatmap(df.corr(),\n",
        "mask=mask,annot=True,cmap=\"YlGnBu\")"
      ],
      "execution_count": null,
      "outputs": [
        {
          "output_type": "display_data",
          "data": {
            "image/png": "[encoded data removed]",
            "text/plain": [
              "<Figure size 1440x576 with 2 Axes>"
            ]
          },
          "metadata": {
            "tags": []
          }
        }
      ]
    },
    {
      "cell_type": "markdown",
      "metadata": {
        "id": "fIJlotGTM87N"
      },
      "source": [
        "#### **Scatter Plots**"
      ]
    },
    {
      "cell_type": "code",
      "metadata": {
        "colab": {
          "base_uri": "https://localhost:8080/",
          "height": 427
        },
        "id": "B-iqOkBmMc6X",
        "outputId": "d3671171-634f-4e55-a418-98f3ea81587f"
      },
      "source": [
        "# Plotting scatter plots to show the relationship between variables\n",
        "\n",
        "plt.scatter(df['average_monthly_consumption'], df['stock_distributed2'])\n",
        "plt.title('Average Monthly consumption vs Stock Distributed')\n",
        "plt.xlabel('Average monthly consumption')\n",
        "plt.ylabel('Stock Distributed')"
      ],
      "execution_count": null,
      "outputs": [
        {
          "output_type": "execute_result",
          "data": {
            "text/plain": [
              "Text(0, 0.5, 'Stock Distributed')"
            ]
          },
          "metadata": {
            "tags": []
          },
          "execution_count": 49
        },
        {
          "output_type": "display_data",
          "data": {
            "image/png": "[encoded data removed]",
            "text/plain": [
              "<Figure size 864x432 with 1 Axes>"
            ]
          },
          "metadata": {
            "tags": []
          }
        }
      ]
    },
    {
      "cell_type": "code",
      "metadata": {
        "colab": {
          "base_uri": "https://localhost:8080/",
          "height": 427
        },
        "id": "N3O1PNJ3OucB",
        "outputId": "bfbd7fb0-d6de-4110-cfc8-ff1e137080a3"
      },
      "source": [
        "plt.scatter(df['stock_initial'], df['stock_end'])\n",
        "plt.title('Stock Initial vs Stock End')\n",
        "plt.ylabel('Stock End')\n",
        "plt.xlabel('Stock Initial')"
      ],
      "execution_count": null,
      "outputs": [
        {
          "output_type": "execute_result",
          "data": {
            "text/plain": [
              "Text(0.5, 0, 'Stock Initial')"
            ]
          },
          "metadata": {
            "tags": []
          },
          "execution_count": 50
        },
        {
          "output_type": "display_data",
          "data": {
            "image/png": "[encoded data removed]",
            "text/plain": [
              "<Figure size 864x432 with 1 Axes>"
            ]
          },
          "metadata": {
            "tags": []
          }
        }
      ]
    },
    {
      "cell_type": "markdown",
      "metadata": {
        "id": "52B7e_a_2n1-"
      },
      "source": [
        "### **Time Series Analysis**"
      ]
    },
    {
      "cell_type": "markdown",
      "metadata": {
        "id": "kSN00_J1mTZv"
      },
      "source": [
        "#### **Line Plots**"
      ]
    },
    {
      "cell_type": "code",
      "metadata": {
        "colab": {
          "base_uri": "https://localhost:8080/",
          "height": 295
        },
        "id": "J89hJ6EFljyO",
        "outputId": "082dc044-b7d4-429e-c470-86ecea138dcb"
      },
      "source": [
        "g = df.groupby('month')['stock_distributed2'].mean().reset_index(name = 'average stock distributed per month')\n",
        "sns.lineplot(x = 'month', data = g, y='average stock distributed per month')\n",
        "plt.title('Average Stock Distributed per Month')\n",
        "plt.show()"
      ],
      "execution_count": null,
      "outputs": [
        {
          "output_type": "display_data",
          "data": {
            "image/png": "[encoded data removed]",
            "text/plain": [
              "<Figure size 432x288 with 1 Axes>"
            ]
          },
          "metadata": {
            "tags": [],
            "needs_background": "light"
          }
        }
      ]
    },
    {
      "cell_type": "code",
      "metadata": {
        "colab": {
          "base_uri": "https://localhost:8080/",
          "height": 383
        },
        "id": "eACI9iISovU3",
        "outputId": "73d5ee1c-21c6-4e9c-c72a-d9d1e74a2a81"
      },
      "source": [
        "condition_to_size = df.groupby('month').mean()[['stock_initial', 'stock_received', 'stock_adjustment', 'stock_end','average_monthly_consumption', 'stock_ordered', 'stock_distributed2']]\n",
        "sns.set(rc={'figure.figsize':(12,6)})\n",
        "condition_to_size.plot.line()\n",
        "plt.title('trend over an year')\n",
        "plt.legend(bbox_to_anchor=(1, 1), loc=2, borderaxespad=0.)\n",
        "plt.show()\n"
      ],
      "execution_count": null,
      "outputs": [
        {
          "output_type": "display_data",
          "data": {
            "image/png": "[encoded data removed]",
            "text/plain": [
              "<Figure size 864x432 with 1 Axes>"
            ]
          },
          "metadata": {
            "tags": []
          }
        }
      ]
    },
    {
      "cell_type": "code",
      "metadata": {
        "colab": {
          "base_uri": "https://localhost:8080/",
          "height": 617
        },
        "id": "biJilv0yqVyo",
        "outputId": "8fa37b3a-a71e-49d0-c113-d61bb233c5ac"
      },
      "source": [
        "aug = df[df['month'] == 8]\n",
        "aug"
      ],
      "execution_count": null,
      "outputs": [
        {
          "output_type": "execute_result",
          "data": {
            "text/html": [
              "<div>\n",
              "<style scoped>\n",
              "    .dataframe tbody tr th:only-of-type {\n",
              "        vertical-align: middle;\n",
              "    }\n",
              "\n",
              "    .dataframe tbody tr th {\n",
              "        vertical-align: top;\n",
              "    }\n",
              "\n",
              "    .dataframe thead th {\n",
              "        text-align: right;\n",
              "    }\n",
              "</style>\n",
              "<table border=\"1\" class=\"dataframe\">\n",
              "  <thead>\n",
              "    <tr style=\"text-align: right;\">\n",
              "      <th></th>\n",
              "      <th>site_code</th>\n",
              "      <th>site_type</th>\n",
              "      <th>year</th>\n",
              "      <th>month</th>\n",
              "      <th>region</th>\n",
              "      <th>district</th>\n",
              "      <th>product_code</th>\n",
              "      <th>stock_initial</th>\n",
              "      <th>stock_received</th>\n",
              "      <th>stock_adjustment</th>\n",
              "      <th>stock_end</th>\n",
              "      <th>average_monthly_consumption</th>\n",
              "      <th>stock_ordered</th>\n",
              "      <th>stock_distributed2</th>\n",
              "    </tr>\n",
              "  </thead>\n",
              "  <tbody>\n",
              "    <tr>\n",
              "      <th>81</th>\n",
              "      <td>C1399</td>\n",
              "      <td>Health Center</td>\n",
              "      <td>2018</td>\n",
              "      <td>8</td>\n",
              "      <td>ABIDJAN 2</td>\n",
              "      <td>COCODY-BINGERVILLE</td>\n",
              "      <td>AS27137</td>\n",
              "      <td>22</td>\n",
              "      <td>0</td>\n",
              "      <td>0</td>\n",
              "      <td>22</td>\n",
              "      <td>0</td>\n",
              "      <td>0.0</td>\n",
              "      <td>0.0</td>\n",
              "    </tr>\n",
              "    <tr>\n",
              "      <th>82</th>\n",
              "      <td>C1399</td>\n",
              "      <td>Health Center</td>\n",
              "      <td>2018</td>\n",
              "      <td>8</td>\n",
              "      <td>ABIDJAN 2</td>\n",
              "      <td>COCODY-BINGERVILLE</td>\n",
              "      <td>AS27138</td>\n",
              "      <td>0</td>\n",
              "      <td>0</td>\n",
              "      <td>0</td>\n",
              "      <td>0</td>\n",
              "      <td>0</td>\n",
              "      <td>0.0</td>\n",
              "      <td>0.0</td>\n",
              "    </tr>\n",
              "    <tr>\n",
              "      <th>150</th>\n",
              "      <td>C1399</td>\n",
              "      <td>Health Center</td>\n",
              "      <td>2017</td>\n",
              "      <td>8</td>\n",
              "      <td>ABIDJAN 2</td>\n",
              "      <td>COCODY-BINGERVILLE</td>\n",
              "      <td>AS27133</td>\n",
              "      <td>0</td>\n",
              "      <td>0</td>\n",
              "      <td>0</td>\n",
              "      <td>0</td>\n",
              "      <td>4</td>\n",
              "      <td>0.0</td>\n",
              "      <td>0.0</td>\n",
              "    </tr>\n",
              "    <tr>\n",
              "      <th>151</th>\n",
              "      <td>C1399</td>\n",
              "      <td>Health Center</td>\n",
              "      <td>2017</td>\n",
              "      <td>8</td>\n",
              "      <td>ABIDJAN 2</td>\n",
              "      <td>COCODY-BINGERVILLE</td>\n",
              "      <td>AS27138</td>\n",
              "      <td>0</td>\n",
              "      <td>0</td>\n",
              "      <td>0</td>\n",
              "      <td>0</td>\n",
              "      <td>1</td>\n",
              "      <td>0.0</td>\n",
              "      <td>0.0</td>\n",
              "    </tr>\n",
              "    <tr>\n",
              "      <th>152</th>\n",
              "      <td>C1399</td>\n",
              "      <td>Health Center</td>\n",
              "      <td>2017</td>\n",
              "      <td>8</td>\n",
              "      <td>ABIDJAN 2</td>\n",
              "      <td>COCODY-BINGERVILLE</td>\n",
              "      <td>AS27137</td>\n",
              "      <td>11</td>\n",
              "      <td>0</td>\n",
              "      <td>0</td>\n",
              "      <td>8</td>\n",
              "      <td>7</td>\n",
              "      <td>0.0</td>\n",
              "      <td>3.0</td>\n",
              "    </tr>\n",
              "    <tr>\n",
              "      <th>...</th>\n",
              "      <td>...</td>\n",
              "      <td>...</td>\n",
              "      <td>...</td>\n",
              "      <td>...</td>\n",
              "      <td>...</td>\n",
              "      <td>...</td>\n",
              "      <td>...</td>\n",
              "      <td>...</td>\n",
              "      <td>...</td>\n",
              "      <td>...</td>\n",
              "      <td>...</td>\n",
              "      <td>...</td>\n",
              "      <td>...</td>\n",
              "      <td>...</td>\n",
              "    </tr>\n",
              "    <tr>\n",
              "      <th>35695</th>\n",
              "      <td>C1679</td>\n",
              "      <td>Hospital</td>\n",
              "      <td>2017</td>\n",
              "      <td>8</td>\n",
              "      <td>SUD-COMOE</td>\n",
              "      <td>ADIAKE</td>\n",
              "      <td>AS46000</td>\n",
              "      <td>1</td>\n",
              "      <td>0</td>\n",
              "      <td>0</td>\n",
              "      <td>1</td>\n",
              "      <td>0</td>\n",
              "      <td>0.0</td>\n",
              "      <td>0.0</td>\n",
              "    </tr>\n",
              "    <tr>\n",
              "      <th>35735</th>\n",
              "      <td>C1679</td>\n",
              "      <td>Hospital</td>\n",
              "      <td>2016</td>\n",
              "      <td>8</td>\n",
              "      <td>SUD-COMOE</td>\n",
              "      <td>ADIAKE</td>\n",
              "      <td>AS27133</td>\n",
              "      <td>0</td>\n",
              "      <td>100</td>\n",
              "      <td>0</td>\n",
              "      <td>100</td>\n",
              "      <td>0</td>\n",
              "      <td>0.0</td>\n",
              "      <td>0.0</td>\n",
              "    </tr>\n",
              "    <tr>\n",
              "      <th>35736</th>\n",
              "      <td>C1679</td>\n",
              "      <td>Hospital</td>\n",
              "      <td>2016</td>\n",
              "      <td>8</td>\n",
              "      <td>SUD-COMOE</td>\n",
              "      <td>ADIAKE</td>\n",
              "      <td>AS27000</td>\n",
              "      <td>13</td>\n",
              "      <td>0</td>\n",
              "      <td>0</td>\n",
              "      <td>8</td>\n",
              "      <td>6</td>\n",
              "      <td>10.0</td>\n",
              "      <td>5.0</td>\n",
              "    </tr>\n",
              "    <tr>\n",
              "      <th>35737</th>\n",
              "      <td>C1679</td>\n",
              "      <td>Hospital</td>\n",
              "      <td>2016</td>\n",
              "      <td>8</td>\n",
              "      <td>SUD-COMOE</td>\n",
              "      <td>ADIAKE</td>\n",
              "      <td>AS27134</td>\n",
              "      <td>69</td>\n",
              "      <td>0</td>\n",
              "      <td>0</td>\n",
              "      <td>34</td>\n",
              "      <td>52</td>\n",
              "      <td>0.0</td>\n",
              "      <td>35.0</td>\n",
              "    </tr>\n",
              "    <tr>\n",
              "      <th>35738</th>\n",
              "      <td>C1679</td>\n",
              "      <td>Hospital</td>\n",
              "      <td>2016</td>\n",
              "      <td>8</td>\n",
              "      <td>SUD-COMOE</td>\n",
              "      <td>ADIAKE</td>\n",
              "      <td>AS46000</td>\n",
              "      <td>1</td>\n",
              "      <td>0</td>\n",
              "      <td>0</td>\n",
              "      <td>1</td>\n",
              "      <td>0</td>\n",
              "      <td>0.0</td>\n",
              "      <td>0.0</td>\n",
              "    </tr>\n",
              "  </tbody>\n",
              "</table>\n",
              "<p>2355 rows × 14 columns</p>\n",
              "</div>"
            ],
            "text/plain": [
              "      site_code      site_type  ...  stock_ordered  stock_distributed2\n",
              "81        C1399  Health Center  ...            0.0                 0.0\n",
              "82        C1399  Health Center  ...            0.0                 0.0\n",
              "150       C1399  Health Center  ...            0.0                 0.0\n",
              "151       C1399  Health Center  ...            0.0                 0.0\n",
              "152       C1399  Health Center  ...            0.0                 3.0\n",
              "...         ...            ...  ...            ...                 ...\n",
              "35695     C1679       Hospital  ...            0.0                 0.0\n",
              "35735     C1679       Hospital  ...            0.0                 0.0\n",
              "35736     C1679       Hospital  ...           10.0                 5.0\n",
              "35737     C1679       Hospital  ...            0.0                35.0\n",
              "35738     C1679       Hospital  ...            0.0                 0.0\n",
              "\n",
              "[2355 rows x 14 columns]"
            ]
          },
          "metadata": {
            "tags": []
          },
          "execution_count": 39
        }
      ]
    },
    {
      "cell_type": "code",
      "metadata": {
        "colab": {
          "base_uri": "https://localhost:8080/"
        },
        "id": "Wbn7fkvWsaZI",
        "outputId": "fa761bc4-57b9-4b4c-cb79-6c58ad895414"
      },
      "source": [
        "aug['stock_distributed2'].value_counts()"
      ],
      "execution_count": null,
      "outputs": [
        {
          "output_type": "execute_result",
          "data": {
            "text/plain": [
              "0.0      1125\n",
              "1.0       110\n",
              "3.0        84\n",
              "2.0        77\n",
              "10.0       68\n",
              "         ... \n",
              "153.0       1\n",
              "255.0       1\n",
              "301.0       1\n",
              "94.0        1\n",
              "229.0       1\n",
              "Name: stock_distributed2, Length: 132, dtype: int64"
            ]
          },
          "metadata": {
            "tags": []
          },
          "execution_count": 40
        }
      ]
    },
    {
      "cell_type": "code",
      "metadata": {
        "id": "cOWz1SAF5eLl",
        "outputId": "d7536af7-525a-4105-9be9-8e50aea5bfee",
        "colab": {
          "base_uri": "https://localhost:8080/",
          "height": 381
        }
      },
      "source": [
        "# line plots for dispensed products\n",
        "condition_to_size = annual.groupby('year').mean()[['iud_number_dispensed','implant_number_dispensed','injection2_number_dispensed','injection3_number_dispensed','pill_number_dispensed']]\n",
        "sns.set(rc={'figure.figsize':(12,6)})\n",
        "condition_to_size.plot.line()\n",
        "plt.title('Dispensed products over the years')\n",
        "plt.legend(bbox_to_anchor=(1, 1), loc=2, borderaxespad=0.)\n",
        "plt.show()\n"
      ],
      "execution_count": 36,
      "outputs": [
        {
          "output_type": "display_data",
          "data": {
            "image/png": "[encoded data removed]",
            "text/plain": [
              "<Figure size 864x432 with 1 Axes>"
            ]
          },
          "metadata": {
            "tags": []
          }
        }
      ]
    }
  ]
}