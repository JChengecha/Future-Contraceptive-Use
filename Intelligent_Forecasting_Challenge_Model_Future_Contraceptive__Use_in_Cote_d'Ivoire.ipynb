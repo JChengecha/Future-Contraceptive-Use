{
  "nbformat": 4,
  "nbformat_minor": 0,
  "metadata": {
    "colab": {
      "name": "Intelligent_Forecasting_Challenge: Model_Future_Contraceptive _Use_in_Cote_d'Ivoire",
      "provenance": [],
      "toc_visible": true,
      "include_colab_link": true
    },
    "kernelspec": {
      "name": "python3",
      "display_name": "Python 3"
    },
    "language_info": {
      "name": "python"
    }
  },
  "cells": [
    {
      "cell_type": "markdown",
      "metadata": {
        "id": "view-in-github",
        "colab_type": "text"
      },
      "source": [
        "<a href=\"https://colab.research.google.com/github/Waiyegolove/Future-Contraceptive-Use/blob/main/Intelligent_Forecasting_Challenge_Model_Future_Contraceptive__Use_in_Cote_d'Ivoire.ipynb\" target=\"_parent\"><img src=\"https://colab.research.google.com/assets/colab-badge.svg\" alt=\"Open In Colab\"/></a>"
      ]
    },
    {
      "cell_type": "markdown",
      "metadata": {
        "id": "ZEUId8p7D19B"
      },
      "source": [
        "# **INTELLIGENT FORECASTING CHALLENGE**"
      ]
    },
    {
      "cell_type": "markdown",
      "metadata": {
        "id": "QEjYGe6WC6wQ"
      },
      "source": [
        "## **DEFINING THE QUESTION**"
      ]
    },
    {
      "cell_type": "markdown",
      "metadata": {
        "id": "DWCLf3eTDN0G"
      },
      "source": [
        "### **SPECIFYING THE QUESTION**"
      ]
    },
    {
      "cell_type": "markdown",
      "metadata": {
        "id": "JZCmOIyzYycF"
      },
      "source": [
        "\n",
        "\n",
        "> We  are required to build a model that will effectively predict the use of contraceptives in Côte d'Ivoire.\n",
        "\n",
        "\n",
        "\n"
      ]
    },
    {
      "cell_type": "markdown",
      "metadata": {
        "id": "ACAnI7DyDT8B"
      },
      "source": [
        "### **DEFINING THE METRIC OF SUCCESS**"
      ]
    },
    {
      "cell_type": "markdown",
      "metadata": {
        "id": "-94VGV1M5_3G"
      },
      "source": [
        "\n",
        "> Our challenge is a regression problem. Therefore, our project will be considered a success if we're able to develop a model with the lowest error metric.\n",
        "\n"
      ]
    },
    {
      "cell_type": "markdown",
      "metadata": {
        "id": "Z3GU7q62DYkm"
      },
      "source": [
        "### **UNDERSTANDING THE CONTEXT**"
      ]
    },
    {
      "cell_type": "markdown",
      "metadata": {
        "id": "-N5jJMSyUQVN"
      },
      "source": [
        "> Contraceptive access is vital to safe motherhood, healthy families, and prosperous communities. Greater access to contraceptives enables couples and individuals to determine whether, when, and how often to have children. In low- and middle-income countries (LMIC) like Côte d'Ivoire, health systems are often unable to accurately predict the quantity of contraceptives necessary for each health service delivery site, in part due to insufficient data, limited staff capacity, and inadequate systems.\n",
        "\n",
        ">When too few supplies are ordered, service delivery sites may run out, limiting access to contraceptives and family planning. When too much product is ordered, unused contraceptives are wasted if they are left to expire.\n",
        "\n",
        ">Accurate forecasting of contraceptive consumption can save lives, money, and time by ensuring health service delivery sites have what they need when they need it and by reducing waste in the supply chain."
      ]
    },
    {
      "cell_type": "markdown",
      "metadata": {
        "id": "4FG-BEBwDnTl"
      },
      "source": [
        "### **RECORDING THE EXPERIMENTAL DESIGN**"
      ]
    },
    {
      "cell_type": "markdown",
      "metadata": {
        "id": "9nC400yWXBIw"
      },
      "source": [
        "* Import the relevant libraries that we will use in our analysis.\n",
        "* Read and explore the dataset we will use for our project.\n",
        "* Define the appropriateness of the available data with regards to the project\n",
        "* Find and deal with outliers and missing data within the dataset.\n",
        "* Perform univariate and bivariate analysis while recording our observations.\n",
        "* Implement the solution by using the various regression algorithms to predict the future consumption of contraceptives based on given information.\n",
        "* Challenge the solution by giving insights on how we can optimize the models to give us a better performance as compared to the baseline model.\n",
        "* Provide recommendations based on the whole analysis and modelling techniques used in the project."
      ]
    },
    {
      "cell_type": "markdown",
      "metadata": {
        "id": "Oe-krsejELof"
      },
      "source": [
        "### **DATA RELEVANCE**"
      ]
    },
    {
      "cell_type": "markdown",
      "metadata": {
        "id": "IDZSr4gfXvdD"
      },
      "source": [
        "> This was evaluated against the metric of success after solution implementation. Our main dataset is the **Train Dataset**.\n",
        "\n",
        "> The train dataset has the following columns:\n",
        "1. **year:**\tThe year of the observation\t\t\t\t\t\t\t\t\t\t\t\n",
        "2. **month:**\tThe month of the observation\t\t\t\t\t\t\t\t\t\t\t\n",
        "3. **region:**\tThe higher level geographical area within Côte d'Ivoire\n",
        "4. **district:**\tThe lower level geographical area within Côte d'Ivoire\n",
        "5. **site_code:**\tThe actual health service delivery site\t\t\t\t\t\n",
        "6. **product_code:**\tThe unique identifier for each commodity.\n",
        "7. **stock_initial:**\tStock in hand of previous period. This is quantified in dispensing units. \t\t\t\t\t\t\t\t\t\t\t\n",
        "8. **stock_received:**\tTotal quantity received in last period. This is quantified in dispensing units. \t\t\t\t\t\t\t\t\t\t\t\n",
        "9. **stock_distributed*:**\tQuantity dispensed/consumed in last reporting period. This is quantified in dispensing units. Note: This is the target variable. \t\t\t\t\t\t\t\t\t\t\t\n",
        "10. **stock_adjustment:**\tAll kinds of losses/ adjustments made at the facility\t\t\t\t\t\t\t\t\t\t\t\n",
        "11. **stock_end:**\tCurrent physical count of stock on hand. This is quantified in dispensing units.\t\t\t\t\t\t\t\t\t\t\t\n",
        "12. **average_monthly_consumption:**\t\"Average monthly consumption, for last three months. This is quantified in dispensing units. \n",
        "Note: Average monthly consumption in the system actually provides an average of the most recently available Normalized Consumption values. Normalized Consumption is the stock_distributed value adjusted to reflect any stock_stockout_days. Because months are approximated to have 30 days, one which had 15 stockout days would yield a Normalized Consumption of exactly twice its Monthly Consumption.\"\t\t\t\t\t\t\t\t\t\t\t\n",
        "13. **stock_stockout_days:**\tTotal number of days facility was out of stock.\t\t\t\t\t\t\t\t\t\t\t\n",
        "14. **stock_ordered:**\tThe requested quantity. This is quantified in dispensing units.\t\t\t\t\t\t\t\t\t\t\t\n",
        "\t\t\t\t\t\t\t\t\t\t\t\n"
      ]
    },
    {
      "cell_type": "markdown",
      "metadata": {
        "id": "aCflDAb8m6qd"
      },
      "source": [
        "## **EXTERNAL DATASOURCE VALIDATION**"
      ]
    },
    {
      "cell_type": "markdown",
      "metadata": {
        "id": "ueiG7jYQm9cF"
      },
      "source": [
        ""
      ]
    },
    {
      "cell_type": "markdown",
      "metadata": {
        "id": "9R3Rb9ChImVr"
      },
      "source": [
        "## **READING THE DATA**"
      ]
    },
    {
      "cell_type": "code",
      "metadata": {
        "id": "Glzco3RlX-Rj"
      },
      "source": [
        "#Importing required libraries\n",
        "import pandas as pd\n",
        "import numpy as np\n",
        "import matplotlib.pyplot as plt\n",
        "import seaborn as sns\n",
        "\n",
        "#Ignore warnings\n",
        "import warnings\n",
        "warnings.filterwarnings(\"ignore\")"
      ],
      "execution_count": null,
      "outputs": []
    },
    {
      "cell_type": "code",
      "metadata": {
        "id": "k3xl55f_YT2k"
      },
      "source": [
        "# READING OUR ANNUAL DATASET\n",
        "annual = pd.read_csv('contraceptive_case_data_annual.csv')\n",
        "\n",
        "# Reading our monthly\n",
        "monthly = pd.read_csv('monthly_cases.csv')\n",
        "\n",
        "# Reading service delivery site data\n",
        "site = pd.read_csv('service_delivery_site_data.csv')\n",
        "\n",
        "# Reading our Train dataset\n",
        "df = pd.read_csv('Train.csv')\n",
        "\n",
        "# Reading the product dataset\n",
        "prod = pd.read_csv('product.csv')"
      ],
      "execution_count": null,
      "outputs": []
    },
    {
      "cell_type": "markdown",
      "metadata": {
        "id": "pV1VrwpYnKyF"
      },
      "source": [
        "## **PREVIEWING THE DATA**"
      ]
    },
    {
      "cell_type": "code",
      "metadata": {
        "colab": {
          "base_uri": "https://localhost:8080/",
          "height": 223
        },
        "id": "npQxJpXHnbdn",
        "outputId": "7dda7710-d9ea-49c6-d41d-267115c5c35e"
      },
      "source": [
        "# Previewing our Annual dataset\n",
        "annual.head(5)"
      ],
      "execution_count": null,
      "outputs": [
        {
          "output_type": "execute_result",
          "data": {
            "text/html": [
              "<div>\n",
              "<style scoped>\n",
              "    .dataframe tbody tr th:only-of-type {\n",
              "        vertical-align: middle;\n",
              "    }\n",
              "\n",
              "    .dataframe tbody tr th {\n",
              "        vertical-align: top;\n",
              "    }\n",
              "\n",
              "    .dataframe thead th {\n",
              "        text-align: right;\n",
              "    }\n",
              "</style>\n",
              "<table border=\"1\" class=\"dataframe\">\n",
              "  <thead>\n",
              "    <tr style=\"text-align: right;\">\n",
              "      <th></th>\n",
              "      <th>district</th>\n",
              "      <th>year</th>\n",
              "      <th>implant_women_old</th>\n",
              "      <th>implant_women_new</th>\n",
              "      <th>injection2_women_old</th>\n",
              "      <th>injection2_women_new</th>\n",
              "      <th>injection3_women_old</th>\n",
              "      <th>injection3_women_new</th>\n",
              "      <th>pill_women_old</th>\n",
              "      <th>pill_women_new</th>\n",
              "      <th>iud_women_old</th>\n",
              "      <th>iud_women_new</th>\n",
              "      <th>iud_number_dispensed</th>\n",
              "      <th>implant_number_dispensed</th>\n",
              "      <th>injection2_number_dispensed</th>\n",
              "      <th>injection3_number_dispensed</th>\n",
              "      <th>pill_number_dispensed</th>\n",
              "      <th>iud_number_received</th>\n",
              "      <th>implant_number_received</th>\n",
              "      <th>injection2_number_received</th>\n",
              "      <th>injection3_number_received</th>\n",
              "      <th>pill_number_received</th>\n",
              "      <th>iud_stock_end</th>\n",
              "      <th>implant_stock_end</th>\n",
              "      <th>injection2_stock_end</th>\n",
              "      <th>injection3_stock_end</th>\n",
              "      <th>pill_stock_end</th>\n",
              "    </tr>\n",
              "  </thead>\n",
              "  <tbody>\n",
              "    <tr>\n",
              "      <th>0</th>\n",
              "      <td>ABENGOUROU</td>\n",
              "      <td>2018</td>\n",
              "      <td>3298.0</td>\n",
              "      <td>965.0</td>\n",
              "      <td>2997.0</td>\n",
              "      <td>749.0</td>\n",
              "      <td>10892</td>\n",
              "      <td>2609</td>\n",
              "      <td>1867.0</td>\n",
              "      <td>425.0</td>\n",
              "      <td>117.0</td>\n",
              "      <td>15.0</td>\n",
              "      <td>26.0</td>\n",
              "      <td>823.0</td>\n",
              "      <td>3681.0</td>\n",
              "      <td>7082.0</td>\n",
              "      <td>6893.0</td>\n",
              "      <td>673.0</td>\n",
              "      <td>2435.0</td>\n",
              "      <td>8799.0</td>\n",
              "      <td>12890.0</td>\n",
              "      <td>35961.0</td>\n",
              "      <td>NaN</td>\n",
              "      <td>3167.0</td>\n",
              "      <td>NaN</td>\n",
              "      <td>16041.0</td>\n",
              "      <td>48097.0</td>\n",
              "    </tr>\n",
              "    <tr>\n",
              "      <th>1</th>\n",
              "      <td>ABENGOUROU</td>\n",
              "      <td>2017</td>\n",
              "      <td>2597.0</td>\n",
              "      <td>698.0</td>\n",
              "      <td>2125.0</td>\n",
              "      <td>588.0</td>\n",
              "      <td>9939</td>\n",
              "      <td>2480</td>\n",
              "      <td>1835.0</td>\n",
              "      <td>400.0</td>\n",
              "      <td>34.0</td>\n",
              "      <td>22.0</td>\n",
              "      <td>15.0</td>\n",
              "      <td>483.0</td>\n",
              "      <td>2894.0</td>\n",
              "      <td>6460.0</td>\n",
              "      <td>6339.0</td>\n",
              "      <td>544.0</td>\n",
              "      <td>1760.0</td>\n",
              "      <td>9920.0</td>\n",
              "      <td>12727.0</td>\n",
              "      <td>31260.0</td>\n",
              "      <td>NaN</td>\n",
              "      <td>2617.0</td>\n",
              "      <td>NaN</td>\n",
              "      <td>16403.0</td>\n",
              "      <td>41079.0</td>\n",
              "    </tr>\n",
              "    <tr>\n",
              "      <th>2</th>\n",
              "      <td>ABENGOUROU</td>\n",
              "      <td>2016</td>\n",
              "      <td>865.0</td>\n",
              "      <td>408.0</td>\n",
              "      <td>2616.0</td>\n",
              "      <td>786.0</td>\n",
              "      <td>8407</td>\n",
              "      <td>2440</td>\n",
              "      <td>2675.0</td>\n",
              "      <td>439.0</td>\n",
              "      <td>20.0</td>\n",
              "      <td>24.0</td>\n",
              "      <td>19.0</td>\n",
              "      <td>438.0</td>\n",
              "      <td>3167.0</td>\n",
              "      <td>5394.0</td>\n",
              "      <td>5982.0</td>\n",
              "      <td>436.0</td>\n",
              "      <td>1503.0</td>\n",
              "      <td>11407.0</td>\n",
              "      <td>12666.0</td>\n",
              "      <td>28256.0</td>\n",
              "      <td>NaN</td>\n",
              "      <td>1671.0</td>\n",
              "      <td>NaN</td>\n",
              "      <td>8561.0</td>\n",
              "      <td>20878.0</td>\n",
              "    </tr>\n",
              "    <tr>\n",
              "      <th>3</th>\n",
              "      <td>ABOBO EST</td>\n",
              "      <td>2018</td>\n",
              "      <td>4041.0</td>\n",
              "      <td>2234.0</td>\n",
              "      <td>2200.0</td>\n",
              "      <td>583.0</td>\n",
              "      <td>13504</td>\n",
              "      <td>3940</td>\n",
              "      <td>2959.0</td>\n",
              "      <td>673.0</td>\n",
              "      <td>383.0</td>\n",
              "      <td>180.0</td>\n",
              "      <td>155.0</td>\n",
              "      <td>2372.0</td>\n",
              "      <td>878.0</td>\n",
              "      <td>9512.0</td>\n",
              "      <td>5234.0</td>\n",
              "      <td>1154.0</td>\n",
              "      <td>3309.0</td>\n",
              "      <td>2241.0</td>\n",
              "      <td>9914.0</td>\n",
              "      <td>7426.0</td>\n",
              "      <td>NaN</td>\n",
              "      <td>3092.0</td>\n",
              "      <td>NaN</td>\n",
              "      <td>9359.0</td>\n",
              "      <td>9046.0</td>\n",
              "    </tr>\n",
              "    <tr>\n",
              "      <th>4</th>\n",
              "      <td>ABOBO EST</td>\n",
              "      <td>2017</td>\n",
              "      <td>1954.0</td>\n",
              "      <td>2491.0</td>\n",
              "      <td>1768.0</td>\n",
              "      <td>214.0</td>\n",
              "      <td>10745</td>\n",
              "      <td>2389</td>\n",
              "      <td>3506.0</td>\n",
              "      <td>679.0</td>\n",
              "      <td>147.0</td>\n",
              "      <td>259.0</td>\n",
              "      <td>258.0</td>\n",
              "      <td>3066.0</td>\n",
              "      <td>1805.0</td>\n",
              "      <td>8939.0</td>\n",
              "      <td>6957.0</td>\n",
              "      <td>2780.0</td>\n",
              "      <td>4009.0</td>\n",
              "      <td>5846.0</td>\n",
              "      <td>11784.0</td>\n",
              "      <td>13191.0</td>\n",
              "      <td>NaN</td>\n",
              "      <td>2596.0</td>\n",
              "      <td>NaN</td>\n",
              "      <td>6359.0</td>\n",
              "      <td>11711.0</td>\n",
              "    </tr>\n",
              "  </tbody>\n",
              "</table>\n",
              "</div>"
            ],
            "text/plain": [
              "     district  year  ...  injection3_stock_end  pill_stock_end\n",
              "0  ABENGOUROU  2018  ...               16041.0         48097.0\n",
              "1  ABENGOUROU  2017  ...               16403.0         41079.0\n",
              "2  ABENGOUROU  2016  ...                8561.0         20878.0\n",
              "3   ABOBO EST  2018  ...                9359.0          9046.0\n",
              "4   ABOBO EST  2017  ...                6359.0         11711.0\n",
              "\n",
              "[5 rows x 27 columns]"
            ]
          },
          "metadata": {
            "tags": []
          },
          "execution_count": 3
        }
      ]
    },
    {
      "cell_type": "code",
      "metadata": {
        "colab": {
          "base_uri": "https://localhost:8080/",
          "height": 223
        },
        "id": "RJWy61C2UWhK",
        "outputId": "97e988ff-bf8f-4c1d-d5c3-2d03d0b6a65e"
      },
      "source": [
        "# Previewing the monthly dataset\n",
        "monthly.head(5)"
      ],
      "execution_count": null,
      "outputs": [
        {
          "output_type": "execute_result",
          "data": {
            "text/html": [
              "<div>\n",
              "<style scoped>\n",
              "    .dataframe tbody tr th:only-of-type {\n",
              "        vertical-align: middle;\n",
              "    }\n",
              "\n",
              "    .dataframe tbody tr th {\n",
              "        vertical-align: top;\n",
              "    }\n",
              "\n",
              "    .dataframe thead th {\n",
              "        text-align: right;\n",
              "    }\n",
              "</style>\n",
              "<table border=\"1\" class=\"dataframe\">\n",
              "  <thead>\n",
              "    <tr style=\"text-align: right;\">\n",
              "      <th></th>\n",
              "      <th>district</th>\n",
              "      <th>month</th>\n",
              "      <th>year</th>\n",
              "      <th>implant_women_old</th>\n",
              "      <th>implant_women_new</th>\n",
              "      <th>injection2_women_old</th>\n",
              "      <th>injection2_women_new</th>\n",
              "      <th>injection3_women_old</th>\n",
              "      <th>injection3_women_new</th>\n",
              "      <th>pill_women_old</th>\n",
              "      <th>pill_women_new</th>\n",
              "      <th>iud_women_old</th>\n",
              "      <th>iud_women_new</th>\n",
              "      <th>iud_number_dispensed</th>\n",
              "      <th>implant_number_dispensed</th>\n",
              "      <th>injection2_number_dispensed</th>\n",
              "      <th>injection3_number_dispensed</th>\n",
              "      <th>pill_number_dispensed</th>\n",
              "      <th>iud_number_received</th>\n",
              "      <th>implant_number_received</th>\n",
              "      <th>injection2_number_received</th>\n",
              "      <th>injection3_number_received</th>\n",
              "      <th>pill_number_received</th>\n",
              "      <th>iud_stock_end</th>\n",
              "      <th>implant_stock_end</th>\n",
              "      <th>injection2_stock_end</th>\n",
              "      <th>injection3_stock_end</th>\n",
              "      <th>pill_stock_end</th>\n",
              "    </tr>\n",
              "  </thead>\n",
              "  <tbody>\n",
              "    <tr>\n",
              "      <th>0</th>\n",
              "      <td>ABENGOUROU</td>\n",
              "      <td>1</td>\n",
              "      <td>2019</td>\n",
              "      <td>478.0</td>\n",
              "      <td>91.0</td>\n",
              "      <td>103.0</td>\n",
              "      <td>17.0</td>\n",
              "      <td>1278</td>\n",
              "      <td>296</td>\n",
              "      <td>195.0</td>\n",
              "      <td>34.0</td>\n",
              "      <td>NaN</td>\n",
              "      <td>NaN</td>\n",
              "      <td>NaN</td>\n",
              "      <td>75.0</td>\n",
              "      <td>44.0</td>\n",
              "      <td>1082.0</td>\n",
              "      <td>2542.0</td>\n",
              "      <td>NaN</td>\n",
              "      <td>319.0</td>\n",
              "      <td>33.0</td>\n",
              "      <td>1244.0</td>\n",
              "      <td>2846.0</td>\n",
              "      <td>NaN</td>\n",
              "      <td>422.0</td>\n",
              "      <td>NaN</td>\n",
              "      <td>1501.0</td>\n",
              "      <td>3466.0</td>\n",
              "    </tr>\n",
              "    <tr>\n",
              "      <th>1</th>\n",
              "      <td>ABENGOUROU</td>\n",
              "      <td>2</td>\n",
              "      <td>2019</td>\n",
              "      <td>340.0</td>\n",
              "      <td>81.0</td>\n",
              "      <td>126.0</td>\n",
              "      <td>10.0</td>\n",
              "      <td>1237</td>\n",
              "      <td>253</td>\n",
              "      <td>187.0</td>\n",
              "      <td>19.0</td>\n",
              "      <td>9.0</td>\n",
              "      <td>1.0</td>\n",
              "      <td>1.0</td>\n",
              "      <td>66.0</td>\n",
              "      <td>38.0</td>\n",
              "      <td>813.0</td>\n",
              "      <td>557.0</td>\n",
              "      <td>20.0</td>\n",
              "      <td>255.0</td>\n",
              "      <td>17.0</td>\n",
              "      <td>1174.0</td>\n",
              "      <td>2608.0</td>\n",
              "      <td>NaN</td>\n",
              "      <td>394.0</td>\n",
              "      <td>NaN</td>\n",
              "      <td>1535.0</td>\n",
              "      <td>3327.0</td>\n",
              "    </tr>\n",
              "    <tr>\n",
              "      <th>2</th>\n",
              "      <td>ABENGOUROU</td>\n",
              "      <td>3</td>\n",
              "      <td>2019</td>\n",
              "      <td>367.0</td>\n",
              "      <td>59.0</td>\n",
              "      <td>14.0</td>\n",
              "      <td>7.0</td>\n",
              "      <td>1300</td>\n",
              "      <td>224</td>\n",
              "      <td>147.0</td>\n",
              "      <td>26.0</td>\n",
              "      <td>NaN</td>\n",
              "      <td>5.0</td>\n",
              "      <td>5.0</td>\n",
              "      <td>47.0</td>\n",
              "      <td>42.0</td>\n",
              "      <td>819.0</td>\n",
              "      <td>665.0</td>\n",
              "      <td>50.0</td>\n",
              "      <td>214.0</td>\n",
              "      <td>50.0</td>\n",
              "      <td>1050.0</td>\n",
              "      <td>2148.0</td>\n",
              "      <td>NaN</td>\n",
              "      <td>340.0</td>\n",
              "      <td>NaN</td>\n",
              "      <td>1187.0</td>\n",
              "      <td>3636.0</td>\n",
              "    </tr>\n",
              "    <tr>\n",
              "      <th>3</th>\n",
              "      <td>ABENGOUROU</td>\n",
              "      <td>4</td>\n",
              "      <td>2019</td>\n",
              "      <td>583.0</td>\n",
              "      <td>46.0</td>\n",
              "      <td>6.0</td>\n",
              "      <td>1.0</td>\n",
              "      <td>1296</td>\n",
              "      <td>336</td>\n",
              "      <td>200.0</td>\n",
              "      <td>35.0</td>\n",
              "      <td>NaN</td>\n",
              "      <td>3.0</td>\n",
              "      <td>1.0</td>\n",
              "      <td>36.0</td>\n",
              "      <td>66.0</td>\n",
              "      <td>874.0</td>\n",
              "      <td>404.0</td>\n",
              "      <td>45.0</td>\n",
              "      <td>217.0</td>\n",
              "      <td>55.0</td>\n",
              "      <td>824.0</td>\n",
              "      <td>1787.0</td>\n",
              "      <td>NaN</td>\n",
              "      <td>340.0</td>\n",
              "      <td>NaN</td>\n",
              "      <td>889.0</td>\n",
              "      <td>2727.0</td>\n",
              "    </tr>\n",
              "    <tr>\n",
              "      <th>4</th>\n",
              "      <td>ABENGOUROU</td>\n",
              "      <td>5</td>\n",
              "      <td>2019</td>\n",
              "      <td>407.0</td>\n",
              "      <td>60.0</td>\n",
              "      <td>46.0</td>\n",
              "      <td>20.0</td>\n",
              "      <td>1356</td>\n",
              "      <td>281</td>\n",
              "      <td>156.0</td>\n",
              "      <td>24.0</td>\n",
              "      <td>NaN</td>\n",
              "      <td>1.0</td>\n",
              "      <td>1.0</td>\n",
              "      <td>71.0</td>\n",
              "      <td>47.0</td>\n",
              "      <td>813.0</td>\n",
              "      <td>545.0</td>\n",
              "      <td>14.0</td>\n",
              "      <td>321.0</td>\n",
              "      <td>256.0</td>\n",
              "      <td>1032.0</td>\n",
              "      <td>1635.0</td>\n",
              "      <td>NaN</td>\n",
              "      <td>355.0</td>\n",
              "      <td>NaN</td>\n",
              "      <td>604.0</td>\n",
              "      <td>1668.0</td>\n",
              "    </tr>\n",
              "  </tbody>\n",
              "</table>\n",
              "</div>"
            ],
            "text/plain": [
              "     district  month  ...  injection3_stock_end  pill_stock_end\n",
              "0  ABENGOUROU      1  ...                1501.0          3466.0\n",
              "1  ABENGOUROU      2  ...                1535.0          3327.0\n",
              "2  ABENGOUROU      3  ...                1187.0          3636.0\n",
              "3  ABENGOUROU      4  ...                 889.0          2727.0\n",
              "4  ABENGOUROU      5  ...                 604.0          1668.0\n",
              "\n",
              "[5 rows x 28 columns]"
            ]
          },
          "metadata": {
            "tags": []
          },
          "execution_count": 4
        }
      ]
    },
    {
      "cell_type": "code",
      "metadata": {
        "colab": {
          "base_uri": "https://localhost:8080/",
          "height": 203
        },
        "id": "zCBhwcxMUldy",
        "outputId": "b64cad84-d173-4ba2-d496-9c78add38e7c"
      },
      "source": [
        "# Previewing the site dataset\n",
        "site.head(5)"
      ],
      "execution_count": null,
      "outputs": [
        {
          "output_type": "execute_result",
          "data": {
            "text/html": [
              "<div>\n",
              "<style scoped>\n",
              "    .dataframe tbody tr th:only-of-type {\n",
              "        vertical-align: middle;\n",
              "    }\n",
              "\n",
              "    .dataframe tbody tr th {\n",
              "        vertical-align: top;\n",
              "    }\n",
              "\n",
              "    .dataframe thead th {\n",
              "        text-align: right;\n",
              "    }\n",
              "</style>\n",
              "<table border=\"1\" class=\"dataframe\">\n",
              "  <thead>\n",
              "    <tr style=\"text-align: right;\">\n",
              "      <th></th>\n",
              "      <th>site_code</th>\n",
              "      <th>site_type</th>\n",
              "      <th>site_region</th>\n",
              "      <th>site_district</th>\n",
              "      <th>site_latitude</th>\n",
              "      <th>site_longitude</th>\n",
              "    </tr>\n",
              "  </thead>\n",
              "  <tbody>\n",
              "    <tr>\n",
              "      <th>0</th>\n",
              "      <td>C1399</td>\n",
              "      <td>Health Center</td>\n",
              "      <td>ABIDJAN 2</td>\n",
              "      <td>COCODY-BINGERVILLE</td>\n",
              "      <td>5.352721</td>\n",
              "      <td>-3.940210</td>\n",
              "    </tr>\n",
              "    <tr>\n",
              "      <th>1</th>\n",
              "      <td>C4001</td>\n",
              "      <td>Hospital</td>\n",
              "      <td>INDENIE-DJUABLIN</td>\n",
              "      <td>ABENGOUROU</td>\n",
              "      <td>6.730937</td>\n",
              "      <td>-3.483863</td>\n",
              "    </tr>\n",
              "    <tr>\n",
              "      <th>2</th>\n",
              "      <td>C1004</td>\n",
              "      <td>Hospital</td>\n",
              "      <td>AGNEBY-TIASSA-ME</td>\n",
              "      <td>AGBOVILLE</td>\n",
              "      <td>5.928340</td>\n",
              "      <td>-4.211450</td>\n",
              "    </tr>\n",
              "    <tr>\n",
              "      <th>3</th>\n",
              "      <td>C4002</td>\n",
              "      <td>Hospital</td>\n",
              "      <td>BOUNKANI-GONTOUGO</td>\n",
              "      <td>BONDOUKOU</td>\n",
              "      <td>8.041860</td>\n",
              "      <td>-2.798370</td>\n",
              "    </tr>\n",
              "    <tr>\n",
              "      <th>4</th>\n",
              "      <td>C2002</td>\n",
              "      <td>Hospital</td>\n",
              "      <td>MARAHOUE</td>\n",
              "      <td>BOUAFLE</td>\n",
              "      <td>6.984120</td>\n",
              "      <td>-5.751980</td>\n",
              "    </tr>\n",
              "  </tbody>\n",
              "</table>\n",
              "</div>"
            ],
            "text/plain": [
              "  site_code      site_type  ... site_latitude site_longitude\n",
              "0     C1399  Health Center  ...      5.352721      -3.940210\n",
              "1     C4001       Hospital  ...      6.730937      -3.483863\n",
              "2     C1004       Hospital  ...      5.928340      -4.211450\n",
              "3     C4002       Hospital  ...      8.041860      -2.798370\n",
              "4     C2002       Hospital  ...      6.984120      -5.751980\n",
              "\n",
              "[5 rows x 6 columns]"
            ]
          },
          "metadata": {
            "tags": []
          },
          "execution_count": 5
        }
      ]
    },
    {
      "cell_type": "code",
      "metadata": {
        "id": "sjyRxbujs9lv",
        "colab": {
          "base_uri": "https://localhost:8080/",
          "height": 307
        },
        "outputId": "4a268db2-cafc-4f1e-df04-1a0f3f5ef408"
      },
      "source": [
        "# Previewing our Train dataset\n",
        "df.head(5)"
      ],
      "execution_count": null,
      "outputs": [
        {
          "output_type": "execute_result",
          "data": {
            "text/html": [
              "<div>\n",
              "<style scoped>\n",
              "    .dataframe tbody tr th:only-of-type {\n",
              "        vertical-align: middle;\n",
              "    }\n",
              "\n",
              "    .dataframe tbody tr th {\n",
              "        vertical-align: top;\n",
              "    }\n",
              "\n",
              "    .dataframe thead th {\n",
              "        text-align: right;\n",
              "    }\n",
              "</style>\n",
              "<table border=\"1\" class=\"dataframe\">\n",
              "  <thead>\n",
              "    <tr style=\"text-align: right;\">\n",
              "      <th></th>\n",
              "      <th>year</th>\n",
              "      <th>month</th>\n",
              "      <th>region</th>\n",
              "      <th>district</th>\n",
              "      <th>site_code</th>\n",
              "      <th>product_code</th>\n",
              "      <th>stock_initial</th>\n",
              "      <th>stock_received</th>\n",
              "      <th>stock_distributed</th>\n",
              "      <th>stock_adjustment</th>\n",
              "      <th>stock_end</th>\n",
              "      <th>average_monthly_consumption</th>\n",
              "      <th>stock_stockout_days</th>\n",
              "      <th>stock_ordered</th>\n",
              "    </tr>\n",
              "  </thead>\n",
              "  <tbody>\n",
              "    <tr>\n",
              "      <th>0</th>\n",
              "      <td>2019</td>\n",
              "      <td>1</td>\n",
              "      <td>INDENIE-DJUABLIN</td>\n",
              "      <td>ABENGOUROU</td>\n",
              "      <td>C4001</td>\n",
              "      <td>AS27134</td>\n",
              "      <td>75</td>\n",
              "      <td>0</td>\n",
              "      <td>21</td>\n",
              "      <td>-54</td>\n",
              "      <td>0</td>\n",
              "      <td>18</td>\n",
              "      <td>0</td>\n",
              "      <td>100.0</td>\n",
              "    </tr>\n",
              "    <tr>\n",
              "      <th>1</th>\n",
              "      <td>2019</td>\n",
              "      <td>1</td>\n",
              "      <td>INDENIE-DJUABLIN</td>\n",
              "      <td>ABENGOUROU</td>\n",
              "      <td>C4001</td>\n",
              "      <td>AS27132</td>\n",
              "      <td>3</td>\n",
              "      <td>0</td>\n",
              "      <td>3</td>\n",
              "      <td>0</td>\n",
              "      <td>0</td>\n",
              "      <td>2</td>\n",
              "      <td>0</td>\n",
              "      <td>10.0</td>\n",
              "    </tr>\n",
              "    <tr>\n",
              "      <th>2</th>\n",
              "      <td>2019</td>\n",
              "      <td>1</td>\n",
              "      <td>INDENIE-DJUABLIN</td>\n",
              "      <td>ABENGOUROU</td>\n",
              "      <td>C4001</td>\n",
              "      <td>AS27000</td>\n",
              "      <td>0</td>\n",
              "      <td>75</td>\n",
              "      <td>22</td>\n",
              "      <td>0</td>\n",
              "      <td>53</td>\n",
              "      <td>9</td>\n",
              "      <td>0</td>\n",
              "      <td>0.0</td>\n",
              "    </tr>\n",
              "    <tr>\n",
              "      <th>3</th>\n",
              "      <td>2019</td>\n",
              "      <td>1</td>\n",
              "      <td>INDENIE-DJUABLIN</td>\n",
              "      <td>ABENGOUROU</td>\n",
              "      <td>C4001</td>\n",
              "      <td>AS27137</td>\n",
              "      <td>2</td>\n",
              "      <td>0</td>\n",
              "      <td>0</td>\n",
              "      <td>0</td>\n",
              "      <td>2</td>\n",
              "      <td>0</td>\n",
              "      <td>0</td>\n",
              "      <td>0.0</td>\n",
              "    </tr>\n",
              "    <tr>\n",
              "      <th>4</th>\n",
              "      <td>2019</td>\n",
              "      <td>1</td>\n",
              "      <td>INDENIE-DJUABLIN</td>\n",
              "      <td>ABENGOUROU</td>\n",
              "      <td>C4001</td>\n",
              "      <td>AS27138</td>\n",
              "      <td>45</td>\n",
              "      <td>0</td>\n",
              "      <td>2</td>\n",
              "      <td>0</td>\n",
              "      <td>43</td>\n",
              "      <td>1</td>\n",
              "      <td>0</td>\n",
              "      <td>0.0</td>\n",
              "    </tr>\n",
              "  </tbody>\n",
              "</table>\n",
              "</div>"
            ],
            "text/plain": [
              "   year  month  ... stock_stockout_days stock_ordered\n",
              "0  2019      1  ...                   0         100.0\n",
              "1  2019      1  ...                   0          10.0\n",
              "2  2019      1  ...                   0           0.0\n",
              "3  2019      1  ...                   0           0.0\n",
              "4  2019      1  ...                   0           0.0\n",
              "\n",
              "[5 rows x 14 columns]"
            ]
          },
          "metadata": {
            "tags": []
          },
          "execution_count": 6
        }
      ]
    },
    {
      "cell_type": "code",
      "metadata": {
        "colab": {
          "base_uri": "https://localhost:8080/"
        },
        "id": "l53xTMu2nlIZ",
        "outputId": "418b8e0d-ee59-48ec-9a25-4452ecb5477e"
      },
      "source": [
        "# Check the records we have in our annual dataset\n",
        "print('annual dataset\\n',annual.shape,'\\n')\n",
        "print('monthly dataset\\n',monthly.shape,'\\n')\n",
        "print('Train dataset\\n',df.shape,'\\n')\n"
      ],
      "execution_count": null,
      "outputs": [
        {
          "output_type": "stream",
          "text": [
            "annual dataset\n",
            " (339, 27) \n",
            "\n",
            "monthly dataset\n",
            " (678, 28) \n",
            "\n",
            "Train dataset\n",
            " (35753, 14) \n",
            "\n"
          ],
          "name": "stdout"
        }
      ]
    },
    {
      "cell_type": "code",
      "metadata": {
        "colab": {
          "base_uri": "https://localhost:8080/"
        },
        "id": "PBI-fdrLX1rs",
        "outputId": "ce4ee920-4e23-4ff9-d9c3-cf56ed92cd14"
      },
      "source": [
        "# Checking the info on our annual dataset \n",
        "annual.info()"
      ],
      "execution_count": null,
      "outputs": [
        {
          "output_type": "stream",
          "text": [
            "<class 'pandas.core.frame.DataFrame'>\n",
            "RangeIndex: 339 entries, 0 to 338\n",
            "Data columns (total 27 columns):\n",
            " #   Column                       Non-Null Count  Dtype  \n",
            "---  ------                       --------------  -----  \n",
            " 0   district                     339 non-null    object \n",
            " 1   year                         339 non-null    int64  \n",
            " 2   implant_women_old            326 non-null    float64\n",
            " 3   implant_women_new            337 non-null    float64\n",
            " 4   injection2_women_old         337 non-null    float64\n",
            " 5   injection2_women_new         334 non-null    float64\n",
            " 6   injection3_women_old         339 non-null    int64  \n",
            " 7   injection3_women_new         339 non-null    int64  \n",
            " 8   pill_women_old               339 non-null    float64\n",
            " 9   pill_women_new               338 non-null    float64\n",
            " 10  iud_women_old                212 non-null    float64\n",
            " 11  iud_women_new                277 non-null    float64\n",
            " 12  iud_number_dispensed         233 non-null    float64\n",
            " 13  implant_number_dispensed     333 non-null    float64\n",
            " 14  injection2_number_dispensed  331 non-null    float64\n",
            " 15  injection3_number_dispensed  338 non-null    float64\n",
            " 16  pill_number_dispensed        334 non-null    float64\n",
            " 17  iud_number_received          245 non-null    float64\n",
            " 18  implant_number_received      333 non-null    float64\n",
            " 19  injection2_number_received   328 non-null    float64\n",
            " 20  injection3_number_received   337 non-null    float64\n",
            " 21  pill_number_received         332 non-null    float64\n",
            " 22  iud_stock_end                0 non-null      float64\n",
            " 23  implant_stock_end            266 non-null    float64\n",
            " 24  injection2_stock_end         0 non-null      float64\n",
            " 25  injection3_stock_end         271 non-null    float64\n",
            " 26  pill_stock_end               266 non-null    float64\n",
            "dtypes: float64(23), int64(3), object(1)\n",
            "memory usage: 71.6+ KB\n"
          ],
          "name": "stdout"
        }
      ]
    },
    {
      "cell_type": "code",
      "metadata": {
        "colab": {
          "base_uri": "https://localhost:8080/"
        },
        "id": "Bwg3n0_SXNIp",
        "outputId": "ba042848-56c9-4e93-ce85-e86b9093ad37"
      },
      "source": [
        "# checking the info on our monthly dataset \n",
        "monthly.info()"
      ],
      "execution_count": null,
      "outputs": [
        {
          "output_type": "stream",
          "text": [
            "<class 'pandas.core.frame.DataFrame'>\n",
            "RangeIndex: 678 entries, 0 to 677\n",
            "Data columns (total 28 columns):\n",
            " #   Column                       Non-Null Count  Dtype  \n",
            "---  ------                       --------------  -----  \n",
            " 0   district                     678 non-null    object \n",
            " 1   month                        678 non-null    int64  \n",
            " 2   year                         678 non-null    int64  \n",
            " 3   implant_women_old            610 non-null    float64\n",
            " 4   implant_women_new            672 non-null    float64\n",
            " 5   injection2_women_old         556 non-null    float64\n",
            " 6   injection2_women_new         481 non-null    float64\n",
            " 7   injection3_women_old         678 non-null    int64  \n",
            " 8   injection3_women_new         678 non-null    int64  \n",
            " 9   pill_women_old               621 non-null    float64\n",
            " 10  pill_women_new               595 non-null    float64\n",
            " 11  iud_women_old                250 non-null    float64\n",
            " 12  iud_women_new                306 non-null    float64\n",
            " 13  iud_number_dispensed         249 non-null    float64\n",
            " 14  implant_number_dispensed     649 non-null    float64\n",
            " 15  injection2_number_dispensed  508 non-null    float64\n",
            " 16  injection3_number_dispensed  662 non-null    float64\n",
            " 17  pill_number_dispensed        615 non-null    float64\n",
            " 18  iud_number_received          334 non-null    float64\n",
            " 19  implant_number_received      643 non-null    float64\n",
            " 20  injection2_number_received   496 non-null    float64\n",
            " 21  injection3_number_received   657 non-null    float64\n",
            " 22  pill_number_received         615 non-null    float64\n",
            " 23  iud_stock_end                0 non-null      float64\n",
            " 24  implant_stock_end            645 non-null    float64\n",
            " 25  injection2_stock_end         0 non-null      float64\n",
            " 26  injection3_stock_end         659 non-null    float64\n",
            " 27  pill_stock_end               626 non-null    float64\n",
            "dtypes: float64(23), int64(4), object(1)\n",
            "memory usage: 148.4+ KB\n"
          ],
          "name": "stdout"
        }
      ]
    },
    {
      "cell_type": "code",
      "metadata": {
        "colab": {
          "base_uri": "https://localhost:8080/"
        },
        "id": "LVr1gdfCXlxb",
        "outputId": "7d4189ba-65e6-49c3-fbb6-8b8e653e4265"
      },
      "source": [
        "# checking the info on our train dataset \n",
        "df.info()"
      ],
      "execution_count": null,
      "outputs": [
        {
          "output_type": "stream",
          "text": [
            "<class 'pandas.core.frame.DataFrame'>\n",
            "RangeIndex: 35753 entries, 0 to 35752\n",
            "Data columns (total 14 columns):\n",
            " #   Column                       Non-Null Count  Dtype  \n",
            "---  ------                       --------------  -----  \n",
            " 0   year                         35753 non-null  int64  \n",
            " 1   month                        35753 non-null  int64  \n",
            " 2   region                       35753 non-null  object \n",
            " 3   district                     35753 non-null  object \n",
            " 4   site_code                    35753 non-null  object \n",
            " 5   product_code                 35753 non-null  object \n",
            " 6   stock_initial                35753 non-null  int64  \n",
            " 7   stock_received               35753 non-null  int64  \n",
            " 8   stock_distributed            35753 non-null  int64  \n",
            " 9   stock_adjustment             35753 non-null  int64  \n",
            " 10  stock_end                    35753 non-null  int64  \n",
            " 11  average_monthly_consumption  35753 non-null  int64  \n",
            " 12  stock_stockout_days          35753 non-null  int64  \n",
            " 13  stock_ordered                34990 non-null  float64\n",
            "dtypes: float64(1), int64(9), object(4)\n",
            "memory usage: 3.8+ MB\n"
          ],
          "name": "stdout"
        }
      ]
    },
    {
      "cell_type": "code",
      "metadata": {
        "colab": {
          "base_uri": "https://localhost:8080/",
          "height": 850
        },
        "id": "Z4o4kftMoV75",
        "outputId": "9fb89bc9-5655-4047-d90f-ca7221589e56"
      },
      "source": [
        "# Summary of the numerical attributes\n",
        "annual.describe().transpose()"
      ],
      "execution_count": null,
      "outputs": [
        {
          "output_type": "execute_result",
          "data": {
            "text/html": [
              "<div>\n",
              "<style scoped>\n",
              "    .dataframe tbody tr th:only-of-type {\n",
              "        vertical-align: middle;\n",
              "    }\n",
              "\n",
              "    .dataframe tbody tr th {\n",
              "        vertical-align: top;\n",
              "    }\n",
              "\n",
              "    .dataframe thead th {\n",
              "        text-align: right;\n",
              "    }\n",
              "</style>\n",
              "<table border=\"1\" class=\"dataframe\">\n",
              "  <thead>\n",
              "    <tr style=\"text-align: right;\">\n",
              "      <th></th>\n",
              "      <th>count</th>\n",
              "      <th>mean</th>\n",
              "      <th>std</th>\n",
              "      <th>min</th>\n",
              "      <th>25%</th>\n",
              "      <th>50%</th>\n",
              "      <th>75%</th>\n",
              "      <th>max</th>\n",
              "    </tr>\n",
              "  </thead>\n",
              "  <tbody>\n",
              "    <tr>\n",
              "      <th>year</th>\n",
              "      <td>339.0</td>\n",
              "      <td>2017.000000</td>\n",
              "      <td>0.817704</td>\n",
              "      <td>2016.0</td>\n",
              "      <td>2016.00</td>\n",
              "      <td>2017.0</td>\n",
              "      <td>2018.00</td>\n",
              "      <td>2018.0</td>\n",
              "    </tr>\n",
              "    <tr>\n",
              "      <th>implant_women_old</th>\n",
              "      <td>326.0</td>\n",
              "      <td>1499.193252</td>\n",
              "      <td>2975.216904</td>\n",
              "      <td>1.0</td>\n",
              "      <td>90.75</td>\n",
              "      <td>459.0</td>\n",
              "      <td>1430.00</td>\n",
              "      <td>23226.0</td>\n",
              "    </tr>\n",
              "    <tr>\n",
              "      <th>implant_women_new</th>\n",
              "      <td>337.0</td>\n",
              "      <td>572.875371</td>\n",
              "      <td>633.746985</td>\n",
              "      <td>5.0</td>\n",
              "      <td>146.00</td>\n",
              "      <td>350.0</td>\n",
              "      <td>749.00</td>\n",
              "      <td>3959.0</td>\n",
              "    </tr>\n",
              "    <tr>\n",
              "      <th>injection2_women_old</th>\n",
              "      <td>337.0</td>\n",
              "      <td>1097.528190</td>\n",
              "      <td>1641.024406</td>\n",
              "      <td>2.0</td>\n",
              "      <td>132.00</td>\n",
              "      <td>498.0</td>\n",
              "      <td>1295.00</td>\n",
              "      <td>10349.0</td>\n",
              "    </tr>\n",
              "    <tr>\n",
              "      <th>injection2_women_new</th>\n",
              "      <td>334.0</td>\n",
              "      <td>243.158683</td>\n",
              "      <td>398.174681</td>\n",
              "      <td>1.0</td>\n",
              "      <td>60.00</td>\n",
              "      <td>145.0</td>\n",
              "      <td>293.75</td>\n",
              "      <td>4535.0</td>\n",
              "    </tr>\n",
              "    <tr>\n",
              "      <th>injection3_women_old</th>\n",
              "      <td>339.0</td>\n",
              "      <td>5657.554572</td>\n",
              "      <td>25958.064589</td>\n",
              "      <td>144.0</td>\n",
              "      <td>1612.50</td>\n",
              "      <td>2828.0</td>\n",
              "      <td>5433.00</td>\n",
              "      <td>475882.0</td>\n",
              "    </tr>\n",
              "    <tr>\n",
              "      <th>injection3_women_new</th>\n",
              "      <td>339.0</td>\n",
              "      <td>1065.843658</td>\n",
              "      <td>809.122417</td>\n",
              "      <td>65.0</td>\n",
              "      <td>460.00</td>\n",
              "      <td>879.0</td>\n",
              "      <td>1456.00</td>\n",
              "      <td>5164.0</td>\n",
              "    </tr>\n",
              "    <tr>\n",
              "      <th>pill_women_old</th>\n",
              "      <td>339.0</td>\n",
              "      <td>1206.662832</td>\n",
              "      <td>1774.006091</td>\n",
              "      <td>1.0</td>\n",
              "      <td>154.00</td>\n",
              "      <td>490.0</td>\n",
              "      <td>1502.00</td>\n",
              "      <td>12508.0</td>\n",
              "    </tr>\n",
              "    <tr>\n",
              "      <th>pill_women_new</th>\n",
              "      <td>338.0</td>\n",
              "      <td>269.105621</td>\n",
              "      <td>615.979742</td>\n",
              "      <td>1.0</td>\n",
              "      <td>60.50</td>\n",
              "      <td>141.0</td>\n",
              "      <td>311.25</td>\n",
              "      <td>8376.0</td>\n",
              "    </tr>\n",
              "    <tr>\n",
              "      <th>iud_women_old</th>\n",
              "      <td>212.0</td>\n",
              "      <td>138.396226</td>\n",
              "      <td>367.104029</td>\n",
              "      <td>1.0</td>\n",
              "      <td>12.00</td>\n",
              "      <td>37.5</td>\n",
              "      <td>130.00</td>\n",
              "      <td>3482.0</td>\n",
              "    </tr>\n",
              "    <tr>\n",
              "      <th>iud_women_new</th>\n",
              "      <td>277.0</td>\n",
              "      <td>46.454874</td>\n",
              "      <td>85.993653</td>\n",
              "      <td>1.0</td>\n",
              "      <td>4.00</td>\n",
              "      <td>14.0</td>\n",
              "      <td>43.00</td>\n",
              "      <td>889.0</td>\n",
              "    </tr>\n",
              "    <tr>\n",
              "      <th>iud_number_dispensed</th>\n",
              "      <td>233.0</td>\n",
              "      <td>70.763948</td>\n",
              "      <td>151.963812</td>\n",
              "      <td>1.0</td>\n",
              "      <td>5.00</td>\n",
              "      <td>17.0</td>\n",
              "      <td>54.00</td>\n",
              "      <td>1243.0</td>\n",
              "    </tr>\n",
              "    <tr>\n",
              "      <th>implant_number_dispensed</th>\n",
              "      <td>333.0</td>\n",
              "      <td>507.852853</td>\n",
              "      <td>591.170484</td>\n",
              "      <td>2.0</td>\n",
              "      <td>134.00</td>\n",
              "      <td>304.0</td>\n",
              "      <td>663.00</td>\n",
              "      <td>3990.0</td>\n",
              "    </tr>\n",
              "    <tr>\n",
              "      <th>injection2_number_dispensed</th>\n",
              "      <td>331.0</td>\n",
              "      <td>1034.655589</td>\n",
              "      <td>1685.400351</td>\n",
              "      <td>1.0</td>\n",
              "      <td>130.00</td>\n",
              "      <td>427.0</td>\n",
              "      <td>988.50</td>\n",
              "      <td>12131.0</td>\n",
              "    </tr>\n",
              "    <tr>\n",
              "      <th>injection3_number_dispensed</th>\n",
              "      <td>338.0</td>\n",
              "      <td>3023.763314</td>\n",
              "      <td>2811.226297</td>\n",
              "      <td>49.0</td>\n",
              "      <td>1125.50</td>\n",
              "      <td>2142.0</td>\n",
              "      <td>3713.50</td>\n",
              "      <td>15915.0</td>\n",
              "    </tr>\n",
              "    <tr>\n",
              "      <th>pill_number_dispensed</th>\n",
              "      <td>334.0</td>\n",
              "      <td>3366.574850</td>\n",
              "      <td>5942.414705</td>\n",
              "      <td>2.0</td>\n",
              "      <td>388.75</td>\n",
              "      <td>1351.0</td>\n",
              "      <td>3758.50</td>\n",
              "      <td>50638.0</td>\n",
              "    </tr>\n",
              "    <tr>\n",
              "      <th>iud_number_received</th>\n",
              "      <td>245.0</td>\n",
              "      <td>296.371429</td>\n",
              "      <td>566.892801</td>\n",
              "      <td>1.0</td>\n",
              "      <td>15.00</td>\n",
              "      <td>58.0</td>\n",
              "      <td>276.00</td>\n",
              "      <td>3342.0</td>\n",
              "    </tr>\n",
              "    <tr>\n",
              "      <th>implant_number_received</th>\n",
              "      <td>333.0</td>\n",
              "      <td>1054.543544</td>\n",
              "      <td>1436.531292</td>\n",
              "      <td>10.0</td>\n",
              "      <td>237.00</td>\n",
              "      <td>582.0</td>\n",
              "      <td>1195.00</td>\n",
              "      <td>10972.0</td>\n",
              "    </tr>\n",
              "    <tr>\n",
              "      <th>injection2_number_received</th>\n",
              "      <td>328.0</td>\n",
              "      <td>2961.426829</td>\n",
              "      <td>7012.029936</td>\n",
              "      <td>2.0</td>\n",
              "      <td>350.50</td>\n",
              "      <td>917.0</td>\n",
              "      <td>1983.25</td>\n",
              "      <td>64521.0</td>\n",
              "    </tr>\n",
              "    <tr>\n",
              "      <th>injection3_number_received</th>\n",
              "      <td>337.0</td>\n",
              "      <td>4972.287834</td>\n",
              "      <td>6827.590073</td>\n",
              "      <td>76.0</td>\n",
              "      <td>1504.00</td>\n",
              "      <td>2863.0</td>\n",
              "      <td>4986.00</td>\n",
              "      <td>57901.0</td>\n",
              "    </tr>\n",
              "    <tr>\n",
              "      <th>pill_number_received</th>\n",
              "      <td>332.0</td>\n",
              "      <td>8063.759036</td>\n",
              "      <td>15147.234031</td>\n",
              "      <td>1.0</td>\n",
              "      <td>827.75</td>\n",
              "      <td>2658.0</td>\n",
              "      <td>7398.25</td>\n",
              "      <td>105333.0</td>\n",
              "    </tr>\n",
              "    <tr>\n",
              "      <th>iud_stock_end</th>\n",
              "      <td>0.0</td>\n",
              "      <td>NaN</td>\n",
              "      <td>NaN</td>\n",
              "      <td>NaN</td>\n",
              "      <td>NaN</td>\n",
              "      <td>NaN</td>\n",
              "      <td>NaN</td>\n",
              "      <td>NaN</td>\n",
              "    </tr>\n",
              "    <tr>\n",
              "      <th>implant_stock_end</th>\n",
              "      <td>266.0</td>\n",
              "      <td>1042.857143</td>\n",
              "      <td>1194.955524</td>\n",
              "      <td>2.0</td>\n",
              "      <td>221.75</td>\n",
              "      <td>583.5</td>\n",
              "      <td>1495.00</td>\n",
              "      <td>7474.0</td>\n",
              "    </tr>\n",
              "    <tr>\n",
              "      <th>injection2_stock_end</th>\n",
              "      <td>0.0</td>\n",
              "      <td>NaN</td>\n",
              "      <td>NaN</td>\n",
              "      <td>NaN</td>\n",
              "      <td>NaN</td>\n",
              "      <td>NaN</td>\n",
              "      <td>NaN</td>\n",
              "      <td>NaN</td>\n",
              "    </tr>\n",
              "    <tr>\n",
              "      <th>injection3_stock_end</th>\n",
              "      <td>271.0</td>\n",
              "      <td>3579.070111</td>\n",
              "      <td>4794.325204</td>\n",
              "      <td>5.0</td>\n",
              "      <td>880.50</td>\n",
              "      <td>2066.0</td>\n",
              "      <td>4054.00</td>\n",
              "      <td>32457.0</td>\n",
              "    </tr>\n",
              "    <tr>\n",
              "      <th>pill_stock_end</th>\n",
              "      <td>266.0</td>\n",
              "      <td>9146.868421</td>\n",
              "      <td>18806.852458</td>\n",
              "      <td>1.0</td>\n",
              "      <td>626.00</td>\n",
              "      <td>2923.0</td>\n",
              "      <td>7919.50</td>\n",
              "      <td>181880.0</td>\n",
              "    </tr>\n",
              "  </tbody>\n",
              "</table>\n",
              "</div>"
            ],
            "text/plain": [
              "                             count         mean  ...      75%       max\n",
              "year                         339.0  2017.000000  ...  2018.00    2018.0\n",
              "implant_women_old            326.0  1499.193252  ...  1430.00   23226.0\n",
              "implant_women_new            337.0   572.875371  ...   749.00    3959.0\n",
              "injection2_women_old         337.0  1097.528190  ...  1295.00   10349.0\n",
              "injection2_women_new         334.0   243.158683  ...   293.75    4535.0\n",
              "injection3_women_old         339.0  5657.554572  ...  5433.00  475882.0\n",
              "injection3_women_new         339.0  1065.843658  ...  1456.00    5164.0\n",
              "pill_women_old               339.0  1206.662832  ...  1502.00   12508.0\n",
              "pill_women_new               338.0   269.105621  ...   311.25    8376.0\n",
              "iud_women_old                212.0   138.396226  ...   130.00    3482.0\n",
              "iud_women_new                277.0    46.454874  ...    43.00     889.0\n",
              "iud_number_dispensed         233.0    70.763948  ...    54.00    1243.0\n",
              "implant_number_dispensed     333.0   507.852853  ...   663.00    3990.0\n",
              "injection2_number_dispensed  331.0  1034.655589  ...   988.50   12131.0\n",
              "injection3_number_dispensed  338.0  3023.763314  ...  3713.50   15915.0\n",
              "pill_number_dispensed        334.0  3366.574850  ...  3758.50   50638.0\n",
              "iud_number_received          245.0   296.371429  ...   276.00    3342.0\n",
              "implant_number_received      333.0  1054.543544  ...  1195.00   10972.0\n",
              "injection2_number_received   328.0  2961.426829  ...  1983.25   64521.0\n",
              "injection3_number_received   337.0  4972.287834  ...  4986.00   57901.0\n",
              "pill_number_received         332.0  8063.759036  ...  7398.25  105333.0\n",
              "iud_stock_end                  0.0          NaN  ...      NaN       NaN\n",
              "implant_stock_end            266.0  1042.857143  ...  1495.00    7474.0\n",
              "injection2_stock_end           0.0          NaN  ...      NaN       NaN\n",
              "injection3_stock_end         271.0  3579.070111  ...  4054.00   32457.0\n",
              "pill_stock_end               266.0  9146.868421  ...  7919.50  181880.0\n",
              "\n",
              "[26 rows x 8 columns]"
            ]
          },
          "metadata": {
            "tags": []
          },
          "execution_count": 11
        }
      ]
    },
    {
      "cell_type": "code",
      "metadata": {
        "colab": {
          "base_uri": "https://localhost:8080/",
          "height": 881
        },
        "id": "_XP4UrekX0hr",
        "outputId": "340c5dda-220c-49c8-cf06-a670c706039b"
      },
      "source": [
        "# Summary of the numerical attributes\n",
        "monthly.describe().transpose()"
      ],
      "execution_count": null,
      "outputs": [
        {
          "output_type": "execute_result",
          "data": {
            "text/html": [
              "<div>\n",
              "<style scoped>\n",
              "    .dataframe tbody tr th:only-of-type {\n",
              "        vertical-align: middle;\n",
              "    }\n",
              "\n",
              "    .dataframe tbody tr th {\n",
              "        vertical-align: top;\n",
              "    }\n",
              "\n",
              "    .dataframe thead th {\n",
              "        text-align: right;\n",
              "    }\n",
              "</style>\n",
              "<table border=\"1\" class=\"dataframe\">\n",
              "  <thead>\n",
              "    <tr style=\"text-align: right;\">\n",
              "      <th></th>\n",
              "      <th>count</th>\n",
              "      <th>mean</th>\n",
              "      <th>std</th>\n",
              "      <th>min</th>\n",
              "      <th>25%</th>\n",
              "      <th>50%</th>\n",
              "      <th>75%</th>\n",
              "      <th>max</th>\n",
              "    </tr>\n",
              "  </thead>\n",
              "  <tbody>\n",
              "    <tr>\n",
              "      <th>month</th>\n",
              "      <td>678.0</td>\n",
              "      <td>3.500000</td>\n",
              "      <td>1.709086</td>\n",
              "      <td>1.0</td>\n",
              "      <td>2.00</td>\n",
              "      <td>3.5</td>\n",
              "      <td>5.00</td>\n",
              "      <td>6.0</td>\n",
              "    </tr>\n",
              "    <tr>\n",
              "      <th>year</th>\n",
              "      <td>678.0</td>\n",
              "      <td>2019.000000</td>\n",
              "      <td>0.000000</td>\n",
              "      <td>2019.0</td>\n",
              "      <td>2019.00</td>\n",
              "      <td>2019.0</td>\n",
              "      <td>2019.00</td>\n",
              "      <td>2019.0</td>\n",
              "    </tr>\n",
              "    <tr>\n",
              "      <th>implant_women_old</th>\n",
              "      <td>610.0</td>\n",
              "      <td>213.509836</td>\n",
              "      <td>358.961649</td>\n",
              "      <td>1.0</td>\n",
              "      <td>12.00</td>\n",
              "      <td>75.0</td>\n",
              "      <td>288.50</td>\n",
              "      <td>2883.0</td>\n",
              "    </tr>\n",
              "    <tr>\n",
              "      <th>implant_women_new</th>\n",
              "      <td>672.0</td>\n",
              "      <td>77.831845</td>\n",
              "      <td>108.731927</td>\n",
              "      <td>1.0</td>\n",
              "      <td>21.00</td>\n",
              "      <td>45.0</td>\n",
              "      <td>87.00</td>\n",
              "      <td>1344.0</td>\n",
              "    </tr>\n",
              "    <tr>\n",
              "      <th>injection2_women_old</th>\n",
              "      <td>556.0</td>\n",
              "      <td>39.429856</td>\n",
              "      <td>71.846085</td>\n",
              "      <td>1.0</td>\n",
              "      <td>6.00</td>\n",
              "      <td>18.0</td>\n",
              "      <td>50.00</td>\n",
              "      <td>1259.0</td>\n",
              "    </tr>\n",
              "    <tr>\n",
              "      <th>injection2_women_new</th>\n",
              "      <td>481.0</td>\n",
              "      <td>9.428274</td>\n",
              "      <td>12.449881</td>\n",
              "      <td>1.0</td>\n",
              "      <td>2.00</td>\n",
              "      <td>5.0</td>\n",
              "      <td>12.00</td>\n",
              "      <td>133.0</td>\n",
              "    </tr>\n",
              "    <tr>\n",
              "      <th>injection3_women_old</th>\n",
              "      <td>678.0</td>\n",
              "      <td>495.436578</td>\n",
              "      <td>467.385785</td>\n",
              "      <td>20.0</td>\n",
              "      <td>184.50</td>\n",
              "      <td>320.0</td>\n",
              "      <td>665.75</td>\n",
              "      <td>2534.0</td>\n",
              "    </tr>\n",
              "    <tr>\n",
              "      <th>injection3_women_new</th>\n",
              "      <td>678.0</td>\n",
              "      <td>110.523599</td>\n",
              "      <td>94.042050</td>\n",
              "      <td>7.0</td>\n",
              "      <td>51.00</td>\n",
              "      <td>87.0</td>\n",
              "      <td>136.75</td>\n",
              "      <td>1061.0</td>\n",
              "    </tr>\n",
              "    <tr>\n",
              "      <th>pill_women_old</th>\n",
              "      <td>621.0</td>\n",
              "      <td>98.466989</td>\n",
              "      <td>126.187320</td>\n",
              "      <td>1.0</td>\n",
              "      <td>15.00</td>\n",
              "      <td>45.0</td>\n",
              "      <td>130.00</td>\n",
              "      <td>726.0</td>\n",
              "    </tr>\n",
              "    <tr>\n",
              "      <th>pill_women_new</th>\n",
              "      <td>595.0</td>\n",
              "      <td>17.986555</td>\n",
              "      <td>26.655676</td>\n",
              "      <td>1.0</td>\n",
              "      <td>5.00</td>\n",
              "      <td>10.0</td>\n",
              "      <td>21.00</td>\n",
              "      <td>314.0</td>\n",
              "    </tr>\n",
              "    <tr>\n",
              "      <th>iud_women_old</th>\n",
              "      <td>250.0</td>\n",
              "      <td>29.924000</td>\n",
              "      <td>72.441128</td>\n",
              "      <td>1.0</td>\n",
              "      <td>2.00</td>\n",
              "      <td>8.0</td>\n",
              "      <td>22.50</td>\n",
              "      <td>498.0</td>\n",
              "    </tr>\n",
              "    <tr>\n",
              "      <th>iud_women_new</th>\n",
              "      <td>306.0</td>\n",
              "      <td>7.071895</td>\n",
              "      <td>9.717387</td>\n",
              "      <td>1.0</td>\n",
              "      <td>2.00</td>\n",
              "      <td>4.0</td>\n",
              "      <td>9.00</td>\n",
              "      <td>99.0</td>\n",
              "    </tr>\n",
              "    <tr>\n",
              "      <th>iud_number_dispensed</th>\n",
              "      <td>249.0</td>\n",
              "      <td>14.269076</td>\n",
              "      <td>31.723031</td>\n",
              "      <td>1.0</td>\n",
              "      <td>2.00</td>\n",
              "      <td>5.0</td>\n",
              "      <td>16.00</td>\n",
              "      <td>410.0</td>\n",
              "    </tr>\n",
              "    <tr>\n",
              "      <th>implant_number_dispensed</th>\n",
              "      <td>649.0</td>\n",
              "      <td>73.805855</td>\n",
              "      <td>138.604484</td>\n",
              "      <td>1.0</td>\n",
              "      <td>18.00</td>\n",
              "      <td>43.0</td>\n",
              "      <td>88.00</td>\n",
              "      <td>2889.0</td>\n",
              "    </tr>\n",
              "    <tr>\n",
              "      <th>injection2_number_dispensed</th>\n",
              "      <td>508.0</td>\n",
              "      <td>29.826772</td>\n",
              "      <td>51.024934</td>\n",
              "      <td>1.0</td>\n",
              "      <td>5.00</td>\n",
              "      <td>14.0</td>\n",
              "      <td>34.25</td>\n",
              "      <td>487.0</td>\n",
              "    </tr>\n",
              "    <tr>\n",
              "      <th>injection3_number_dispensed</th>\n",
              "      <td>662.0</td>\n",
              "      <td>354.691843</td>\n",
              "      <td>323.045598</td>\n",
              "      <td>1.0</td>\n",
              "      <td>132.25</td>\n",
              "      <td>260.0</td>\n",
              "      <td>449.25</td>\n",
              "      <td>1903.0</td>\n",
              "    </tr>\n",
              "    <tr>\n",
              "      <th>pill_number_dispensed</th>\n",
              "      <td>615.0</td>\n",
              "      <td>278.626016</td>\n",
              "      <td>536.933451</td>\n",
              "      <td>1.0</td>\n",
              "      <td>28.00</td>\n",
              "      <td>94.0</td>\n",
              "      <td>300.50</td>\n",
              "      <td>5711.0</td>\n",
              "    </tr>\n",
              "    <tr>\n",
              "      <th>iud_number_received</th>\n",
              "      <td>334.0</td>\n",
              "      <td>30.311377</td>\n",
              "      <td>46.266678</td>\n",
              "      <td>1.0</td>\n",
              "      <td>5.00</td>\n",
              "      <td>10.5</td>\n",
              "      <td>35.50</td>\n",
              "      <td>364.0</td>\n",
              "    </tr>\n",
              "    <tr>\n",
              "      <th>implant_number_received</th>\n",
              "      <td>643.0</td>\n",
              "      <td>138.527216</td>\n",
              "      <td>191.089246</td>\n",
              "      <td>1.0</td>\n",
              "      <td>35.50</td>\n",
              "      <td>82.0</td>\n",
              "      <td>161.00</td>\n",
              "      <td>2333.0</td>\n",
              "    </tr>\n",
              "    <tr>\n",
              "      <th>injection2_number_received</th>\n",
              "      <td>496.0</td>\n",
              "      <td>102.322581</td>\n",
              "      <td>193.269208</td>\n",
              "      <td>1.0</td>\n",
              "      <td>15.00</td>\n",
              "      <td>45.0</td>\n",
              "      <td>107.25</td>\n",
              "      <td>1621.0</td>\n",
              "    </tr>\n",
              "    <tr>\n",
              "      <th>injection3_number_received</th>\n",
              "      <td>657.0</td>\n",
              "      <td>505.001522</td>\n",
              "      <td>579.414216</td>\n",
              "      <td>5.0</td>\n",
              "      <td>183.00</td>\n",
              "      <td>335.0</td>\n",
              "      <td>538.00</td>\n",
              "      <td>4934.0</td>\n",
              "    </tr>\n",
              "    <tr>\n",
              "      <th>pill_number_received</th>\n",
              "      <td>615.0</td>\n",
              "      <td>665.076423</td>\n",
              "      <td>2107.103258</td>\n",
              "      <td>1.0</td>\n",
              "      <td>61.00</td>\n",
              "      <td>176.0</td>\n",
              "      <td>518.50</td>\n",
              "      <td>43282.0</td>\n",
              "    </tr>\n",
              "    <tr>\n",
              "      <th>iud_stock_end</th>\n",
              "      <td>0.0</td>\n",
              "      <td>NaN</td>\n",
              "      <td>NaN</td>\n",
              "      <td>NaN</td>\n",
              "      <td>NaN</td>\n",
              "      <td>NaN</td>\n",
              "      <td>NaN</td>\n",
              "      <td>NaN</td>\n",
              "    </tr>\n",
              "    <tr>\n",
              "      <th>implant_stock_end</th>\n",
              "      <td>645.0</td>\n",
              "      <td>143.289922</td>\n",
              "      <td>177.133941</td>\n",
              "      <td>1.0</td>\n",
              "      <td>38.00</td>\n",
              "      <td>91.0</td>\n",
              "      <td>174.00</td>\n",
              "      <td>1801.0</td>\n",
              "    </tr>\n",
              "    <tr>\n",
              "      <th>injection2_stock_end</th>\n",
              "      <td>0.0</td>\n",
              "      <td>NaN</td>\n",
              "      <td>NaN</td>\n",
              "      <td>NaN</td>\n",
              "      <td>NaN</td>\n",
              "      <td>NaN</td>\n",
              "      <td>NaN</td>\n",
              "      <td>NaN</td>\n",
              "    </tr>\n",
              "    <tr>\n",
              "      <th>injection3_stock_end</th>\n",
              "      <td>659.0</td>\n",
              "      <td>390.250379</td>\n",
              "      <td>461.823990</td>\n",
              "      <td>1.0</td>\n",
              "      <td>124.00</td>\n",
              "      <td>239.0</td>\n",
              "      <td>460.50</td>\n",
              "      <td>4274.0</td>\n",
              "    </tr>\n",
              "    <tr>\n",
              "      <th>pill_stock_end</th>\n",
              "      <td>626.0</td>\n",
              "      <td>694.589457</td>\n",
              "      <td>1266.391772</td>\n",
              "      <td>1.0</td>\n",
              "      <td>65.25</td>\n",
              "      <td>247.5</td>\n",
              "      <td>658.00</td>\n",
              "      <td>8775.0</td>\n",
              "    </tr>\n",
              "  </tbody>\n",
              "</table>\n",
              "</div>"
            ],
            "text/plain": [
              "                             count         mean  ...      75%      max\n",
              "month                        678.0     3.500000  ...     5.00      6.0\n",
              "year                         678.0  2019.000000  ...  2019.00   2019.0\n",
              "implant_women_old            610.0   213.509836  ...   288.50   2883.0\n",
              "implant_women_new            672.0    77.831845  ...    87.00   1344.0\n",
              "injection2_women_old         556.0    39.429856  ...    50.00   1259.0\n",
              "injection2_women_new         481.0     9.428274  ...    12.00    133.0\n",
              "injection3_women_old         678.0   495.436578  ...   665.75   2534.0\n",
              "injection3_women_new         678.0   110.523599  ...   136.75   1061.0\n",
              "pill_women_old               621.0    98.466989  ...   130.00    726.0\n",
              "pill_women_new               595.0    17.986555  ...    21.00    314.0\n",
              "iud_women_old                250.0    29.924000  ...    22.50    498.0\n",
              "iud_women_new                306.0     7.071895  ...     9.00     99.0\n",
              "iud_number_dispensed         249.0    14.269076  ...    16.00    410.0\n",
              "implant_number_dispensed     649.0    73.805855  ...    88.00   2889.0\n",
              "injection2_number_dispensed  508.0    29.826772  ...    34.25    487.0\n",
              "injection3_number_dispensed  662.0   354.691843  ...   449.25   1903.0\n",
              "pill_number_dispensed        615.0   278.626016  ...   300.50   5711.0\n",
              "iud_number_received          334.0    30.311377  ...    35.50    364.0\n",
              "implant_number_received      643.0   138.527216  ...   161.00   2333.0\n",
              "injection2_number_received   496.0   102.322581  ...   107.25   1621.0\n",
              "injection3_number_received   657.0   505.001522  ...   538.00   4934.0\n",
              "pill_number_received         615.0   665.076423  ...   518.50  43282.0\n",
              "iud_stock_end                  0.0          NaN  ...      NaN      NaN\n",
              "implant_stock_end            645.0   143.289922  ...   174.00   1801.0\n",
              "injection2_stock_end           0.0          NaN  ...      NaN      NaN\n",
              "injection3_stock_end         659.0   390.250379  ...   460.50   4274.0\n",
              "pill_stock_end               626.0   694.589457  ...   658.00   8775.0\n",
              "\n",
              "[27 rows x 8 columns]"
            ]
          },
          "metadata": {
            "tags": []
          },
          "execution_count": 12
        }
      ]
    },
    {
      "cell_type": "code",
      "metadata": {
        "colab": {
          "base_uri": "https://localhost:8080/",
          "height": 357
        },
        "id": "rCgZtoDeX44V",
        "outputId": "da2ef8e9-9936-4431-8220-6012b11592cb"
      },
      "source": [
        "# Summary of the numerical attributes\n",
        "df.describe().transpose()"
      ],
      "execution_count": null,
      "outputs": [
        {
          "output_type": "execute_result",
          "data": {
            "text/html": [
              "<div>\n",
              "<style scoped>\n",
              "    .dataframe tbody tr th:only-of-type {\n",
              "        vertical-align: middle;\n",
              "    }\n",
              "\n",
              "    .dataframe tbody tr th {\n",
              "        vertical-align: top;\n",
              "    }\n",
              "\n",
              "    .dataframe thead th {\n",
              "        text-align: right;\n",
              "    }\n",
              "</style>\n",
              "<table border=\"1\" class=\"dataframe\">\n",
              "  <thead>\n",
              "    <tr style=\"text-align: right;\">\n",
              "      <th></th>\n",
              "      <th>count</th>\n",
              "      <th>mean</th>\n",
              "      <th>std</th>\n",
              "      <th>min</th>\n",
              "      <th>25%</th>\n",
              "      <th>50%</th>\n",
              "      <th>75%</th>\n",
              "      <th>max</th>\n",
              "    </tr>\n",
              "  </thead>\n",
              "  <tbody>\n",
              "    <tr>\n",
              "      <th>year</th>\n",
              "      <td>35753.0</td>\n",
              "      <td>2017.433782</td>\n",
              "      <td>1.019933</td>\n",
              "      <td>2016.0</td>\n",
              "      <td>2017.0</td>\n",
              "      <td>2017.0</td>\n",
              "      <td>2018.0</td>\n",
              "      <td>2019.0</td>\n",
              "    </tr>\n",
              "    <tr>\n",
              "      <th>month</th>\n",
              "      <td>35753.0</td>\n",
              "      <td>6.169412</td>\n",
              "      <td>3.429079</td>\n",
              "      <td>1.0</td>\n",
              "      <td>3.0</td>\n",
              "      <td>6.0</td>\n",
              "      <td>9.0</td>\n",
              "      <td>12.0</td>\n",
              "    </tr>\n",
              "    <tr>\n",
              "      <th>stock_initial</th>\n",
              "      <td>35753.0</td>\n",
              "      <td>63.245518</td>\n",
              "      <td>168.661538</td>\n",
              "      <td>0.0</td>\n",
              "      <td>0.0</td>\n",
              "      <td>12.0</td>\n",
              "      <td>69.0</td>\n",
              "      <td>4320.0</td>\n",
              "    </tr>\n",
              "    <tr>\n",
              "      <th>stock_received</th>\n",
              "      <td>35753.0</td>\n",
              "      <td>14.846055</td>\n",
              "      <td>70.631782</td>\n",
              "      <td>0.0</td>\n",
              "      <td>0.0</td>\n",
              "      <td>0.0</td>\n",
              "      <td>0.0</td>\n",
              "      <td>3534.0</td>\n",
              "    </tr>\n",
              "    <tr>\n",
              "      <th>stock_distributed</th>\n",
              "      <td>35753.0</td>\n",
              "      <td>14.764327</td>\n",
              "      <td>39.848242</td>\n",
              "      <td>0.0</td>\n",
              "      <td>0.0</td>\n",
              "      <td>1.0</td>\n",
              "      <td>13.0</td>\n",
              "      <td>1728.0</td>\n",
              "    </tr>\n",
              "    <tr>\n",
              "      <th>stock_adjustment</th>\n",
              "      <td>35753.0</td>\n",
              "      <td>0.961150</td>\n",
              "      <td>37.883099</td>\n",
              "      <td>-1440.0</td>\n",
              "      <td>0.0</td>\n",
              "      <td>0.0</td>\n",
              "      <td>0.0</td>\n",
              "      <td>3003.0</td>\n",
              "    </tr>\n",
              "    <tr>\n",
              "      <th>stock_end</th>\n",
              "      <td>35753.0</td>\n",
              "      <td>64.288395</td>\n",
              "      <td>170.848479</td>\n",
              "      <td>0.0</td>\n",
              "      <td>0.0</td>\n",
              "      <td>13.0</td>\n",
              "      <td>70.0</td>\n",
              "      <td>4320.0</td>\n",
              "    </tr>\n",
              "    <tr>\n",
              "      <th>average_monthly_consumption</th>\n",
              "      <td>35753.0</td>\n",
              "      <td>14.606439</td>\n",
              "      <td>32.521384</td>\n",
              "      <td>0.0</td>\n",
              "      <td>0.0</td>\n",
              "      <td>3.0</td>\n",
              "      <td>16.0</td>\n",
              "      <td>864.0</td>\n",
              "    </tr>\n",
              "    <tr>\n",
              "      <th>stock_stockout_days</th>\n",
              "      <td>35753.0</td>\n",
              "      <td>0.000000</td>\n",
              "      <td>0.000000</td>\n",
              "      <td>0.0</td>\n",
              "      <td>0.0</td>\n",
              "      <td>0.0</td>\n",
              "      <td>0.0</td>\n",
              "      <td>0.0</td>\n",
              "    </tr>\n",
              "    <tr>\n",
              "      <th>stock_ordered</th>\n",
              "      <td>34990.0</td>\n",
              "      <td>26.658102</td>\n",
              "      <td>107.166082</td>\n",
              "      <td>0.0</td>\n",
              "      <td>0.0</td>\n",
              "      <td>0.0</td>\n",
              "      <td>20.0</td>\n",
              "      <td>10240.0</td>\n",
              "    </tr>\n",
              "  </tbody>\n",
              "</table>\n",
              "</div>"
            ],
            "text/plain": [
              "                               count         mean  ...     75%      max\n",
              "year                         35753.0  2017.433782  ...  2018.0   2019.0\n",
              "month                        35753.0     6.169412  ...     9.0     12.0\n",
              "stock_initial                35753.0    63.245518  ...    69.0   4320.0\n",
              "stock_received               35753.0    14.846055  ...     0.0   3534.0\n",
              "stock_distributed            35753.0    14.764327  ...    13.0   1728.0\n",
              "stock_adjustment             35753.0     0.961150  ...     0.0   3003.0\n",
              "stock_end                    35753.0    64.288395  ...    70.0   4320.0\n",
              "average_monthly_consumption  35753.0    14.606439  ...    16.0    864.0\n",
              "stock_stockout_days          35753.0     0.000000  ...     0.0      0.0\n",
              "stock_ordered                34990.0    26.658102  ...    20.0  10240.0\n",
              "\n",
              "[10 rows x 8 columns]"
            ]
          },
          "metadata": {
            "tags": []
          },
          "execution_count": 13
        }
      ]
    },
    {
      "cell_type": "markdown",
      "metadata": {
        "id": "1Z2JCzO1naqc"
      },
      "source": [
        "#### **MERGING THE TRAIN DATASET** "
      ]
    },
    {
      "cell_type": "code",
      "metadata": {
        "colab": {
          "base_uri": "https://localhost:8080/",
          "height": 307
        },
        "id": "9TIdIgpToxtS",
        "outputId": "4ae04d84-f634-4941-fe5a-0fc1b0206a01"
      },
      "source": [
        "# Merging the train dataset with the relevant columns\n",
        "\n",
        "# adopting the site type column to the train dataset\n",
        "df=pd.merge(site[['site_code','site_type']],df,how='inner',left_on=['site_code'],right_on=['site_code'])\n",
        "\n",
        "# adopting the product type column to the train dataset\n",
        "df = pd.merge(prod[['product_code','product_type']],df,how='inner',left_on=['product_code'],right_on=['product_code'])\n",
        "\n",
        "# dropping the product code column\n",
        "df.drop(columns=['product_code'], axis = 1, inplace=True)\n",
        "\n",
        "df.head(5)"
      ],
      "execution_count": null,
      "outputs": [
        {
          "output_type": "execute_result",
          "data": {
            "text/html": [
              "<div>\n",
              "<style scoped>\n",
              "    .dataframe tbody tr th:only-of-type {\n",
              "        vertical-align: middle;\n",
              "    }\n",
              "\n",
              "    .dataframe tbody tr th {\n",
              "        vertical-align: top;\n",
              "    }\n",
              "\n",
              "    .dataframe thead th {\n",
              "        text-align: right;\n",
              "    }\n",
              "</style>\n",
              "<table border=\"1\" class=\"dataframe\">\n",
              "  <thead>\n",
              "    <tr style=\"text-align: right;\">\n",
              "      <th></th>\n",
              "      <th>product_type</th>\n",
              "      <th>site_code</th>\n",
              "      <th>site_type</th>\n",
              "      <th>year</th>\n",
              "      <th>month</th>\n",
              "      <th>region</th>\n",
              "      <th>district</th>\n",
              "      <th>stock_initial</th>\n",
              "      <th>stock_received</th>\n",
              "      <th>stock_distributed</th>\n",
              "      <th>stock_adjustment</th>\n",
              "      <th>stock_end</th>\n",
              "      <th>average_monthly_consumption</th>\n",
              "      <th>stock_stockout_days</th>\n",
              "      <th>stock_ordered</th>\n",
              "    </tr>\n",
              "  </thead>\n",
              "  <tbody>\n",
              "    <tr>\n",
              "      <th>0</th>\n",
              "      <td>Female Condom</td>\n",
              "      <td>C4001</td>\n",
              "      <td>Hospital</td>\n",
              "      <td>2016</td>\n",
              "      <td>1</td>\n",
              "      <td>INDENIE-DJUABLIN</td>\n",
              "      <td>ABENGOUROU</td>\n",
              "      <td>0</td>\n",
              "      <td>0</td>\n",
              "      <td>0</td>\n",
              "      <td>0</td>\n",
              "      <td>0</td>\n",
              "      <td>0</td>\n",
              "      <td>0</td>\n",
              "      <td>0.0</td>\n",
              "    </tr>\n",
              "    <tr>\n",
              "      <th>1</th>\n",
              "      <td>Female Condom</td>\n",
              "      <td>C2002</td>\n",
              "      <td>Hospital</td>\n",
              "      <td>2017</td>\n",
              "      <td>1</td>\n",
              "      <td>MARAHOUE</td>\n",
              "      <td>BOUAFLE</td>\n",
              "      <td>0</td>\n",
              "      <td>0</td>\n",
              "      <td>0</td>\n",
              "      <td>0</td>\n",
              "      <td>0</td>\n",
              "      <td>0</td>\n",
              "      <td>0</td>\n",
              "      <td>0.0</td>\n",
              "    </tr>\n",
              "    <tr>\n",
              "      <th>2</th>\n",
              "      <td>Female Condom</td>\n",
              "      <td>C2002</td>\n",
              "      <td>Hospital</td>\n",
              "      <td>2017</td>\n",
              "      <td>2</td>\n",
              "      <td>MARAHOUE</td>\n",
              "      <td>BOUAFLE</td>\n",
              "      <td>0</td>\n",
              "      <td>0</td>\n",
              "      <td>0</td>\n",
              "      <td>0</td>\n",
              "      <td>0</td>\n",
              "      <td>0</td>\n",
              "      <td>0</td>\n",
              "      <td>0.0</td>\n",
              "    </tr>\n",
              "    <tr>\n",
              "      <th>3</th>\n",
              "      <td>Female Condom</td>\n",
              "      <td>C2002</td>\n",
              "      <td>Hospital</td>\n",
              "      <td>2017</td>\n",
              "      <td>3</td>\n",
              "      <td>MARAHOUE</td>\n",
              "      <td>BOUAFLE</td>\n",
              "      <td>0</td>\n",
              "      <td>0</td>\n",
              "      <td>0</td>\n",
              "      <td>0</td>\n",
              "      <td>0</td>\n",
              "      <td>0</td>\n",
              "      <td>0</td>\n",
              "      <td>0.0</td>\n",
              "    </tr>\n",
              "    <tr>\n",
              "      <th>4</th>\n",
              "      <td>Female Condom</td>\n",
              "      <td>C2002</td>\n",
              "      <td>Hospital</td>\n",
              "      <td>2017</td>\n",
              "      <td>4</td>\n",
              "      <td>MARAHOUE</td>\n",
              "      <td>BOUAFLE</td>\n",
              "      <td>0</td>\n",
              "      <td>0</td>\n",
              "      <td>0</td>\n",
              "      <td>0</td>\n",
              "      <td>0</td>\n",
              "      <td>0</td>\n",
              "      <td>0</td>\n",
              "      <td>0.0</td>\n",
              "    </tr>\n",
              "  </tbody>\n",
              "</table>\n",
              "</div>"
            ],
            "text/plain": [
              "    product_type site_code  ... stock_stockout_days  stock_ordered\n",
              "0  Female Condom     C4001  ...                   0            0.0\n",
              "1  Female Condom     C2002  ...                   0            0.0\n",
              "2  Female Condom     C2002  ...                   0            0.0\n",
              "3  Female Condom     C2002  ...                   0            0.0\n",
              "4  Female Condom     C2002  ...                   0            0.0\n",
              "\n",
              "[5 rows x 15 columns]"
            ]
          },
          "metadata": {
            "tags": []
          },
          "execution_count": 14
        }
      ]
    },
    {
      "cell_type": "markdown",
      "metadata": {
        "id": "wBrpXhg5nnBG"
      },
      "source": [
        "## **DATA CLEANING**"
      ]
    },
    {
      "cell_type": "markdown",
      "metadata": {
        "id": "hEeE_Uz4nvb-"
      },
      "source": [
        "### **REMOVING DUPLICATES**\n"
      ]
    },
    {
      "cell_type": "code",
      "metadata": {
        "colab": {
          "base_uri": "https://localhost:8080/"
        },
        "id": "g9K39YetoTZ-",
        "outputId": "4d89fe02-15ad-406b-f450-1c467325790c"
      },
      "source": [
        "# Check for the consistency in our data\n",
        "print('annual\\n',annual.duplicated().sum())\n",
        "print('monthly\\n',monthly.duplicated().sum())\n",
        "print('train\\n',df.duplicated().sum())\n"
      ],
      "execution_count": null,
      "outputs": [
        {
          "output_type": "stream",
          "text": [
            "annual\n",
            " 0\n",
            "monthly\n",
            " 0\n",
            "train\n",
            " 0\n"
          ],
          "name": "stdout"
        }
      ]
    },
    {
      "cell_type": "markdown",
      "metadata": {
        "id": "Hme2XuGroRKB"
      },
      "source": [
        "### **DEALING WITH MISSING VALUES**"
      ]
    },
    {
      "cell_type": "markdown",
      "metadata": {
        "id": "YKZHEuhloRKD"
      },
      "source": [
        "##### **ANNUAL DATASET**"
      ]
    },
    {
      "cell_type": "code",
      "metadata": {
        "colab": {
          "base_uri": "https://localhost:8080/"
        },
        "id": "HhQ7_0f3oRKF",
        "outputId": "3176d2f1-2310-4e29-d721-414add6cf896"
      },
      "source": [
        "#Calaculating the percentage of missing values and then visualising it \n",
        "# Count the missing values\n",
        "missing_count = annual.isnull().sum() \n",
        "#the count of all values\n",
        "value_count = annual.isnull().count() \n",
        "#the percetage of missing values\n",
        "missing_percentage = round(missing_count / value_count * 100,2) \n",
        "#Cretaing a dataframe\n",
        "missing_df = pd.DataFrame({'count' : missing_count, 'percentage' : missing_percentage}) \n",
        "print(missing_df)"
      ],
      "execution_count": null,
      "outputs": [
        {
          "output_type": "stream",
          "text": [
            "                             count  percentage\n",
            "district                         0        0.00\n",
            "year                             0        0.00\n",
            "implant_women_old               13        3.83\n",
            "implant_women_new                2        0.59\n",
            "injection2_women_old             2        0.59\n",
            "injection2_women_new             5        1.47\n",
            "injection3_women_old             0        0.00\n",
            "injection3_women_new             0        0.00\n",
            "pill_women_old                   0        0.00\n",
            "pill_women_new                   1        0.29\n",
            "iud_women_old                  127       37.46\n",
            "iud_women_new                   62       18.29\n",
            "iud_number_dispensed           106       31.27\n",
            "implant_number_dispensed         6        1.77\n",
            "injection2_number_dispensed      8        2.36\n",
            "injection3_number_dispensed      1        0.29\n",
            "pill_number_dispensed            5        1.47\n",
            "iud_number_received             94       27.73\n",
            "implant_number_received          6        1.77\n",
            "injection2_number_received      11        3.24\n",
            "injection3_number_received       2        0.59\n",
            "pill_number_received             7        2.06\n",
            "iud_stock_end                  339      100.00\n",
            "implant_stock_end               73       21.53\n",
            "injection2_stock_end           339      100.00\n",
            "injection3_stock_end            68       20.06\n",
            "pill_stock_end                  73       21.53\n"
          ],
          "name": "stdout"
        }
      ]
    },
    {
      "cell_type": "code",
      "metadata": {
        "id": "4DYi9yAkoRKH"
      },
      "source": [
        "#Dropping the iud_stock_end and injection2_stock_end\n",
        "annual.drop(columns = [\"iud_stock_end\", \"injection2_stock_end\"], inplace = True)"
      ],
      "execution_count": null,
      "outputs": []
    },
    {
      "cell_type": "code",
      "metadata": {
        "colab": {
          "base_uri": "https://localhost:8080/"
        },
        "id": "uWFdILQEoRKJ",
        "outputId": "09874680-f2df-4b88-9ecc-5beaaa0d660c"
      },
      "source": [
        "# filling the null values with zero\n",
        "annual.fillna(0, inplace=True)\n",
        "annual.isnull().sum()"
      ],
      "execution_count": null,
      "outputs": [
        {
          "output_type": "execute_result",
          "data": {
            "text/plain": [
              "district                       0\n",
              "year                           0\n",
              "implant_women_old              0\n",
              "implant_women_new              0\n",
              "injection2_women_old           0\n",
              "injection2_women_new           0\n",
              "injection3_women_old           0\n",
              "injection3_women_new           0\n",
              "pill_women_old                 0\n",
              "pill_women_new                 0\n",
              "iud_women_old                  0\n",
              "iud_women_new                  0\n",
              "iud_number_dispensed           0\n",
              "implant_number_dispensed       0\n",
              "injection2_number_dispensed    0\n",
              "injection3_number_dispensed    0\n",
              "pill_number_dispensed          0\n",
              "iud_number_received            0\n",
              "implant_number_received        0\n",
              "injection2_number_received     0\n",
              "injection3_number_received     0\n",
              "pill_number_received           0\n",
              "implant_stock_end              0\n",
              "injection3_stock_end           0\n",
              "pill_stock_end                 0\n",
              "dtype: int64"
            ]
          },
          "metadata": {
            "tags": []
          },
          "execution_count": 18
        }
      ]
    },
    {
      "cell_type": "markdown",
      "metadata": {
        "id": "JjiR30S0d9-5"
      },
      "source": [
        "* We dropped the rows that had no entries recorded (100% missing values) and proceeded to fill the rest of the columns with zeros."
      ]
    },
    {
      "cell_type": "markdown",
      "metadata": {
        "id": "6s7_JDgxoRKN"
      },
      "source": [
        "##### **MONTHLY DATASET**"
      ]
    },
    {
      "cell_type": "code",
      "metadata": {
        "colab": {
          "base_uri": "https://localhost:8080/"
        },
        "id": "Od7WvcDioRKP",
        "outputId": "8e5aad93-bacc-4179-e67d-61eb7db26fb5"
      },
      "source": [
        "#Calaculating the percentage of missing values and the visualising it \n",
        "# Count the missing values\n",
        "missing_count = monthly.isnull().sum() \n",
        "#the count of all values\n",
        "value_count = monthly.isnull().count() \n",
        "#the percetage of missing values\n",
        "missing_percentage = round(missing_count / value_count * 100,2) \n",
        "#Cretaing a dataframe\n",
        "missing_df = pd.DataFrame({'count' : missing_count, 'percentage' : missing_percentage}) \n",
        "print(missing_df)"
      ],
      "execution_count": null,
      "outputs": [
        {
          "output_type": "stream",
          "text": [
            "                             count  percentage\n",
            "district                         0        0.00\n",
            "month                            0        0.00\n",
            "year                             0        0.00\n",
            "implant_women_old               68       10.03\n",
            "implant_women_new                6        0.88\n",
            "injection2_women_old           122       17.99\n",
            "injection2_women_new           197       29.06\n",
            "injection3_women_old             0        0.00\n",
            "injection3_women_new             0        0.00\n",
            "pill_women_old                  57        8.41\n",
            "pill_women_new                  83       12.24\n",
            "iud_women_old                  428       63.13\n",
            "iud_women_new                  372       54.87\n",
            "iud_number_dispensed           429       63.27\n",
            "implant_number_dispensed        29        4.28\n",
            "injection2_number_dispensed    170       25.07\n",
            "injection3_number_dispensed     16        2.36\n",
            "pill_number_dispensed           63        9.29\n",
            "iud_number_received            344       50.74\n",
            "implant_number_received         35        5.16\n",
            "injection2_number_received     182       26.84\n",
            "injection3_number_received      21        3.10\n",
            "pill_number_received            63        9.29\n",
            "iud_stock_end                  678      100.00\n",
            "implant_stock_end               33        4.87\n",
            "injection2_stock_end           678      100.00\n",
            "injection3_stock_end            19        2.80\n",
            "pill_stock_end                  52        7.67\n"
          ],
          "name": "stdout"
        }
      ]
    },
    {
      "cell_type": "code",
      "metadata": {
        "id": "Unbe2lrGoRKS"
      },
      "source": [
        "#Dropping the iud_stock_end and injection2_stock_end\n",
        "monthly.drop(columns = [\"iud_stock_end\", \"injection2_stock_end\"], inplace = True)"
      ],
      "execution_count": null,
      "outputs": []
    },
    {
      "cell_type": "code",
      "metadata": {
        "colab": {
          "base_uri": "https://localhost:8080/"
        },
        "id": "c_8BsG4WoRKT",
        "outputId": "5fffe3f4-bb66-4b07-c171-403efadd11ed"
      },
      "source": [
        "# filling the null values with zero\n",
        "monthly.fillna(0, inplace=True)\n",
        "monthly.isnull().sum()"
      ],
      "execution_count": null,
      "outputs": [
        {
          "output_type": "execute_result",
          "data": {
            "text/plain": [
              "district                       0\n",
              "month                          0\n",
              "year                           0\n",
              "implant_women_old              0\n",
              "implant_women_new              0\n",
              "injection2_women_old           0\n",
              "injection2_women_new           0\n",
              "injection3_women_old           0\n",
              "injection3_women_new           0\n",
              "pill_women_old                 0\n",
              "pill_women_new                 0\n",
              "iud_women_old                  0\n",
              "iud_women_new                  0\n",
              "iud_number_dispensed           0\n",
              "implant_number_dispensed       0\n",
              "injection2_number_dispensed    0\n",
              "injection3_number_dispensed    0\n",
              "pill_number_dispensed          0\n",
              "iud_number_received            0\n",
              "implant_number_received        0\n",
              "injection2_number_received     0\n",
              "injection3_number_received     0\n",
              "pill_number_received           0\n",
              "implant_stock_end              0\n",
              "injection3_stock_end           0\n",
              "pill_stock_end                 0\n",
              "dtype: int64"
            ]
          },
          "metadata": {
            "tags": []
          },
          "execution_count": 21
        }
      ]
    },
    {
      "cell_type": "markdown",
      "metadata": {
        "id": "qWJPkc0yernt"
      },
      "source": [
        "* We dropped the rows that had no entries recorded (100% missing values) and proceeded to fill the rest of the columns with zeros."
      ]
    },
    {
      "cell_type": "markdown",
      "metadata": {
        "id": "3Jpaua5goRKW"
      },
      "source": [
        "##### **TRAIN DATASET**"
      ]
    },
    {
      "cell_type": "code",
      "metadata": {
        "colab": {
          "base_uri": "https://localhost:8080/"
        },
        "id": "38J7BuSDoRKY",
        "outputId": "b1b40178-d4fd-485f-a554-47c4ecd2d23d"
      },
      "source": [
        "#Calaculating the percentage of missing values and the visualising it \n",
        "# Count the missing values\n",
        "missing_count = df.isnull().sum() \n",
        "#the count of all values\n",
        "value_count = df.isnull().count() \n",
        "#the percetage of missing values\n",
        "missing_percentage = round(missing_count / value_count * 100,2) \n",
        "#Cretaing a dataframe\n",
        "missing_df = pd.DataFrame({'count' : missing_count, 'percentage' : missing_percentage}) \n",
        "print(missing_df)"
      ],
      "execution_count": null,
      "outputs": [
        {
          "output_type": "stream",
          "text": [
            "                             count  percentage\n",
            "product_type                     0        0.00\n",
            "site_code                        0        0.00\n",
            "site_type                        0        0.00\n",
            "year                             0        0.00\n",
            "month                            0        0.00\n",
            "region                           0        0.00\n",
            "district                         0        0.00\n",
            "stock_initial                    0        0.00\n",
            "stock_received                   0        0.00\n",
            "stock_distributed                0        0.00\n",
            "stock_adjustment                 0        0.00\n",
            "stock_end                        0        0.00\n",
            "average_monthly_consumption      0        0.00\n",
            "stock_stockout_days              0        0.00\n",
            "stock_ordered                  763        2.13\n"
          ],
          "name": "stdout"
        }
      ]
    },
    {
      "cell_type": "markdown",
      "metadata": {
        "id": "FWgu-MQ1jl-u"
      },
      "source": [
        "### **TAKING CARE OF THE INVALID ZEROS IN OUR DATASET**\n"
      ]
    },
    {
      "cell_type": "markdown",
      "metadata": {
        "id": "8ufwD8cxjl-v"
      },
      "source": [
        "These invalid 0 values may be identified, for example, when:\n",
        "\n",
        "A) Stock_distributed for a contraceptive product at a service delivery site is reported in a given month as '0', even though stock was available (stock_initial was above 0) and stock_distributed is historically well above 0.\n",
        "\n",
        "B) All fields (possibly with the exception of stock_ordered) are recorded as '0' for a given contraceptive product, month and service delivery site; or"
      ]
    },
    {
      "cell_type": "markdown",
      "metadata": {
        "id": "sKe9QtUTQSGf"
      },
      "source": [
        "#### **FULFILLING THE FIRST CONDITION**"
      ]
    },
    {
      "cell_type": "code",
      "metadata": {
        "id": "vxc-pUqVjl-v"
      },
      "source": [
        "# Defining a function that takes the conditions listed above and fills invalid zeros with a ?\n",
        "def invalid(stock_initial, stock_received , stock_adjustment, stock_end, average_monthly_consumption, stock_ordered, stock_distributed):\n",
        "    if stock_initial > 0 and average_monthly_consumption > 0 and stock_distributed == 0:\n",
        "      stock_distributed = '?' \n",
        "    else:\n",
        "        stock_distributed=stock_distributed\n",
        "    return stock_distributed\n",
        "              \n",
        "\n",
        "#Mapping our function onto a new column\n",
        "df['NewColumn_1'] = df.apply(lambda x: invalid(x['stock_initial'], x['stock_received'], x['stock_adjustment'], x['stock_end'],\n",
        "                                               x['average_monthly_consumption'], x['stock_ordered'], x[\"stock_distributed\"]), axis=1)\n",
        "df.replace('?', np.nan, inplace=True)\n",
        "df.rename(columns={\"NewColumn_1\" : \"stock_distributed2\"}, inplace = True)"
      ],
      "execution_count": null,
      "outputs": []
    },
    {
      "cell_type": "code",
      "metadata": {
        "id": "nT6BrqMOjl-w",
        "colab": {
          "base_uri": "https://localhost:8080/"
        },
        "outputId": "ed0d9f7e-1b19-4865-bff6-97a87f5be489"
      },
      "source": [
        "#Cheking missing values on our columns\n",
        "df.isnull().sum()"
      ],
      "execution_count": null,
      "outputs": [
        {
          "output_type": "execute_result",
          "data": {
            "text/plain": [
              "product_type                      0\n",
              "site_code                         0\n",
              "site_type                         0\n",
              "year                              0\n",
              "month                             0\n",
              "region                            0\n",
              "district                          0\n",
              "stock_initial                     0\n",
              "stock_received                    0\n",
              "stock_distributed                 0\n",
              "stock_adjustment                  0\n",
              "stock_end                         0\n",
              "average_monthly_consumption       0\n",
              "stock_stockout_days               0\n",
              "stock_ordered                   763\n",
              "stock_distributed2             2858\n",
              "dtype: int64"
            ]
          },
          "metadata": {
            "tags": []
          },
          "execution_count": 24
        }
      ]
    },
    {
      "cell_type": "code",
      "metadata": {
        "colab": {
          "base_uri": "https://localhost:8080/"
        },
        "id": "DbgxYMUwRGiw",
        "outputId": "ee24620e-f5d4-45fe-e29f-7450d4f7003c"
      },
      "source": [
        "#Filling null values with the mode\n",
        "df[\"stock_ordered\"].fillna(df[\"stock_ordered\"].mode()[0], inplace = True)\n",
        "\n",
        "# Cheking if null values have been replaced with the mode\n",
        "df.isnull().sum()"
      ],
      "execution_count": null,
      "outputs": [
        {
          "output_type": "execute_result",
          "data": {
            "text/plain": [
              "product_type                      0\n",
              "site_code                         0\n",
              "site_type                         0\n",
              "year                              0\n",
              "month                             0\n",
              "region                            0\n",
              "district                          0\n",
              "stock_initial                     0\n",
              "stock_received                    0\n",
              "stock_distributed                 0\n",
              "stock_adjustment                  0\n",
              "stock_end                         0\n",
              "average_monthly_consumption       0\n",
              "stock_stockout_days               0\n",
              "stock_ordered                     0\n",
              "stock_distributed2             2858\n",
              "dtype: int64"
            ]
          },
          "metadata": {
            "tags": []
          },
          "execution_count": 25
        }
      ]
    },
    {
      "cell_type": "markdown",
      "metadata": {
        "id": "HDAFGGboP1OI"
      },
      "source": [
        "####**CONVERTING TO DATETIME**"
      ]
    },
    {
      "cell_type": "code",
      "metadata": {
        "id": "OAftBHzfcudn",
        "colab": {
          "base_uri": "https://localhost:8080/",
          "height": 338
        },
        "outputId": "2d7f88ce-83ae-4f1b-bc11-d12b9750480a"
      },
      "source": [
        "#convert to date time\n",
        "df['date'] = df['year'].astype(str) + '-' + df['month'].astype(str)\n",
        "\n",
        "df['date'] = pd.to_datetime(df['date'],yearfirst=True)\n",
        "\n",
        "df = df.set_index('date')\n",
        "df.head()"
      ],
      "execution_count": null,
      "outputs": [
        {
          "output_type": "execute_result",
          "data": {
            "text/html": [
              "<div>\n",
              "<style scoped>\n",
              "    .dataframe tbody tr th:only-of-type {\n",
              "        vertical-align: middle;\n",
              "    }\n",
              "\n",
              "    .dataframe tbody tr th {\n",
              "        vertical-align: top;\n",
              "    }\n",
              "\n",
              "    .dataframe thead th {\n",
              "        text-align: right;\n",
              "    }\n",
              "</style>\n",
              "<table border=\"1\" class=\"dataframe\">\n",
              "  <thead>\n",
              "    <tr style=\"text-align: right;\">\n",
              "      <th></th>\n",
              "      <th>product_type</th>\n",
              "      <th>site_code</th>\n",
              "      <th>site_type</th>\n",
              "      <th>year</th>\n",
              "      <th>month</th>\n",
              "      <th>region</th>\n",
              "      <th>district</th>\n",
              "      <th>stock_initial</th>\n",
              "      <th>stock_received</th>\n",
              "      <th>stock_distributed</th>\n",
              "      <th>stock_adjustment</th>\n",
              "      <th>stock_end</th>\n",
              "      <th>average_monthly_consumption</th>\n",
              "      <th>stock_stockout_days</th>\n",
              "      <th>stock_ordered</th>\n",
              "      <th>stock_distributed2</th>\n",
              "    </tr>\n",
              "    <tr>\n",
              "      <th>date</th>\n",
              "      <th></th>\n",
              "      <th></th>\n",
              "      <th></th>\n",
              "      <th></th>\n",
              "      <th></th>\n",
              "      <th></th>\n",
              "      <th></th>\n",
              "      <th></th>\n",
              "      <th></th>\n",
              "      <th></th>\n",
              "      <th></th>\n",
              "      <th></th>\n",
              "      <th></th>\n",
              "      <th></th>\n",
              "      <th></th>\n",
              "      <th></th>\n",
              "    </tr>\n",
              "  </thead>\n",
              "  <tbody>\n",
              "    <tr>\n",
              "      <th>2016-01-01</th>\n",
              "      <td>Female Condom</td>\n",
              "      <td>C4001</td>\n",
              "      <td>Hospital</td>\n",
              "      <td>2016</td>\n",
              "      <td>1</td>\n",
              "      <td>INDENIE-DJUABLIN</td>\n",
              "      <td>ABENGOUROU</td>\n",
              "      <td>0</td>\n",
              "      <td>0</td>\n",
              "      <td>0</td>\n",
              "      <td>0</td>\n",
              "      <td>0</td>\n",
              "      <td>0</td>\n",
              "      <td>0</td>\n",
              "      <td>0.0</td>\n",
              "      <td>0.0</td>\n",
              "    </tr>\n",
              "    <tr>\n",
              "      <th>2017-01-01</th>\n",
              "      <td>Female Condom</td>\n",
              "      <td>C2002</td>\n",
              "      <td>Hospital</td>\n",
              "      <td>2017</td>\n",
              "      <td>1</td>\n",
              "      <td>MARAHOUE</td>\n",
              "      <td>BOUAFLE</td>\n",
              "      <td>0</td>\n",
              "      <td>0</td>\n",
              "      <td>0</td>\n",
              "      <td>0</td>\n",
              "      <td>0</td>\n",
              "      <td>0</td>\n",
              "      <td>0</td>\n",
              "      <td>0.0</td>\n",
              "      <td>0.0</td>\n",
              "    </tr>\n",
              "    <tr>\n",
              "      <th>2017-02-01</th>\n",
              "      <td>Female Condom</td>\n",
              "      <td>C2002</td>\n",
              "      <td>Hospital</td>\n",
              "      <td>2017</td>\n",
              "      <td>2</td>\n",
              "      <td>MARAHOUE</td>\n",
              "      <td>BOUAFLE</td>\n",
              "      <td>0</td>\n",
              "      <td>0</td>\n",
              "      <td>0</td>\n",
              "      <td>0</td>\n",
              "      <td>0</td>\n",
              "      <td>0</td>\n",
              "      <td>0</td>\n",
              "      <td>0.0</td>\n",
              "      <td>0.0</td>\n",
              "    </tr>\n",
              "    <tr>\n",
              "      <th>2017-03-01</th>\n",
              "      <td>Female Condom</td>\n",
              "      <td>C2002</td>\n",
              "      <td>Hospital</td>\n",
              "      <td>2017</td>\n",
              "      <td>3</td>\n",
              "      <td>MARAHOUE</td>\n",
              "      <td>BOUAFLE</td>\n",
              "      <td>0</td>\n",
              "      <td>0</td>\n",
              "      <td>0</td>\n",
              "      <td>0</td>\n",
              "      <td>0</td>\n",
              "      <td>0</td>\n",
              "      <td>0</td>\n",
              "      <td>0.0</td>\n",
              "      <td>0.0</td>\n",
              "    </tr>\n",
              "    <tr>\n",
              "      <th>2017-04-01</th>\n",
              "      <td>Female Condom</td>\n",
              "      <td>C2002</td>\n",
              "      <td>Hospital</td>\n",
              "      <td>2017</td>\n",
              "      <td>4</td>\n",
              "      <td>MARAHOUE</td>\n",
              "      <td>BOUAFLE</td>\n",
              "      <td>0</td>\n",
              "      <td>0</td>\n",
              "      <td>0</td>\n",
              "      <td>0</td>\n",
              "      <td>0</td>\n",
              "      <td>0</td>\n",
              "      <td>0</td>\n",
              "      <td>0.0</td>\n",
              "      <td>0.0</td>\n",
              "    </tr>\n",
              "  </tbody>\n",
              "</table>\n",
              "</div>"
            ],
            "text/plain": [
              "             product_type site_code  ... stock_ordered  stock_distributed2\n",
              "date                                 ...                                  \n",
              "2016-01-01  Female Condom     C4001  ...           0.0                 0.0\n",
              "2017-01-01  Female Condom     C2002  ...           0.0                 0.0\n",
              "2017-02-01  Female Condom     C2002  ...           0.0                 0.0\n",
              "2017-03-01  Female Condom     C2002  ...           0.0                 0.0\n",
              "2017-04-01  Female Condom     C2002  ...           0.0                 0.0\n",
              "\n",
              "[5 rows x 16 columns]"
            ]
          },
          "metadata": {
            "tags": []
          },
          "execution_count": 26
        }
      ]
    },
    {
      "cell_type": "code",
      "metadata": {
        "colab": {
          "base_uri": "https://localhost:8080/"
        },
        "id": "GneH-tT4M2R1",
        "outputId": "7316d3a4-991b-4995-c263-70a2e2346686"
      },
      "source": [
        "df.sort_values(by='date',ascending=True, inplace = True)\n",
        "\n",
        "# Lokking at the unique values\n",
        "df[\"year\"].unique()"
      ],
      "execution_count": null,
      "outputs": [
        {
          "output_type": "execute_result",
          "data": {
            "text/plain": [
              "array([2016, 2017, 2018, 2019])"
            ]
          },
          "metadata": {
            "tags": []
          },
          "execution_count": 27
        }
      ]
    },
    {
      "cell_type": "code",
      "metadata": {
        "id": "gLrSiYrkjl-x"
      },
      "source": [
        "#foward filling the stock_distributed2\n",
        "df[\"stock_distributed2\"].fillna(method = \"ffill\", inplace = True)"
      ],
      "execution_count": null,
      "outputs": []
    },
    {
      "cell_type": "code",
      "metadata": {
        "colab": {
          "base_uri": "https://localhost:8080/"
        },
        "id": "LXrwxxwRjl-x",
        "outputId": "afd62b07-7634-4703-8b7c-ae2d9ea13a5b"
      },
      "source": [
        "#checking the null values\n",
        "df.isnull().sum()"
      ],
      "execution_count": null,
      "outputs": [
        {
          "output_type": "execute_result",
          "data": {
            "text/plain": [
              "product_type                   0\n",
              "site_code                      0\n",
              "site_type                      0\n",
              "year                           0\n",
              "month                          0\n",
              "region                         0\n",
              "district                       0\n",
              "stock_initial                  0\n",
              "stock_received                 0\n",
              "stock_distributed              0\n",
              "stock_adjustment               0\n",
              "stock_end                      0\n",
              "average_monthly_consumption    0\n",
              "stock_stockout_days            0\n",
              "stock_ordered                  0\n",
              "stock_distributed2             0\n",
              "dtype: int64"
            ]
          },
          "metadata": {
            "tags": []
          },
          "execution_count": 29
        }
      ]
    },
    {
      "cell_type": "code",
      "metadata": {
        "id": "0mGDg8q4QFfK"
      },
      "source": [
        "#Dropping the stock distributed column\n",
        "df.drop(columns = [\"stock_distributed\", \"stock_stockout_days\"], inplace = True)"
      ],
      "execution_count": null,
      "outputs": []
    },
    {
      "cell_type": "markdown",
      "metadata": {
        "id": "bJfIkoVpQNp0"
      },
      "source": [
        "#### **FULFILLING THE SECOND CONDITION**\n",
        "\n",
        "\n"
      ]
    },
    {
      "cell_type": "code",
      "metadata": {
        "id": "KBYHrBPfQKa0"
      },
      "source": [
        "# Defining a function that takes the conditions listed above and fills invalid zeros with a ?\n",
        "def invalid(stock_initial, stock_received , stock_adjustment, stock_end, average_monthly_consumption, stock_ordered, stock_distributed2): \n",
        "    if stock_initial == 0 and stock_received == 0 and stock_adjustment == 0 and stock_end == 0 and average_monthly_consumption == 0 and stock_ordered == 0:\n",
        "      stock_distributed2 = '?'\n",
        "      stock_initial = '?'\n",
        "      stock_received = '?'\n",
        "      stock_adjustment = '?'\n",
        "      stock_end = '?'\n",
        "      average_monthly_consumption = '?'\n",
        "      stock_ordered = '?'\n",
        "    else:\n",
        "        stock_distributed2=stock_distributed2\n",
        "        stock_initial=stock_initial\n",
        "        stock_received=stock_received\n",
        "        stock_adjustment=stock_adjustment\n",
        "        stock_end=stock_end\n",
        "        stock_ordered=stock_ordered\n",
        "        average_monthly_consumption=average_monthly_consumption\n",
        "    #Pandas Series.mean() function return the mean of the underlying data in the given Series object.\n",
        "    return pd.Series([\n",
        "                      stock_distributed2,\n",
        "                      stock_initial,\n",
        "                      stock_received,\n",
        "                      stock_adjustment,\n",
        "                      stock_end,\n",
        "                      stock_ordered,\n",
        "                      average_monthly_consumption\n",
        "    ])\n",
        "\n",
        "#Mapping our function onto a new column\n",
        "df[['NewColumn_1', 'NewColumn_2', 'NewColumn_3', 'NewColumn_4', 'NewColumn_5','NewColumn_6', 'NewColumn_7' ]] = df.apply(lambda x: invalid(x['stock_initial'], x['stock_received'], x['stock_adjustment'], x['stock_end'],\n",
        "                                               x['average_monthly_consumption'], x['stock_ordered'], x[\"stock_distributed2\"]), axis=1)\n",
        "df.replace('?', np.nan, inplace=True)\n",
        "df.rename(columns={\"NewColumn_1\" : \"stock_distributed3\"}, inplace = True)\n",
        "df.rename(columns={\"NewColumn_2\" : \"stock_initial2\"}, inplace = True)\n",
        "df.rename(columns={\"NewColumn_3\" : \"stock_received2\"}, inplace = True)\n",
        "df.rename(columns={\"NewColumn_4\" : \"stock_adjustment2\"}, inplace = True)\n",
        "df.rename(columns={\"NewColumn_5\" : \"stock_end2\"}, inplace = True)\n",
        "df.rename(columns={\"NewColumn_6\" : \"stock_ordered2\"}, inplace = True)\n",
        "df.rename(columns={\"NewColumn_7\" : \"average_monthly_consumption2\"}, inplace = True)"
      ],
      "execution_count": null,
      "outputs": []
    },
    {
      "cell_type": "code",
      "metadata": {
        "colab": {
          "base_uri": "https://localhost:8080/"
        },
        "id": "eQUARRl7TLHY",
        "outputId": "c01d4881-93dd-489e-c6ab-2e9c4e4da625"
      },
      "source": [
        "#Cheking if the null values have been chosen  \n",
        "df.isnull().sum()"
      ],
      "execution_count": null,
      "outputs": [
        {
          "output_type": "execute_result",
          "data": {
            "text/plain": [
              "product_type                       0\n",
              "site_code                          0\n",
              "site_type                          0\n",
              "year                               0\n",
              "month                              0\n",
              "region                             0\n",
              "district                           0\n",
              "stock_initial                      0\n",
              "stock_received                     0\n",
              "stock_adjustment                   0\n",
              "stock_end                          0\n",
              "average_monthly_consumption        0\n",
              "stock_ordered                      0\n",
              "stock_distributed2                 0\n",
              "stock_distributed3              4883\n",
              "stock_initial2                  4883\n",
              "stock_received2                 4883\n",
              "stock_adjustment2               4883\n",
              "stock_end2                      4883\n",
              "stock_ordered2                  4883\n",
              "average_monthly_consumption2    4883\n",
              "dtype: int64"
            ]
          },
          "metadata": {
            "tags": []
          },
          "execution_count": 32
        }
      ]
    },
    {
      "cell_type": "code",
      "metadata": {
        "id": "8w3yN8w0QKQQ"
      },
      "source": [
        "# Dropping the null values in the column\n",
        "df.dropna(axis = 0, inplace = True)"
      ],
      "execution_count": null,
      "outputs": []
    },
    {
      "cell_type": "code",
      "metadata": {
        "id": "DL9AQ1nlQKKn"
      },
      "source": [
        "# Dropping the unecessary column \n",
        "df.drop(columns = [\"stock_initial\", 'stock_received', 'stock_distributed2',\n",
        "       'stock_adjustment', 'stock_end', 'average_monthly_consumption',\n",
        "       'stock_ordered'], inplace = True)"
      ],
      "execution_count": null,
      "outputs": []
    },
    {
      "cell_type": "code",
      "metadata": {
        "colab": {
          "base_uri": "https://localhost:8080/"
        },
        "id": "0yxf_dmYQadf",
        "outputId": "def6d00c-ebb9-4113-becf-21e0c59674b2"
      },
      "source": [
        "#Cheking to see whether the null values have been dropped\n",
        "df.isnull().sum()"
      ],
      "execution_count": null,
      "outputs": [
        {
          "output_type": "execute_result",
          "data": {
            "text/plain": [
              "product_type                    0\n",
              "site_code                       0\n",
              "site_type                       0\n",
              "year                            0\n",
              "month                           0\n",
              "region                          0\n",
              "district                        0\n",
              "stock_distributed3              0\n",
              "stock_initial2                  0\n",
              "stock_received2                 0\n",
              "stock_adjustment2               0\n",
              "stock_end2                      0\n",
              "stock_ordered2                  0\n",
              "average_monthly_consumption2    0\n",
              "dtype: int64"
            ]
          },
          "metadata": {
            "tags": []
          },
          "execution_count": 35
        }
      ]
    },
    {
      "cell_type": "code",
      "metadata": {
        "id": "s4txwVYOpXdT"
      },
      "source": [
        "df.rename(columns={\"stock_distributed3\" : \"stock_distributed2\"}, inplace = True)\n",
        "df.rename(columns={\"stock_initial2\" : \"stock_initial\"}, inplace = True)\n",
        "df.rename(columns={\"stock_received2\" : \"stock_received\"}, inplace = True)\n",
        "df.rename(columns={\"stock_adjustment2\" : \"stock_adjustment\"}, inplace = True)\n",
        "df.rename(columns={\"stock_end2\" : \"stock_end\"}, inplace = True)\n",
        "df.rename(columns={\"stock_ordered2\" : \"stock_ordered\"}, inplace = True)\n",
        "df.rename(columns={\"average_monthly_consumption2\" : \"average_monthly_consumption\"}, inplace = True)"
      ],
      "execution_count": null,
      "outputs": []
    },
    {
      "cell_type": "markdown",
      "metadata": {
        "id": "K0v8OgNGTjPA"
      },
      "source": [
        "### **CHECKING FOR OUTLIERS**"
      ]
    },
    {
      "cell_type": "code",
      "metadata": {
        "colab": {
          "base_uri": "https://localhost:8080/",
          "height": 1000
        },
        "id": "SxDUt2Gz5j9q",
        "outputId": "62289df2-c51b-4a43-b0f6-0841fa124c0c"
      },
      "source": [
        "# Checking for outliers for numeric variables\n",
        "import seaborn as sns\n",
        "cols = ['stock_initial', 'stock_received', 'stock_adjustment', 'stock_end',\n",
        "       'average_monthly_consumption', 'stock_ordered', 'stock_distributed2']\n",
        "\n",
        "fig, axs = plt.subplots(len(cols), figsize=(6,44))\n",
        "\n",
        "for i, col_val in enumerate(cols):\n",
        "    sns.boxplot(y=df[col_val], ax=axs[i])\n",
        "    axs[i].set_xlabel(col_val, fontsize=10)"
      ],
      "execution_count": null,
      "outputs": [
        {
          "output_type": "display_data",
          "data": {
            "image/png": "[encoded data removed]",
            "text/plain": [
              "<Figure size 432x3168 with 7 Axes>"
            ]
          },
          "metadata": {
            "tags": [],
            "needs_background": "light"
          }
        }
      ]
    },
    {
      "cell_type": "markdown",
      "metadata": {
        "id": "7SMXVlkyMMyD"
      },
      "source": [
        "The Number of outliers after dropping is quite significant so we won't drop the outliers because we may lose valuable information, we will consider log transformation instead for this case of our dataset"
      ]
    },
    {
      "cell_type": "code",
      "metadata": {
        "id": "enLPxSnROohX"
      },
      "source": [
        "#Exporting to csv\n",
        "annual.to_csv(\"Contraceptive_case_data_annual_cleaned.csv\")\n",
        "\n",
        "df.to_csv(\"train_cleaned.csv\")\n",
        "\n",
        "monthly.to_csv(\"monthly_cleaned.csv\")"
      ],
      "execution_count": null,
      "outputs": []
    },
    {
      "cell_type": "markdown",
      "metadata": {
        "id": "Ru9zk5PDsp4m"
      },
      "source": [
        "## **EXPLORATORY DATA ANALYSIS**"
      ]
    },
    {
      "cell_type": "markdown",
      "metadata": {
        "id": "ORwiy0OmzsNt"
      },
      "source": [
        "### **DISTRIBUTION PLOTS**"
      ]
    },
    {
      "cell_type": "code",
      "metadata": {
        "colab": {
          "base_uri": "https://localhost:8080/",
          "height": 1000
        },
        "id": "h1liSn9OMeC5",
        "outputId": "41f2b5e1-e8f7-4559-9659-39ab98db495a"
      },
      "source": [
        "# Train Dataset\n",
        "import seaborn as sns\n",
        "cols = ['stock_initial', 'stock_received', 'stock_adjustment', 'stock_end',\n",
        "       'average_monthly_consumption', 'stock_ordered', 'stock_distributed2']\n",
        "\n",
        "fig, axs = plt.subplots(len(cols), figsize=(6,44))\n",
        "\n",
        "for i, col_val in enumerate(cols):\n",
        "    sns.distplot(df[col_val], ax=axs[i])\n",
        "    axs[i].set_xlabel(col_val, fontsize=10)"
      ],
      "execution_count": null,
      "outputs": [
        {
          "output_type": "display_data",
          "data": {
            "image/png": "[encoded data removed]",
            "text/plain": [
              "<Figure size 432x3168 with 7 Axes>"
            ]
          },
          "metadata": {
            "tags": [],
            "needs_background": "light"
          }
        }
      ]
    },
    {
      "cell_type": "code",
      "metadata": {
        "colab": {
          "base_uri": "https://localhost:8080/",
          "height": 1000
        },
        "id": "C0rPonOwMchH",
        "outputId": "2c9d52db-ec34-48e5-83da-aa4280e64781"
      },
      "source": [
        "# Annual Dataset\n",
        "import seaborn as sns\n",
        "cols = ['implant_women_old', 'implant_women_new',\n",
        "       'injection2_women_old', 'injection2_women_new', 'injection3_women_old',\n",
        "       'injection3_women_new', 'pill_women_old', 'pill_women_new',\n",
        "       'iud_women_old', 'iud_women_new', 'iud_number_dispensed',\n",
        "       'implant_number_dispensed', 'injection2_number_dispensed',\n",
        "       'injection3_number_dispensed', 'pill_number_dispensed']\n",
        "\n",
        "fig, axs = plt.subplots(len(cols), figsize=(6,44))\n",
        "\n",
        "for i, col_val in enumerate(cols):\n",
        "    sns.distplot(annual[col_val], ax=axs[i])\n",
        "    axs[i].set_xlabel(col_val, fontsize=10)"
      ],
      "execution_count": null,
      "outputs": [
        {
          "output_type": "display_data",
          "data": {
            "image/png": "[encoded data removed]",
            "text/plain": [
              "<Figure size 432x3168 with 15 Axes>"
            ]
          },
          "metadata": {
            "tags": [],
            "needs_background": "light"
          }
        }
      ]
    },
    {
      "cell_type": "markdown",
      "metadata": {
        "id": "crD0Xk3Jz68W"
      },
      "source": [
        "### **UNIVARIATE DATA ANALYSIS**"
      ]
    },
    {
      "cell_type": "markdown",
      "metadata": {
        "id": "XyOkpG_8dBHi"
      },
      "source": [
        "#### **MEASURES OF CENTRAL TENDENCY**"
      ]
    },
    {
      "cell_type": "code",
      "metadata": {
        "colab": {
          "base_uri": "https://localhost:8080/"
        },
        "id": "AgWUCw2cc_rs",
        "outputId": "15b7c973-6145-4847-ba2e-6d02b332246f"
      },
      "source": [
        "# Finding the mean of our numerical variables\n",
        "# Train\n",
        "\n",
        "num = df[['stock_initial', 'stock_received', 'stock_adjustment', 'stock_end',\n",
        "       'average_monthly_consumption', 'stock_ordered', 'stock_distributed2']]\n",
        "\n",
        "num.mean()"
      ],
      "execution_count": null,
      "outputs": [
        {
          "output_type": "execute_result",
          "data": {
            "text/plain": [
              "stock_initial                  73.249660\n",
              "stock_received                 17.194396\n",
              "stock_adjustment                1.113184\n",
              "stock_end                      74.457499\n",
              "average_monthly_consumption    16.916877\n",
              "stock_ordered                  30.215970\n",
              "stock_distributed2             18.641302\n",
              "dtype: float64"
            ]
          },
          "metadata": {
            "tags": []
          },
          "execution_count": 41
        }
      ]
    },
    {
      "cell_type": "code",
      "metadata": {
        "colab": {
          "base_uri": "https://localhost:8080/",
          "height": 80
        },
        "id": "5vli_5aYeZFQ",
        "outputId": "9d88e139-c4f6-4555-e43a-b4ed506c803f"
      },
      "source": [
        "# Finding the mode of our numerical variables\n",
        "\n",
        "num.mode()"
      ],
      "execution_count": null,
      "outputs": [
        {
          "output_type": "execute_result",
          "data": {
            "text/html": [
              "<div>\n",
              "<style scoped>\n",
              "    .dataframe tbody tr th:only-of-type {\n",
              "        vertical-align: middle;\n",
              "    }\n",
              "\n",
              "    .dataframe tbody tr th {\n",
              "        vertical-align: top;\n",
              "    }\n",
              "\n",
              "    .dataframe thead th {\n",
              "        text-align: right;\n",
              "    }\n",
              "</style>\n",
              "<table border=\"1\" class=\"dataframe\">\n",
              "  <thead>\n",
              "    <tr style=\"text-align: right;\">\n",
              "      <th></th>\n",
              "      <th>stock_initial</th>\n",
              "      <th>stock_received</th>\n",
              "      <th>stock_adjustment</th>\n",
              "      <th>stock_end</th>\n",
              "      <th>average_monthly_consumption</th>\n",
              "      <th>stock_ordered</th>\n",
              "      <th>stock_distributed2</th>\n",
              "    </tr>\n",
              "  </thead>\n",
              "  <tbody>\n",
              "    <tr>\n",
              "      <th>0</th>\n",
              "      <td>0.0</td>\n",
              "      <td>0.0</td>\n",
              "      <td>0.0</td>\n",
              "      <td>0.0</td>\n",
              "      <td>0.0</td>\n",
              "      <td>0.0</td>\n",
              "      <td>0.0</td>\n",
              "    </tr>\n",
              "  </tbody>\n",
              "</table>\n",
              "</div>"
            ],
            "text/plain": [
              "   stock_initial  stock_received  ...  stock_ordered  stock_distributed2\n",
              "0            0.0             0.0  ...            0.0                 0.0\n",
              "\n",
              "[1 rows x 7 columns]"
            ]
          },
          "metadata": {
            "tags": []
          },
          "execution_count": 42
        }
      ]
    },
    {
      "cell_type": "code",
      "metadata": {
        "colab": {
          "base_uri": "https://localhost:8080/"
        },
        "id": "HvYZxQlifvpa",
        "outputId": "937324b6-673a-45d3-8fa1-92b940492bd6"
      },
      "source": [
        "# Finding the median \n",
        "\n",
        "num.median()"
      ],
      "execution_count": null,
      "outputs": [
        {
          "output_type": "execute_result",
          "data": {
            "text/plain": [
              "stock_initial                  21.0\n",
              "stock_received                  0.0\n",
              "stock_adjustment                0.0\n",
              "stock_end                      22.0\n",
              "average_monthly_consumption     5.0\n",
              "stock_ordered                   0.0\n",
              "stock_distributed2              4.0\n",
              "dtype: float64"
            ]
          },
          "metadata": {
            "tags": []
          },
          "execution_count": 43
        }
      ]
    },
    {
      "cell_type": "markdown",
      "metadata": {
        "id": "dQje1zl1f9cf"
      },
      "source": [
        "#### **MEASURES OF DISPERSION**"
      ]
    },
    {
      "cell_type": "code",
      "metadata": {
        "colab": {
          "base_uri": "https://localhost:8080/"
        },
        "id": "72AkC7e_f7qN",
        "outputId": "7a497de1-915b-4398-844a-8647aee03dd0"
      },
      "source": [
        "# Calculating the variance\n",
        "\n",
        "num.var()"
      ],
      "execution_count": null,
      "outputs": [
        {
          "output_type": "execute_result",
          "data": {
            "text/plain": [
              "stock_initial                  32213.722598\n",
              "stock_received                  5737.628055\n",
              "stock_adjustment                1661.975268\n",
              "stock_end                      33049.294105\n",
              "average_monthly_consumption     1185.856124\n",
              "stock_ordered                  12909.874862\n",
              "stock_distributed2              2053.507050\n",
              "dtype: float64"
            ]
          },
          "metadata": {
            "tags": []
          },
          "execution_count": 44
        }
      ]
    },
    {
      "cell_type": "code",
      "metadata": {
        "colab": {
          "base_uri": "https://localhost:8080/"
        },
        "id": "LIVla15IganO",
        "outputId": "159335a2-5e5b-4033-f6b5-05157330799b"
      },
      "source": [
        "# Calculating the standard deviation\n",
        "\n",
        "num.std()"
      ],
      "execution_count": null,
      "outputs": [
        {
          "output_type": "execute_result",
          "data": {
            "text/plain": [
              "stock_initial                  179.481817\n",
              "stock_received                  75.747132\n",
              "stock_adjustment                40.767331\n",
              "stock_end                      181.794648\n",
              "average_monthly_consumption     34.436262\n",
              "stock_ordered                  113.621630\n",
              "stock_distributed2              45.315638\n",
              "dtype: float64"
            ]
          },
          "metadata": {
            "tags": []
          },
          "execution_count": 45
        }
      ]
    },
    {
      "cell_type": "code",
      "metadata": {
        "colab": {
          "base_uri": "https://localhost:8080/"
        },
        "id": "CF7fRwNVgs0f",
        "outputId": "c1efa2d4-6172-4fc0-9b03-e149be06f3f6"
      },
      "source": [
        "#skewness\n",
        "def my_skew():\n",
        "  for column in df:\n",
        "    columncontent = df[column]\n",
        "    if column in num:\n",
        "      skew = columncontent.skew()\n",
        "      if skew > 0:\n",
        "        print('Positvely skewed')\n",
        "      elif skew == 0:\n",
        "        print('Symmetric skew')\n",
        "      else:\n",
        "        print('negatively skewed')\n",
        "\n",
        "      print('column name', column)\n",
        "      print('Column skew:', skew)\n",
        "      print('\\n') \n",
        "#calling\n",
        "print(my_skew())\n"
      ],
      "execution_count": null,
      "outputs": [
        {
          "output_type": "stream",
          "text": [
            "Positvely skewed\n",
            "column name stock_distributed2\n",
            "Column skew: 10.223253625877184\n",
            "\n",
            "\n",
            "Positvely skewed\n",
            "column name stock_initial\n",
            "Column skew: 8.915041108672412\n",
            "\n",
            "\n",
            "Positvely skewed\n",
            "column name stock_received\n",
            "Column skew: 14.57607985400589\n",
            "\n",
            "\n",
            "Positvely skewed\n",
            "column name stock_adjustment\n",
            "Column skew: 21.71363534963288\n",
            "\n",
            "\n",
            "Positvely skewed\n",
            "column name stock_end\n",
            "Column skew: 8.892851997127046\n",
            "\n",
            "\n",
            "Positvely skewed\n",
            "column name stock_ordered\n",
            "Column skew: 37.91782059913423\n",
            "\n",
            "\n",
            "Positvely skewed\n",
            "column name average_monthly_consumption\n",
            "Column skew: 5.87689349919621\n",
            "\n",
            "\n",
            "None\n"
          ],
          "name": "stdout"
        }
      ]
    },
    {
      "cell_type": "code",
      "metadata": {
        "colab": {
          "base_uri": "https://localhost:8080/"
        },
        "id": "Z8A_zPlThAmp",
        "outputId": "351d741b-ee33-45bf-b97d-142d596a72e8"
      },
      "source": [
        "#kurtosis\n",
        "def kurt():\n",
        "  for column in df:\n",
        "    columncontent = df[column]\n",
        "    if column in num:\n",
        "      kurt = columncontent.kurt()\n",
        "      if kurt > 0:\n",
        "        print('Leptokurtic kurtosis')\n",
        "      elif kurt < 0:\n",
        "        print('platykurtic distribution')\n",
        "      else:\n",
        "        print('mesokurtic distribution')\n",
        "\n",
        "      print('column name', column)\n",
        "      print('Column kurt:', kurt)\n",
        "      print('\\n') \n",
        "#calling\n",
        "print(kurt())"
      ],
      "execution_count": null,
      "outputs": [
        {
          "output_type": "stream",
          "text": [
            "Leptokurtic kurtosis\n",
            "column name stock_distributed2\n",
            "Column kurt: 226.09135641793256\n",
            "\n",
            "\n",
            "Leptokurtic kurtosis\n",
            "column name stock_initial\n",
            "Column kurt: 124.17082308917784\n",
            "\n",
            "\n",
            "Leptokurtic kurtosis\n",
            "column name stock_received\n",
            "Column kurt: 393.32550463138506\n",
            "\n",
            "\n",
            "Leptokurtic kurtosis\n",
            "column name stock_adjustment\n",
            "Column kurt: 1734.1661904170726\n",
            "\n",
            "\n",
            "Leptokurtic kurtosis\n",
            "column name stock_end\n",
            "Column kurt: 122.1489582577674\n",
            "\n",
            "\n",
            "Leptokurtic kurtosis\n",
            "column name stock_ordered\n",
            "Column kurt: 2665.0080109699225\n",
            "\n",
            "\n",
            "Leptokurtic kurtosis\n",
            "column name average_monthly_consumption\n",
            "Column kurt: 61.20411684542874\n",
            "\n",
            "\n",
            "None\n"
          ],
          "name": "stdout"
        }
      ]
    },
    {
      "cell_type": "markdown",
      "metadata": {
        "id": "_Qde07TniKWc"
      },
      "source": [
        "#### **CHECKING THE NUMBER OF UNIQUE VALUES**"
      ]
    },
    {
      "cell_type": "code",
      "metadata": {
        "colab": {
          "base_uri": "https://localhost:8080/"
        },
        "id": "nSPB46lThfMF",
        "outputId": "a88ac4db-1c67-4c11-c054-b38de3d0f9a1"
      },
      "source": [
        "# Finding the unique values in our district column\n",
        "\n",
        "df['district'].nunique()"
      ],
      "execution_count": null,
      "outputs": [
        {
          "output_type": "execute_result",
          "data": {
            "text/plain": [
              "80"
            ]
          },
          "metadata": {
            "tags": []
          },
          "execution_count": 48
        }
      ]
    },
    {
      "cell_type": "code",
      "metadata": {
        "colab": {
          "base_uri": "https://localhost:8080/"
        },
        "id": "M3A6Gerein-Z",
        "outputId": "0424750c-9470-45f7-9fa4-821243d2a286"
      },
      "source": [
        "# Finding the unique values in our regions column\n",
        "\n",
        "df['region'].nunique()"
      ],
      "execution_count": null,
      "outputs": [
        {
          "output_type": "execute_result",
          "data": {
            "text/plain": [
              "20"
            ]
          },
          "metadata": {
            "tags": []
          },
          "execution_count": 49
        }
      ]
    },
    {
      "cell_type": "code",
      "metadata": {
        "id": "7fpQiIrD6Mop",
        "colab": {
          "base_uri": "https://localhost:8080/"
        },
        "outputId": "6662eece-969f-493d-c042-938cdb2ad22e"
      },
      "source": [
        "df.columns"
      ],
      "execution_count": null,
      "outputs": [
        {
          "output_type": "execute_result",
          "data": {
            "text/plain": [
              "Index(['product_type', 'site_code', 'site_type', 'year', 'month', 'region',\n",
              "       'district', 'stock_distributed2', 'stock_initial', 'stock_received',\n",
              "       'stock_adjustment', 'stock_end', 'stock_ordered',\n",
              "       'average_monthly_consumption'],\n",
              "      dtype='object')"
            ]
          },
          "metadata": {
            "tags": []
          },
          "execution_count": 50
        }
      ]
    },
    {
      "cell_type": "code",
      "metadata": {
        "colab": {
          "base_uri": "https://localhost:8080/"
        },
        "id": "nIVSJO2bi3VD",
        "outputId": "3f4182b1-757d-4abd-b06b-4416c95b4201"
      },
      "source": [
        "df['product_type'].unique()"
      ],
      "execution_count": null,
      "outputs": [
        {
          "output_type": "execute_result",
          "data": {
            "text/plain": [
              "array(['Depo provera', 'Microgynon (pill)', 'Jadelle implant',\n",
              "       'Microlut (pill)', 'E-Pill', 'Male Condom', 'Female Condom',\n",
              "       'Implanon implant', 'Noristerat', 'Intrauterine Device ',\n",
              "       'Sayana press'], dtype=object)"
            ]
          },
          "metadata": {
            "tags": []
          },
          "execution_count": 51
        }
      ]
    },
    {
      "cell_type": "code",
      "metadata": {
        "colab": {
          "base_uri": "https://localhost:8080/"
        },
        "id": "yzDBiGZfi7tN",
        "outputId": "d35f8653-d123-47c2-b9c2-6a9f4e8078b3"
      },
      "source": [
        "df['site_code'].nunique()"
      ],
      "execution_count": null,
      "outputs": [
        {
          "output_type": "execute_result",
          "data": {
            "text/plain": [
              "153"
            ]
          },
          "metadata": {
            "tags": []
          },
          "execution_count": 52
        }
      ]
    },
    {
      "cell_type": "markdown",
      "metadata": {
        "id": "-0UTPKZSpend"
      },
      "source": [
        "#### **COUNTPLOTS**"
      ]
    },
    {
      "cell_type": "code",
      "metadata": {
        "colab": {
          "base_uri": "https://localhost:8080/",
          "height": 403
        },
        "id": "gJZDABbtpeoQ",
        "outputId": "082f85d1-f526-421c-827a-8f24727badea"
      },
      "source": [
        "# Product Type\n",
        "sns.countplot(df['product_type'])\n",
        "plt.xticks(rotation = 90)\n",
        "plt.title(\"Count plots of Products\")"
      ],
      "execution_count": null,
      "outputs": [
        {
          "output_type": "execute_result",
          "data": {
            "text/plain": [
              "Text(0.5, 1.0, 'Count plots of Products')"
            ]
          },
          "metadata": {
            "tags": []
          },
          "execution_count": 53
        },
        {
          "output_type": "display_data",
          "data": {
            "image/png": "[encoded data removed]",
            "text/plain": [
              "<Figure size 432x288 with 1 Axes>"
            ]
          },
          "metadata": {
            "tags": [],
            "needs_background": "light"
          }
        }
      ]
    },
    {
      "cell_type": "code",
      "metadata": {
        "colab": {
          "base_uri": "https://localhost:8080/",
          "height": 313
        },
        "id": "lE9SL9cxhecy",
        "outputId": "368adc8a-01ee-4da3-be17-46dd0ffa6816"
      },
      "source": [
        "#SITE TYPE\n",
        "sns.countplot(df['site_type'])\n",
        "plt.title(\"Count plots of Site Types\")"
      ],
      "execution_count": null,
      "outputs": [
        {
          "output_type": "execute_result",
          "data": {
            "text/plain": [
              "Text(0.5, 1.0, 'Count plots of Site Types')"
            ]
          },
          "metadata": {
            "tags": []
          },
          "execution_count": 54
        },
        {
          "output_type": "display_data",
          "data": {
            "image/png": "[encoded data removed]",
            "text/plain": [
              "<Figure size 432x288 with 1 Axes>"
            ]
          },
          "metadata": {
            "tags": [],
            "needs_background": "light"
          }
        }
      ]
    },
    {
      "cell_type": "markdown",
      "metadata": {
        "id": "oyeDSdlMh_Wf"
      },
      "source": [
        "**INSIGHTS**\n",
        "\n",
        "* The most common contraceptives used are **Depo Provera** followed by **Microgynon**.\n",
        "* The least used contraceptive is **Sayana Press** probably because it is new in the market.\n",
        "* The most common site type which denotes delivery location is **Hospitals**."
      ]
    },
    {
      "cell_type": "markdown",
      "metadata": {
        "id": "H-Tf7CR_4Rl8"
      },
      "source": [
        "### **BIVARIATE DATA ANALYSIS**"
      ]
    },
    {
      "cell_type": "markdown",
      "metadata": {
        "id": "5OuPNooxGTNy"
      },
      "source": [
        "#### **HEAT MAPS**"
      ]
    },
    {
      "cell_type": "code",
      "metadata": {
        "colab": {
          "base_uri": "https://localhost:8080/",
          "height": 296
        },
        "id": "uTrO1jAbtKEy",
        "outputId": "b4b2896a-0302-4ea9-b86b-7d19b5fd314b"
      },
      "source": [
        "# Plotting a pivot Table to visualize the stock distributed across the years and months\n",
        "\n",
        "pt= df.pivot_table(index='month',columns='year',values='stock_distributed2')\n",
        "sns.heatmap(pt, linecolor='white',linewidths=2)"
      ],
      "execution_count": null,
      "outputs": [
        {
          "output_type": "execute_result",
          "data": {
            "text/plain": [
              "<matplotlib.axes._subplots.AxesSubplot at 0x7f7e396fda10>"
            ]
          },
          "metadata": {
            "tags": []
          },
          "execution_count": 55
        },
        {
          "output_type": "display_data",
          "data": {
            "image/png": "[encoded data removed]",
            "text/plain": [
              "<Figure size 432x288 with 2 Axes>"
            ]
          },
          "metadata": {
            "tags": [],
            "needs_background": "light"
          }
        }
      ]
    },
    {
      "cell_type": "code",
      "metadata": {
        "colab": {
          "base_uri": "https://localhost:8080/",
          "height": 585
        },
        "id": "j5MyKyFHGJ5c",
        "outputId": "bae01c45-68d0-4fcb-d27c-1afc36ae67fb"
      },
      "source": [
        "# Plotting a heat map to show correlation\n",
        "\n",
        "mask = np.zeros_like(df.corr())\n",
        "mask[np.triu_indices_from(mask)] = True\n",
        "with sns.axes_style(\"white\"):\n",
        "    f, ax = plt.subplots(figsize=(20,8))\n",
        "    ax = sns.heatmap(df.corr(),\n",
        "mask=mask,annot=True,cmap=\"YlGnBu\")"
      ],
      "execution_count": null,
      "outputs": [
        {
          "output_type": "display_data",
          "data": {
            "image/png": "[encoded data removed]",
            "text/plain": [
              "<Figure size 1440x576 with 2 Axes>"
            ]
          },
          "metadata": {
            "tags": []
          }
        }
      ]
    },
    {
      "cell_type": "markdown",
      "metadata": {
        "id": "fIJlotGTM87N"
      },
      "source": [
        "#### **SCATTER PLOTS**"
      ]
    },
    {
      "cell_type": "code",
      "metadata": {
        "colab": {
          "base_uri": "https://localhost:8080/",
          "height": 312
        },
        "id": "B-iqOkBmMc6X",
        "outputId": "f72b0541-1486-4067-f927-4406fc4a1cf1"
      },
      "source": [
        "# Plotting scatter plots to show the relationship between variables\n",
        "\n",
        "plt.scatter(df['average_monthly_consumption'], df['stock_distributed2'])\n",
        "plt.title('Average Monthly consumption vs Stock Distributed')\n",
        "plt.xlabel('Average monthly consumption')\n",
        "plt.ylabel('Stock Distributed')"
      ],
      "execution_count": null,
      "outputs": [
        {
          "output_type": "execute_result",
          "data": {
            "text/plain": [
              "Text(0, 0.5, 'Stock Distributed')"
            ]
          },
          "metadata": {
            "tags": []
          },
          "execution_count": 57
        },
        {
          "output_type": "display_data",
          "data": {
            "image/png": "[encoded data removed]",
            "text/plain": [
              "<Figure size 432x288 with 1 Axes>"
            ]
          },
          "metadata": {
            "tags": [],
            "needs_background": "light"
          }
        }
      ]
    },
    {
      "cell_type": "code",
      "metadata": {
        "colab": {
          "base_uri": "https://localhost:8080/",
          "height": 312
        },
        "id": "N3O1PNJ3OucB",
        "outputId": "56798b5e-7d36-4c1e-8bec-df5843bb0c01"
      },
      "source": [
        "plt.scatter(df['stock_initial'], df['stock_end'])\n",
        "plt.title('Stock Initial vs Stock End')\n",
        "plt.ylabel('Stock End')\n",
        "plt.xlabel('Stock Initial')"
      ],
      "execution_count": null,
      "outputs": [
        {
          "output_type": "execute_result",
          "data": {
            "text/plain": [
              "Text(0.5, 0, 'Stock Initial')"
            ]
          },
          "metadata": {
            "tags": []
          },
          "execution_count": 58
        },
        {
          "output_type": "display_data",
          "data": {
            "image/png": "[encoded data removed]",
            "text/plain": [
              "<Figure size 432x288 with 1 Axes>"
            ]
          },
          "metadata": {
            "tags": [],
            "needs_background": "light"
          }
        }
      ]
    },
    {
      "cell_type": "markdown",
      "metadata": {
        "id": "UeIcXSX2lM0v"
      },
      "source": [
        "These indicate there is a high correlation between **average monthly consumption** and **stock distributed**. Also, the **stock initial** and **stock end** variables have a high correlation."
      ]
    },
    {
      "cell_type": "markdown",
      "metadata": {
        "id": "52B7e_a_2n1-"
      },
      "source": [
        "### **TIME SERIES ANALYSIS**"
      ]
    },
    {
      "cell_type": "markdown",
      "metadata": {
        "id": "kSN00_J1mTZv"
      },
      "source": [
        "#### **LINE PLOTS**"
      ]
    },
    {
      "cell_type": "code",
      "metadata": {
        "colab": {
          "base_uri": "https://localhost:8080/",
          "height": 295
        },
        "id": "J89hJ6EFljyO",
        "outputId": "86e87957-91ef-4f96-c723-26da9d330cd2"
      },
      "source": [
        "# Average stock distributed per month\n",
        "g = df.groupby('month')['stock_distributed2'].mean().reset_index(name = 'average stock distributed per month')\n",
        "sns.lineplot(x = 'month', data = g, y='average stock distributed per month')\n",
        "plt.title('Average Stock Distributed per Month')\n",
        "plt.show()"
      ],
      "execution_count": null,
      "outputs": [
        {
          "output_type": "display_data",
          "data": {
            "image/png": "[encoded data removed]",
            "text/plain": [
              "<Figure size 432x288 with 1 Axes>"
            ]
          },
          "metadata": {
            "tags": [],
            "needs_background": "light"
          }
        }
      ]
    },
    {
      "cell_type": "code",
      "metadata": {
        "colab": {
          "base_uri": "https://localhost:8080/",
          "height": 295
        },
        "id": "CHYaSOD2lz6W",
        "outputId": "fe6f1d9a-4c98-47ee-c1da-941d09d6073e"
      },
      "source": [
        "# Average stock distributed per year\n",
        "j = df.groupby('year')['stock_distributed2'].mean().reset_index(name = 'average stock distributed per year')\n",
        "sns.lineplot(x = 'year', data = j, y='average stock distributed per year')\n",
        "plt.title('Average Stock Distributed per Year')\n",
        "plt.show()"
      ],
      "execution_count": null,
      "outputs": [
        {
          "output_type": "display_data",
          "data": {
            "image/png": "[encoded data removed]",
            "text/plain": [
              "<Figure size 432x288 with 1 Axes>"
            ]
          },
          "metadata": {
            "tags": [],
            "needs_background": "light"
          }
        }
      ]
    },
    {
      "cell_type": "code",
      "metadata": {
        "colab": {
          "base_uri": "https://localhost:8080/",
          "height": 410
        },
        "id": "eACI9iISovU3",
        "outputId": "b3a94a23-1fd4-4d95-a187-441148fca31e"
      },
      "source": [
        "# Monthly Data\n",
        "monthly_data = df.groupby('month').mean()[['stock_initial', 'stock_received', 'stock_adjustment', 'stock_end','average_monthly_consumption', 'stock_ordered', 'stock_distributed2']]\n",
        "sns.set(rc={'figure.figsize':(12,6)})\n",
        "monthly_data.plot.line()\n",
        "plt.title('Trend over a year')\n",
        "plt.legend(bbox_to_anchor=(1, 1), loc=2, borderaxespad=0.)\n",
        "plt.show()\n"
      ],
      "execution_count": null,
      "outputs": [
        {
          "output_type": "display_data",
          "data": {
            "image/png": "[encoded data removed]",
            "text/plain": [
              "<Figure size 864x432 with 1 Axes>"
            ]
          },
          "metadata": {
            "tags": []
          }
        }
      ]
    },
    {
      "cell_type": "code",
      "metadata": {
        "colab": {
          "base_uri": "https://localhost:8080/",
          "height": 736
        },
        "id": "biJilv0yqVyo",
        "outputId": "2aeddebe-d06e-42b1-b0ad-24d49ab3591c"
      },
      "source": [
        "aug = df[df['month'] == 8]\n",
        "aug"
      ],
      "execution_count": null,
      "outputs": [
        {
          "output_type": "execute_result",
          "data": {
            "text/html": [
              "<div>\n",
              "<style scoped>\n",
              "    .dataframe tbody tr th:only-of-type {\n",
              "        vertical-align: middle;\n",
              "    }\n",
              "\n",
              "    .dataframe tbody tr th {\n",
              "        vertical-align: top;\n",
              "    }\n",
              "\n",
              "    .dataframe thead th {\n",
              "        text-align: right;\n",
              "    }\n",
              "</style>\n",
              "<table border=\"1\" class=\"dataframe\">\n",
              "  <thead>\n",
              "    <tr style=\"text-align: right;\">\n",
              "      <th></th>\n",
              "      <th>product_type</th>\n",
              "      <th>site_code</th>\n",
              "      <th>site_type</th>\n",
              "      <th>year</th>\n",
              "      <th>month</th>\n",
              "      <th>region</th>\n",
              "      <th>district</th>\n",
              "      <th>stock_distributed2</th>\n",
              "      <th>stock_initial</th>\n",
              "      <th>stock_received</th>\n",
              "      <th>stock_adjustment</th>\n",
              "      <th>stock_end</th>\n",
              "      <th>stock_ordered</th>\n",
              "      <th>average_monthly_consumption</th>\n",
              "    </tr>\n",
              "    <tr>\n",
              "      <th>date</th>\n",
              "      <th></th>\n",
              "      <th></th>\n",
              "      <th></th>\n",
              "      <th></th>\n",
              "      <th></th>\n",
              "      <th></th>\n",
              "      <th></th>\n",
              "      <th></th>\n",
              "      <th></th>\n",
              "      <th></th>\n",
              "      <th></th>\n",
              "      <th></th>\n",
              "      <th></th>\n",
              "      <th></th>\n",
              "    </tr>\n",
              "  </thead>\n",
              "  <tbody>\n",
              "    <tr>\n",
              "      <th>2016-08-01</th>\n",
              "      <td>Depo provera</td>\n",
              "      <td>C2062</td>\n",
              "      <td>Hospital</td>\n",
              "      <td>2016</td>\n",
              "      <td>8</td>\n",
              "      <td>GBEKE</td>\n",
              "      <td>SAKASSOU</td>\n",
              "      <td>0.0</td>\n",
              "      <td>0.0</td>\n",
              "      <td>50.0</td>\n",
              "      <td>0.0</td>\n",
              "      <td>50.0</td>\n",
              "      <td>0.0</td>\n",
              "      <td>0.0</td>\n",
              "    </tr>\n",
              "    <tr>\n",
              "      <th>2016-08-01</th>\n",
              "      <td>Noristerat</td>\n",
              "      <td>C1035</td>\n",
              "      <td>Health Center</td>\n",
              "      <td>2016</td>\n",
              "      <td>8</td>\n",
              "      <td>ABIDJAN 2</td>\n",
              "      <td>KOUMASSI-PORT BOUET-VRIDI</td>\n",
              "      <td>66.0</td>\n",
              "      <td>64.0</td>\n",
              "      <td>200.0</td>\n",
              "      <td>0.0</td>\n",
              "      <td>198.0</td>\n",
              "      <td>1.0</td>\n",
              "      <td>68.0</td>\n",
              "    </tr>\n",
              "    <tr>\n",
              "      <th>2016-08-01</th>\n",
              "      <td>Noristerat</td>\n",
              "      <td>C3013</td>\n",
              "      <td>Hospital</td>\n",
              "      <td>2016</td>\n",
              "      <td>8</td>\n",
              "      <td>HAMBOL</td>\n",
              "      <td>KATIOLA</td>\n",
              "      <td>14.0</td>\n",
              "      <td>232.0</td>\n",
              "      <td>0.0</td>\n",
              "      <td>0.0</td>\n",
              "      <td>218.0</td>\n",
              "      <td>0.0</td>\n",
              "      <td>27.0</td>\n",
              "    </tr>\n",
              "    <tr>\n",
              "      <th>2016-08-01</th>\n",
              "      <td>Jadelle implant</td>\n",
              "      <td>C1069</td>\n",
              "      <td>Health Center</td>\n",
              "      <td>2016</td>\n",
              "      <td>8</td>\n",
              "      <td>ABIDJAN 2</td>\n",
              "      <td>KOUMASSI-PORT BOUET-VRIDI</td>\n",
              "      <td>12.0</td>\n",
              "      <td>14.0</td>\n",
              "      <td>0.0</td>\n",
              "      <td>0.0</td>\n",
              "      <td>2.0</td>\n",
              "      <td>19.0</td>\n",
              "      <td>7.0</td>\n",
              "    </tr>\n",
              "    <tr>\n",
              "      <th>2016-08-01</th>\n",
              "      <td>Jadelle implant</td>\n",
              "      <td>C1087</td>\n",
              "      <td>Hospital</td>\n",
              "      <td>2016</td>\n",
              "      <td>8</td>\n",
              "      <td>SUD-COMOE</td>\n",
              "      <td>GRAND-BASSAM</td>\n",
              "      <td>0.0</td>\n",
              "      <td>4.0</td>\n",
              "      <td>0.0</td>\n",
              "      <td>0.0</td>\n",
              "      <td>4.0</td>\n",
              "      <td>0.0</td>\n",
              "      <td>0.0</td>\n",
              "    </tr>\n",
              "    <tr>\n",
              "      <th>...</th>\n",
              "      <td>...</td>\n",
              "      <td>...</td>\n",
              "      <td>...</td>\n",
              "      <td>...</td>\n",
              "      <td>...</td>\n",
              "      <td>...</td>\n",
              "      <td>...</td>\n",
              "      <td>...</td>\n",
              "      <td>...</td>\n",
              "      <td>...</td>\n",
              "      <td>...</td>\n",
              "      <td>...</td>\n",
              "      <td>...</td>\n",
              "      <td>...</td>\n",
              "    </tr>\n",
              "    <tr>\n",
              "      <th>2018-08-01</th>\n",
              "      <td>Implanon implant</td>\n",
              "      <td>C3015</td>\n",
              "      <td>Hospital</td>\n",
              "      <td>2018</td>\n",
              "      <td>8</td>\n",
              "      <td>PORO-TCHOLOGO-BAGOUE</td>\n",
              "      <td>BOUNDIALI</td>\n",
              "      <td>7.0</td>\n",
              "      <td>23.0</td>\n",
              "      <td>10.0</td>\n",
              "      <td>0.0</td>\n",
              "      <td>26.0</td>\n",
              "      <td>0.0</td>\n",
              "      <td>6.0</td>\n",
              "    </tr>\n",
              "    <tr>\n",
              "      <th>2018-08-01</th>\n",
              "      <td>Implanon implant</td>\n",
              "      <td>C2008</td>\n",
              "      <td>Hospital</td>\n",
              "      <td>2018</td>\n",
              "      <td>8</td>\n",
              "      <td>WORODOUGOU-BERE</td>\n",
              "      <td>SEGUELA</td>\n",
              "      <td>10.0</td>\n",
              "      <td>0.0</td>\n",
              "      <td>100.0</td>\n",
              "      <td>0.0</td>\n",
              "      <td>90.0</td>\n",
              "      <td>0.0</td>\n",
              "      <td>13.0</td>\n",
              "    </tr>\n",
              "    <tr>\n",
              "      <th>2018-08-01</th>\n",
              "      <td>Microgynon (pill)</td>\n",
              "      <td>C1063</td>\n",
              "      <td>Health Center</td>\n",
              "      <td>2018</td>\n",
              "      <td>8</td>\n",
              "      <td>ABIDJAN 2</td>\n",
              "      <td>ABOBO-EST</td>\n",
              "      <td>0.0</td>\n",
              "      <td>0.0</td>\n",
              "      <td>0.0</td>\n",
              "      <td>0.0</td>\n",
              "      <td>0.0</td>\n",
              "      <td>50.0</td>\n",
              "      <td>0.0</td>\n",
              "    </tr>\n",
              "    <tr>\n",
              "      <th>2018-08-01</th>\n",
              "      <td>E-Pill</td>\n",
              "      <td>C3023</td>\n",
              "      <td>Hospital</td>\n",
              "      <td>2018</td>\n",
              "      <td>8</td>\n",
              "      <td>PORO-TCHOLOGO-BAGOUE</td>\n",
              "      <td>TENGRELA</td>\n",
              "      <td>0.0</td>\n",
              "      <td>0.0</td>\n",
              "      <td>0.0</td>\n",
              "      <td>0.0</td>\n",
              "      <td>0.0</td>\n",
              "      <td>150.0</td>\n",
              "      <td>0.0</td>\n",
              "    </tr>\n",
              "    <tr>\n",
              "      <th>2018-08-01</th>\n",
              "      <td>Noristerat</td>\n",
              "      <td>C3013</td>\n",
              "      <td>Hospital</td>\n",
              "      <td>2018</td>\n",
              "      <td>8</td>\n",
              "      <td>HAMBOL</td>\n",
              "      <td>KATIOLA</td>\n",
              "      <td>12.0</td>\n",
              "      <td>60.0</td>\n",
              "      <td>0.0</td>\n",
              "      <td>0.0</td>\n",
              "      <td>48.0</td>\n",
              "      <td>0.0</td>\n",
              "      <td>11.0</td>\n",
              "    </tr>\n",
              "  </tbody>\n",
              "</table>\n",
              "<p>2199 rows × 14 columns</p>\n",
              "</div>"
            ],
            "text/plain": [
              "                 product_type  ... average_monthly_consumption\n",
              "date                           ...                            \n",
              "2016-08-01       Depo provera  ...                         0.0\n",
              "2016-08-01         Noristerat  ...                        68.0\n",
              "2016-08-01         Noristerat  ...                        27.0\n",
              "2016-08-01    Jadelle implant  ...                         7.0\n",
              "2016-08-01    Jadelle implant  ...                         0.0\n",
              "...                       ...  ...                         ...\n",
              "2018-08-01   Implanon implant  ...                         6.0\n",
              "2018-08-01   Implanon implant  ...                        13.0\n",
              "2018-08-01  Microgynon (pill)  ...                         0.0\n",
              "2018-08-01             E-Pill  ...                         0.0\n",
              "2018-08-01         Noristerat  ...                        11.0\n",
              "\n",
              "[2199 rows x 14 columns]"
            ]
          },
          "metadata": {
            "tags": []
          },
          "execution_count": 62
        }
      ]
    },
    {
      "cell_type": "code",
      "metadata": {
        "colab": {
          "base_uri": "https://localhost:8080/"
        },
        "id": "Wbn7fkvWsaZI",
        "outputId": "118ff3bd-cf65-4f42-b398-c8818a60d89f"
      },
      "source": [
        "aug['stock_distributed2'].value_counts()"
      ],
      "execution_count": null,
      "outputs": [
        {
          "output_type": "execute_result",
          "data": {
            "text/plain": [
              "0.0      868\n",
              "1.0      126\n",
              "3.0       88\n",
              "2.0       81\n",
              "5.0       73\n",
              "        ... \n",
              "300.0      1\n",
              "301.0      1\n",
              "185.0      1\n",
              "255.0      1\n",
              "157.0      1\n",
              "Name: stock_distributed2, Length: 132, dtype: int64"
            ]
          },
          "metadata": {
            "tags": []
          },
          "execution_count": 63
        }
      ]
    },
    {
      "cell_type": "code",
      "metadata": {
        "colab": {
          "base_uri": "https://localhost:8080/",
          "height": 410
        },
        "id": "cOWz1SAF5eLl",
        "outputId": "776910f4-9c5c-4574-b319-2c31f18533ad"
      },
      "source": [
        "# Line plot for dispensed products over the years\n",
        "dispensed = annual.groupby('year').mean()[['iud_number_dispensed','implant_number_dispensed','injection2_number_dispensed','injection3_number_dispensed','pill_number_dispensed']]\n",
        "sns.set(rc={'figure.figsize':(12,6)})\n",
        "dispensed.plot.line()\n",
        "plt.title('Average dispensed products over the years (2016-2018)')\n",
        "plt.legend(bbox_to_anchor=(1, 1), loc=2, borderaxespad=0.)\n",
        "plt.show()\n"
      ],
      "execution_count": null,
      "outputs": [
        {
          "output_type": "display_data",
          "data": {
            "image/png": "[encoded data removed]",
            "text/plain": [
              "<Figure size 864x432 with 1 Axes>"
            ]
          },
          "metadata": {
            "tags": []
          }
        }
      ]
    },
    {
      "cell_type": "code",
      "metadata": {
        "colab": {
          "base_uri": "https://localhost:8080/",
          "height": 410
        },
        "id": "bSlbe1U8nzCn",
        "outputId": "6d5c1b10-de1f-42ef-e094-e9d38fac52c9"
      },
      "source": [
        "# Line plot for dispensed products over the year 2019\n",
        "dispensed_2019 = monthly.groupby('month').mean()[['pill_number_dispensed','implant_number_dispensed','injection2_number_dispensed','injection3_number_dispensed','iud_number_dispensed']]\n",
        "sns.set(rc={'figure.figsize':(12,6)})\n",
        "dispensed_2019.plot.line()\n",
        "plt.title('Average dispensed products over the year 2019')\n",
        "plt.legend(bbox_to_anchor=(1, 1), loc=2, borderaxespad=0.)\n",
        "plt.show()"
      ],
      "execution_count": null,
      "outputs": [
        {
          "output_type": "display_data",
          "data": {
            "image/png": "[encoded data removed]",
            "text/plain": [
              "<Figure size 864x432 with 1 Axes>"
            ]
          },
          "metadata": {
            "tags": []
          }
        }
      ]
    },
    {
      "cell_type": "code",
      "metadata": {
        "id": "izur_nfsuB1_",
        "colab": {
          "base_uri": "https://localhost:8080/",
          "height": 437
        },
        "outputId": "45de5431-c522-4d5c-a373-25f985aafa2d"
      },
      "source": [
        "import statsmodels.api as sm\n",
        "\n",
        "decomposition = sm.tsa.seasonal_decompose (df['stock_distributed2'],freq=1, model = 'additive')\n",
        "fig = decomposition.plot()"
      ],
      "execution_count": null,
      "outputs": [
        {
          "output_type": "display_data",
          "data": {
            "image/png": "[encoded data removed]",
            "text/plain": [
              "<Figure size 864x432 with 4 Axes>"
            ]
          },
          "metadata": {
            "tags": []
          }
        }
      ]
    },
    {
      "cell_type": "code",
      "metadata": {
        "id": "PgQck1VgueA9",
        "colab": {
          "base_uri": "https://localhost:8080/"
        },
        "outputId": "056424b4-fb45-483d-9ffb-95905b92f462"
      },
      "source": [
        "# testing for stationarity\n",
        "import statsmodels.tsa.stattools as sts\n",
        "\n",
        "results = sts.adfuller(df['stock_distributed2'])\n",
        "\n",
        "print(f\"ADF Statistic: {results[0]}\")\n",
        "print(f\"p-value: {results[1]}\")\n",
        "print(\"Critical Values:\")\n",
        "for key, value in results[4].items():\n",
        "    print(\"\\t%s: %.3f\" % (key, value))"
      ],
      "execution_count": null,
      "outputs": [
        {
          "output_type": "stream",
          "text": [
            "ADF Statistic: -26.52660113321072\n",
            "p-value: 0.0\n",
            "Critical Values:\n",
            "\t1%: -3.431\n",
            "\t5%: -2.862\n",
            "\t10%: -2.567\n"
          ],
          "name": "stdout"
        }
      ]
    },
    {
      "cell_type": "code",
      "metadata": {
        "id": "Wf2shkC_uh3r",
        "colab": {
          "base_uri": "https://localhost:8080/",
          "height": 399
        },
        "outputId": "8e6a14ca-2280-40de-ec75-f04700683587"
      },
      "source": [
        "# checking for autocorrelation\n",
        "import statsmodels.graphics.tsaplots as sgt\n",
        "\n",
        "sgt.plot_acf(df['stock_distributed2'], lags = 40, zero = False)\n",
        "plt.title('ACF of the stock distributed', size =22)\n",
        "plt.show()"
      ],
      "execution_count": null,
      "outputs": [
        {
          "output_type": "display_data",
          "data": {
            "image/png": "[encoded data removed]",
            "text/plain": [
              "<Figure size 864x432 with 1 Axes>"
            ]
          },
          "metadata": {
            "tags": []
          }
        }
      ]
    },
    {
      "cell_type": "code",
      "metadata": {
        "id": "8jYG5zI0ulRm",
        "colab": {
          "base_uri": "https://localhost:8080/",
          "height": 399
        },
        "outputId": "9454f9b9-e48d-4f50-900a-4db140cd6c59"
      },
      "source": [
        "sgt.plot_pacf(df['stock_distributed2'], lags = 40, zero = False, method =('ols'))\n",
        "plt.title('PACF of the stock distributed', size =22)\n",
        "plt.show()"
      ],
      "execution_count": null,
      "outputs": [
        {
          "output_type": "display_data",
          "data": {
            "image/png": "[encoded data removed]",
            "text/plain": [
              "<Figure size 864x432 with 1 Axes>"
            ]
          },
          "metadata": {
            "tags": []
          }
        }
      ]
    },
    {
      "cell_type": "markdown",
      "metadata": {
        "id": "r40W35aW7KvE"
      },
      "source": [
        "##**IMPLEMENTING THE SOLUTION**"
      ]
    },
    {
      "cell_type": "markdown",
      "metadata": {
        "id": "imYETWDt7t5F"
      },
      "source": [
        "### **PRE-PROCESSING**"
      ]
    },
    {
      "cell_type": "markdown",
      "metadata": {
        "id": "dnt_1eeDYTxC"
      },
      "source": [
        "####**ENCODING OUR COLUMNS**"
      ]
    },
    {
      "cell_type": "code",
      "metadata": {
        "id": "x-h7uBmyJWdv"
      },
      "source": [
        "# the independent variables set\n",
        "X = df.drop('stock_distributed2', axis=1)\n",
        "y = df[\"stock_distributed2\"]"
      ],
      "execution_count": null,
      "outputs": []
    },
    {
      "cell_type": "code",
      "metadata": {
        "colab": {
          "base_uri": "https://localhost:8080/"
        },
        "id": "gYaPblPwCLam",
        "outputId": "bed241d1-f762-4811-af80-b8c5451d2db4"
      },
      "source": [
        "df.columns"
      ],
      "execution_count": null,
      "outputs": [
        {
          "output_type": "execute_result",
          "data": {
            "text/plain": [
              "Index(['product_type', 'site_code', 'site_type', 'year', 'month', 'region',\n",
              "       'district', 'stock_distributed2', 'stock_initial', 'stock_received',\n",
              "       'stock_adjustment', 'stock_end', 'stock_ordered',\n",
              "       'average_monthly_consumption'],\n",
              "      dtype='object')"
            ]
          },
          "metadata": {
            "tags": []
          },
          "execution_count": 71
        }
      ]
    },
    {
      "cell_type": "code",
      "metadata": {
        "colab": {
          "base_uri": "https://localhost:8080/",
          "height": 338
        },
        "id": "sjnQBx7NIB0M",
        "outputId": "4c03ba90-4cca-42f7-ac6c-b0878f0111f4"
      },
      "source": [
        "\n",
        "from sklearn.preprocessing import LabelEncoder\n",
        "\n",
        "categ = ['product_type','site_code', 'site_type', 'region','district']\n",
        "\n",
        "# Encode Categorical Columns\n",
        "le = LabelEncoder()\n",
        "df[categ] = df[categ].apply(le.fit_transform)\n",
        "\n",
        "df.head()\n"
      ],
      "execution_count": null,
      "outputs": [
        {
          "output_type": "execute_result",
          "data": {
            "text/html": [
              "<div>\n",
              "<style scoped>\n",
              "    .dataframe tbody tr th:only-of-type {\n",
              "        vertical-align: middle;\n",
              "    }\n",
              "\n",
              "    .dataframe tbody tr th {\n",
              "        vertical-align: top;\n",
              "    }\n",
              "\n",
              "    .dataframe thead th {\n",
              "        text-align: right;\n",
              "    }\n",
              "</style>\n",
              "<table border=\"1\" class=\"dataframe\">\n",
              "  <thead>\n",
              "    <tr style=\"text-align: right;\">\n",
              "      <th></th>\n",
              "      <th>product_type</th>\n",
              "      <th>site_code</th>\n",
              "      <th>site_type</th>\n",
              "      <th>year</th>\n",
              "      <th>month</th>\n",
              "      <th>region</th>\n",
              "      <th>district</th>\n",
              "      <th>stock_distributed2</th>\n",
              "      <th>stock_initial</th>\n",
              "      <th>stock_received</th>\n",
              "      <th>stock_adjustment</th>\n",
              "      <th>stock_end</th>\n",
              "      <th>stock_ordered</th>\n",
              "      <th>average_monthly_consumption</th>\n",
              "    </tr>\n",
              "    <tr>\n",
              "      <th>date</th>\n",
              "      <th></th>\n",
              "      <th></th>\n",
              "      <th></th>\n",
              "      <th></th>\n",
              "      <th></th>\n",
              "      <th></th>\n",
              "      <th></th>\n",
              "      <th></th>\n",
              "      <th></th>\n",
              "      <th></th>\n",
              "      <th></th>\n",
              "      <th></th>\n",
              "      <th></th>\n",
              "      <th></th>\n",
              "    </tr>\n",
              "  </thead>\n",
              "  <tbody>\n",
              "    <tr>\n",
              "      <th>2016-01-01</th>\n",
              "      <td>0</td>\n",
              "      <td>125</td>\n",
              "      <td>1</td>\n",
              "      <td>2016</td>\n",
              "      <td>1</td>\n",
              "      <td>15</td>\n",
              "      <td>28</td>\n",
              "      <td>0.0</td>\n",
              "      <td>0.0</td>\n",
              "      <td>0.0</td>\n",
              "      <td>0.0</td>\n",
              "      <td>0.0</td>\n",
              "      <td>25.0</td>\n",
              "      <td>0.0</td>\n",
              "    </tr>\n",
              "    <tr>\n",
              "      <th>2016-01-01</th>\n",
              "      <td>7</td>\n",
              "      <td>66</td>\n",
              "      <td>1</td>\n",
              "      <td>2016</td>\n",
              "      <td>1</td>\n",
              "      <td>8</td>\n",
              "      <td>35</td>\n",
              "      <td>417.0</td>\n",
              "      <td>1089.0</td>\n",
              "      <td>0.0</td>\n",
              "      <td>0.0</td>\n",
              "      <td>672.0</td>\n",
              "      <td>18.0</td>\n",
              "      <td>350.0</td>\n",
              "    </tr>\n",
              "    <tr>\n",
              "      <th>2016-01-01</th>\n",
              "      <td>5</td>\n",
              "      <td>88</td>\n",
              "      <td>1</td>\n",
              "      <td>2016</td>\n",
              "      <td>1</td>\n",
              "      <td>6</td>\n",
              "      <td>58</td>\n",
              "      <td>0.0</td>\n",
              "      <td>13.0</td>\n",
              "      <td>0.0</td>\n",
              "      <td>0.0</td>\n",
              "      <td>13.0</td>\n",
              "      <td>0.0</td>\n",
              "      <td>0.0</td>\n",
              "    </tr>\n",
              "    <tr>\n",
              "      <th>2016-01-01</th>\n",
              "      <td>0</td>\n",
              "      <td>42</td>\n",
              "      <td>1</td>\n",
              "      <td>2016</td>\n",
              "      <td>1</td>\n",
              "      <td>0</td>\n",
              "      <td>25</td>\n",
              "      <td>0.0</td>\n",
              "      <td>0.0</td>\n",
              "      <td>0.0</td>\n",
              "      <td>0.0</td>\n",
              "      <td>0.0</td>\n",
              "      <td>600.0</td>\n",
              "      <td>67.0</td>\n",
              "    </tr>\n",
              "    <tr>\n",
              "      <th>2016-01-01</th>\n",
              "      <td>5</td>\n",
              "      <td>49</td>\n",
              "      <td>1</td>\n",
              "      <td>2016</td>\n",
              "      <td>1</td>\n",
              "      <td>7</td>\n",
              "      <td>60</td>\n",
              "      <td>0.0</td>\n",
              "      <td>36.0</td>\n",
              "      <td>0.0</td>\n",
              "      <td>0.0</td>\n",
              "      <td>36.0</td>\n",
              "      <td>2.0</td>\n",
              "      <td>5.0</td>\n",
              "    </tr>\n",
              "  </tbody>\n",
              "</table>\n",
              "</div>"
            ],
            "text/plain": [
              "            product_type  site_code  ...  stock_ordered  average_monthly_consumption\n",
              "date                                 ...                                            \n",
              "2016-01-01             0        125  ...           25.0                          0.0\n",
              "2016-01-01             7         66  ...           18.0                        350.0\n",
              "2016-01-01             5         88  ...            0.0                          0.0\n",
              "2016-01-01             0         42  ...          600.0                         67.0\n",
              "2016-01-01             5         49  ...            2.0                          5.0\n",
              "\n",
              "[5 rows x 14 columns]"
            ]
          },
          "metadata": {
            "tags": []
          },
          "execution_count": 72
        }
      ]
    },
    {
      "cell_type": "markdown",
      "metadata": {
        "id": "6y5gcgUt7QGp"
      },
      "source": [
        "####**CHECK FOR MULTICOLLINEARITY**"
      ]
    },
    {
      "cell_type": "code",
      "metadata": {
        "id": "8L5Tw_VZ7tCg",
        "colab": {
          "base_uri": "https://localhost:8080/"
        },
        "outputId": "45e37c38-fb45-4faf-88a7-e9a259070d04"
      },
      "source": [
        "\n",
        "from statsmodels.stats.outliers_influence import variance_inflation_factor\n",
        "   \n",
        "# the independent variables set\n",
        "X = df.drop('stock_distributed2', axis=1)\n",
        "\n",
        "  \n",
        "# VIF dataframe\n",
        "vif_data = pd.DataFrame()\n",
        "vif_data[\"feature\"] = X.columns\n",
        "  \n",
        "# calculating VIF for each feature\n",
        "vif_data[\"VIF\"] = [variance_inflation_factor(X.values, i)\n",
        "                          for i in range(len(X.columns))]\n",
        "  \n",
        "print(vif_data)\n"
      ],
      "execution_count": null,
      "outputs": [
        {
          "output_type": "stream",
          "text": [
            "                        feature        VIF\n",
            "0                  product_type   3.575978\n",
            "1                     site_code   6.648611\n",
            "2                     site_type   4.840720\n",
            "3                          year  13.235854\n",
            "4                         month   4.252721\n",
            "5                        region   3.227682\n",
            "6                      district   3.769200\n",
            "7                 stock_initial  59.523511\n",
            "8                stock_received  10.731159\n",
            "9              stock_adjustment   3.575114\n",
            "10                    stock_end  62.644495\n",
            "11                stock_ordered   1.172713\n",
            "12  average_monthly_consumption   3.913708\n"
          ],
          "name": "stdout"
        }
      ]
    },
    {
      "cell_type": "markdown",
      "metadata": {
        "id": "-83tjSDYYXo0"
      },
      "source": [
        "####**SPLITTING THE DATA**"
      ]
    },
    {
      "cell_type": "code",
      "metadata": {
        "id": "8bCsPjix-JHe",
        "colab": {
          "base_uri": "https://localhost:8080/"
        },
        "outputId": "641ace50-beac-4a3c-f206-e3ff1628fb41"
      },
      "source": [
        "# Use the timeseries split\n",
        "from sklearn.model_selection import TimeSeriesSplit\n",
        "tss = TimeSeriesSplit()\n",
        "print(tss)\n",
        "\n",
        "for train_index, test_index in tss.split(X):\n",
        "    print(\"TRAIN:\", train_index, \"TEST:\", test_index)\n",
        "    X_train, X_test = X.iloc[train_index], X.iloc[test_index]\n",
        "    y_train, y_test = y.iloc[train_index], y.iloc[test_index]"
      ],
      "execution_count": null,
      "outputs": [
        {
          "output_type": "stream",
          "text": [
            "TimeSeriesSplit(max_train_size=None, n_splits=5)\n",
            "TRAIN: [   0    1    2 ... 5142 5143 5144] TEST: [ 5145  5146  5147 ... 10287 10288 10289]\n",
            "TRAIN: [    0     1     2 ... 10287 10288 10289] TEST: [10290 10291 10292 ... 15432 15433 15434]\n",
            "TRAIN: [    0     1     2 ... 15432 15433 15434] TEST: [15435 15436 15437 ... 20577 20578 20579]\n",
            "TRAIN: [    0     1     2 ... 20577 20578 20579] TEST: [20580 20581 20582 ... 25722 25723 25724]\n",
            "TRAIN: [    0     1     2 ... 25722 25723 25724] TEST: [25725 25726 25727 ... 30867 30868 30869]\n"
          ],
          "name": "stdout"
        }
      ]
    },
    {
      "cell_type": "markdown",
      "metadata": {
        "id": "zsW7G5_tTDVn"
      },
      "source": [
        "####**SCALING AND NORMALISING OUR DATA**"
      ]
    },
    {
      "cell_type": "code",
      "metadata": {
        "id": "hfXZ8hfHTCjq"
      },
      "source": [
        "from sklearn.preprocessing import MinMaxScaler\n",
        "scaler = MinMaxScaler()\n",
        "X_train = scaler.fit_transform(X_train)\n",
        "X_test = scaler.transform(X_test)"
      ],
      "execution_count": null,
      "outputs": []
    },
    {
      "cell_type": "markdown",
      "metadata": {
        "id": "2RNzijVH7k3U"
      },
      "source": [
        "### **MODELLING**"
      ]
    },
    {
      "cell_type": "markdown",
      "metadata": {
        "id": "OO6yDH1-TjzX"
      },
      "source": [
        "#### **BASELINE MODEL**"
      ]
    },
    {
      "cell_type": "markdown",
      "metadata": {
        "id": "gNEn2hifUslD"
      },
      "source": [
        "##### **MULTIPLE LINEAR REGRESSION MODEL**"
      ]
    },
    {
      "cell_type": "code",
      "metadata": {
        "colab": {
          "base_uri": "https://localhost:8080/"
        },
        "id": "zYz51WDgSWzK",
        "outputId": "8b31dffb-0e83-4ce9-e08b-581d991ee57f"
      },
      "source": [
        "from sklearn.linear_model import LinearRegression\n",
        "from math import sqrt\n",
        "regressor = LinearRegression()\n",
        "\n",
        "# fitting our basemodel to the training set \n",
        "regressor.fit(X_train, y_train)\n",
        "y_pred = regressor.predict(X_test)\n",
        "\n",
        "# Getting the accuracy and metrics for our algo\n",
        "from sklearn.metrics import mean_absolute_error, mean_squared_error, r2_score\n",
        "print(\"The MAE for the linear regression is:\", mean_absolute_error(y_test, y_pred))\n",
        "print(\"The MSE for the linear regression is:\", mean_squared_error(y_test, y_pred))\n",
        "print(\"The r2 for the linear regression is:\", r2_score(y_test, y_pred))\n",
        "print(\"The RMSE for the linear regression is:\", sqrt(mean_squared_error(y_test, y_pred)))"
      ],
      "execution_count": null,
      "outputs": [
        {
          "output_type": "stream",
          "text": [
            "The MAE for the linear regression is: 2.7059314801401797\n",
            "The MSE for the linear regression is: 99.60700356784022\n",
            "The r2 for the linear regression is: 0.9412370605232244\n",
            "The RMSE for the linear regression is: 9.980330834588612\n"
          ],
          "name": "stdout"
        }
      ]
    },
    {
      "cell_type": "markdown",
      "metadata": {
        "id": "2PBTZIPYdElz"
      },
      "source": [
        "#### **ELASTIC NET REGRESSION**"
      ]
    },
    {
      "cell_type": "code",
      "metadata": {
        "id": "jo2ee_49eZnJ"
      },
      "source": [
        "# Elastic Net Model\n",
        "\n",
        "from sklearn.model_selection import GridSearchCV\n",
        "from sklearn.linear_model import ElasticNet\n",
        "\n",
        "elastic=ElasticNet(normalize=True)\n",
        "search=GridSearchCV(estimator=elastic,param_grid={'alpha':np.logspace(-5,2,8),'l1_ratio':[.2,.4,.6,.8]},scoring='neg_mean_squared_error',n_jobs=1,refit=True,cv=10)"
      ],
      "execution_count": null,
      "outputs": []
    },
    {
      "cell_type": "code",
      "metadata": {
        "colab": {
          "base_uri": "https://localhost:8080/"
        },
        "id": "QYBhm4Fmhh3_",
        "outputId": "c51ce268-6f26-4fd0-ae4f-d727742243ea"
      },
      "source": [
        "# Finding the best parameters\n",
        "\n",
        "search.fit(X,y)\n",
        "search.best_params_"
      ],
      "execution_count": null,
      "outputs": [
        {
          "output_type": "execute_result",
          "data": {
            "text/plain": [
              "{'alpha': 1e-05, 'l1_ratio': 0.8}"
            ]
          },
          "metadata": {
            "tags": []
          },
          "execution_count": 78
        }
      ]
    },
    {
      "cell_type": "code",
      "metadata": {
        "colab": {
          "base_uri": "https://localhost:8080/"
        },
        "id": "XvfPGvathh0g",
        "outputId": "f0a3dfd8-4670-4dde-ec1e-b35dfe1d38c0"
      },
      "source": [
        "abs(search.best_score_)"
      ],
      "execution_count": null,
      "outputs": [
        {
          "output_type": "execute_result",
          "data": {
            "text/plain": [
              "742.9897006356401"
            ]
          },
          "metadata": {
            "tags": []
          },
          "execution_count": 79
        }
      ]
    },
    {
      "cell_type": "code",
      "metadata": {
        "colab": {
          "base_uri": "https://localhost:8080/"
        },
        "id": "4Uf7RFgliMHS",
        "outputId": "37d8d1be-3055-414b-e6e5-0d7cdc98c124"
      },
      "source": [
        "elastic=ElasticNet(normalize=True,alpha=0.00001,l1_ratio=0.8)\n",
        "elastic.fit(X,y)\n",
        "\n",
        "mse=(mean_squared_error(y_true=y,y_pred=elastic.predict(X)))\n",
        "rmse = (sqrt(mean_squared_error(y_true=y,y_pred=elastic.predict(X))))\n",
        "r2score = (r2_score(y_true=y,y_pred=elastic.predict(X)))\n",
        "print(\"The MSE for Elastic Net Regression is:\", mse)\n",
        "print(\"The RMSE for Elastic Net Regression is:\", rmse)\n",
        "print(\"The r2 score for Elastic Net Regression is:\", r2score)"
      ],
      "execution_count": null,
      "outputs": [
        {
          "output_type": "stream",
          "text": [
            "The MSE for Elastic Net Regression is: 751.1596202579713\n",
            "The RMSE for Elastic Net Regression is: 27.407291370326462\n",
            "The r2 score for Elastic Net Regression is: 0.6341946067889539\n"
          ],
          "name": "stdout"
        }
      ]
    },
    {
      "cell_type": "markdown",
      "metadata": {
        "id": "GDcjxM3x8Eyh"
      },
      "source": [
        "#### **RANDOM FOREST REGRESSION MODEL**"
      ]
    },
    {
      "cell_type": "code",
      "metadata": {
        "colab": {
          "base_uri": "https://localhost:8080/"
        },
        "id": "pdd6QfW8BcM3",
        "outputId": "61f57efa-9140-4059-dd38-d1ae3f4a67d5"
      },
      "source": [
        "# Random Forest Regressor\n",
        "# Import the model\n",
        "from sklearn.ensemble import RandomForestRegressor\n",
        " \n",
        "# min_samples_split or max_depth\n",
        "forest = RandomForestRegressor(n_estimators = 100, min_samples_split = 20, max_depth=5)\n",
        "forest = forest.fit(X_train, y_train)\n",
        "\n",
        "# Predict based on the model we've trained\n",
        "y_pred = forest.predict(X_test)\n",
        "# And now we assess the errors\n",
        "print('Mean Absolute Error:', mean_absolute_error(y_test, y_pred))  \n",
        "print('Mean Squared Error:',mean_squared_error(y_test, y_pred))  \n",
        "print('Root Mean Squared Error:', sqrt(mean_squared_error(y_test, y_pred)))\n",
        "print(\"R2 Score:\", r2_score(y_test, y_pred))"
      ],
      "execution_count": null,
      "outputs": [
        {
          "output_type": "stream",
          "text": [
            "Mean Absolute Error: 8.92660381373372\n",
            "Mean Squared Error: 574.6116286416576\n",
            "Root Mean Squared Error: 23.97105814605725\n",
            "R2 Score: 0.6610090942699232\n"
          ],
          "name": "stdout"
        }
      ]
    },
    {
      "cell_type": "code",
      "metadata": {
        "colab": {
          "base_uri": "https://localhost:8080/"
        },
        "id": "1lnV_ZqiCbfW",
        "outputId": "52548262-9ed0-44b5-c7d6-95a1f26b850c"
      },
      "source": [
        "# Get numerical feature importances\n",
        "importances = list(forest.feature_importances_)\n",
        "\n",
        "# We now use some Python magic to connect each feature with its importance\n",
        "# List of tuples with variable and importance\n",
        "feature_importances = [(feature, round(importance, 2)) for feature, importance in zip(X, importances)]\n",
        "\n",
        "print(feature_importances) #this already has all the information we need, but it can be tricky to see when there are too many features.\n",
        "print()\n",
        "\n",
        "# Nice to have: We can sort the values in descending order, since we care about the most important features first.\n",
        "feature_importances = sorted(feature_importances, key = lambda x: x[1], reverse = True)\n",
        "\n",
        "# Print out the feature and importances \n",
        "[print('Variable: {:20} Importance: {}'.format(*pair)) for pair in feature_importances];"
      ],
      "execution_count": null,
      "outputs": [
        {
          "output_type": "stream",
          "text": [
            "[('product_type', 0.01), ('site_code', 0.01), ('site_type', 0.0), ('year', 0.0), ('month', 0.0), ('region', 0.0), ('district', 0.0), ('stock_initial', 0.09), ('stock_received', 0.01), ('stock_adjustment', 0.0), ('stock_end', 0.03), ('stock_ordered', 0.0), ('average_monthly_consumption', 0.84)]\n",
            "\n",
            "Variable: average_monthly_consumption Importance: 0.84\n",
            "Variable: stock_initial        Importance: 0.09\n",
            "Variable: stock_end            Importance: 0.03\n",
            "Variable: product_type         Importance: 0.01\n",
            "Variable: site_code            Importance: 0.01\n",
            "Variable: stock_received       Importance: 0.01\n",
            "Variable: site_type            Importance: 0.0\n",
            "Variable: year                 Importance: 0.0\n",
            "Variable: month                Importance: 0.0\n",
            "Variable: region               Importance: 0.0\n",
            "Variable: district             Importance: 0.0\n",
            "Variable: stock_adjustment     Importance: 0.0\n",
            "Variable: stock_ordered        Importance: 0.0\n"
          ],
          "name": "stdout"
        }
      ]
    },
    {
      "cell_type": "markdown",
      "metadata": {
        "id": "oWqLfkitpT06"
      },
      "source": [
        "#### **ARMA MODEL**"
      ]
    },
    {
      "cell_type": "code",
      "metadata": {
        "id": "9TdZ8XwqpfZF"
      },
      "source": [
        "from statsmodels.tsa.arima_model import ARMA, ARIMA\n",
        "from statsmodels.tsa.stattools import arma_order_select_ic"
      ],
      "execution_count": null,
      "outputs": []
    },
    {
      "cell_type": "code",
      "metadata": {
        "id": "YpVVI__xppr6"
      },
      "source": [
        "'''\n",
        "print arma_order_select_ic(df.stock_distributed2, \n",
        "         ic=['aic', 'bic'], trend='nc', \n",
        "         max_ar=4, max_ma=4, \n",
        "         fit_kw={'method': 'css-mle'})\n",
        "'''"
      ],
      "execution_count": null,
      "outputs": []
    },
    {
      "cell_type": "code",
      "metadata": {
        "id": "qZCJBA3fp60B"
      },
      "source": [
        "'''\n",
        "ts = pd.Series(df.stock_distributed2, index=df.index)\n",
        "model = ARMA(ts, order=(3, 3))\n",
        "results = model.fit(trend='nc', method='css-mle', disp=-1)\n",
        "print(results.summary2())\n",
        "'''"
      ],
      "execution_count": null,
      "outputs": []
    },
    {
      "cell_type": "markdown",
      "metadata": {
        "id": "_7kLf7ipijI5"
      },
      "source": [
        "####  **VAR MODEL**"
      ]
    },
    {
      "cell_type": "code",
      "metadata": {
        "id": "7sI9QAZYjFMb"
      },
      "source": [
        "from statsmodels.tsa.statespace.varmax import VARMAX\n",
        "from statsmodels.tsa.api import VAR"
      ],
      "execution_count": null,
      "outputs": []
    },
    {
      "cell_type": "code",
      "metadata": {
        "id": "oYkObRc_kZa6"
      },
      "source": [
        "model = VAR(X_train[1:])"
      ],
      "execution_count": null,
      "outputs": []
    },
    {
      "cell_type": "code",
      "metadata": {
        "colab": {
          "base_uri": "https://localhost:8080/"
        },
        "id": "RbQfwoaFmAp4",
        "outputId": "b714d49c-7456-4235-c39b-e93d3a837e8d"
      },
      "source": [
        "model"
      ],
      "execution_count": null,
      "outputs": [
        {
          "output_type": "execute_result",
          "data": {
            "text/plain": [
              "<statsmodels.tsa.vector_ar.var_model.VAR at 0x7f7e1bfcbc10>"
            ]
          },
          "metadata": {
            "tags": []
          },
          "execution_count": 87
        }
      ]
    },
    {
      "cell_type": "code",
      "metadata": {
        "colab": {
          "base_uri": "https://localhost:8080/"
        },
        "id": "fTxvgBCAksOA",
        "outputId": "0919d3be-4e7e-40c9-a974-98048c0a2c81"
      },
      "source": [
        "sorted_order=model.select_order(maxlags=20)\n",
        "print(sorted_order.summary())\n"
      ],
      "execution_count": null,
      "outputs": [
        {
          "output_type": "stream",
          "text": [
            " VAR Order Selection (* highlights the minimums)  \n",
            "==================================================\n",
            "       AIC         BIC         FPE         HQIC   \n",
            "--------------------------------------------------\n",
            "0       -66.82      -66.82   9.525e-30      -66.82\n",
            "1      -84.58*     -84.52*  1.846e-37*     -84.56*\n",
            "2       -84.58      -84.46   1.858e-37      -84.54\n",
            "3       -84.57      -84.41   1.867e-37      -84.52\n",
            "4       -84.57      -84.35   1.876e-37      -84.50\n",
            "5       -84.56      -84.29   1.888e-37      -84.47\n",
            "6       -84.56      -84.23   1.895e-37      -84.45\n",
            "7       -84.55      -84.17   1.904e-37      -84.43\n",
            "8       -84.55      -84.12   1.911e-37      -84.41\n",
            "9       -84.54      -84.06   1.918e-37      -84.39\n",
            "10      -84.54      -84.00   1.927e-37      -84.37\n",
            "11      -84.53      -83.94   1.938e-37      -84.34\n",
            "12      -84.53      -83.88   1.947e-37      -84.32\n",
            "13      -84.53      -83.83   1.950e-37      -84.30\n",
            "14      -84.52      -83.77   1.963e-37      -84.28\n",
            "15      -84.51      -83.71   1.977e-37      -84.25\n",
            "16      -84.51      -83.64   1.991e-37      -84.23\n",
            "17      -84.50      -83.59   1.999e-37      -84.21\n",
            "18      -84.50      -83.53   2.006e-37      -84.19\n",
            "19      -84.49      -83.47   2.019e-37      -84.16\n",
            "20      -84.49      -83.41   2.032e-37      -84.14\n",
            "--------------------------------------------------\n"
          ],
          "name": "stdout"
        }
      ]
    },
    {
      "cell_type": "code",
      "metadata": {
        "colab": {
          "base_uri": "https://localhost:8080/"
        },
        "id": "WgthqFNDkx8z",
        "outputId": "bc4e665c-5bd4-49b6-a206-57b60753d2e8"
      },
      "source": [
        "var_model = VARMAX(X_train, order=(1,0),enforce_stationarity= False)\n",
        "fitted_model = var_model.fit(disp=False)\n",
        "print(fitted_model.summary())"
      ],
      "execution_count": null,
      "outputs": [
        {
          "output_type": "stream",
          "text": [
            "                                                           Statespace Model Results                                                           \n",
            "==============================================================================================================================================\n",
            "Dep. Variable:     ['y1', 'y2', 'y3', 'y4', 'y5', 'y6', 'y7', 'y8', 'y9', 'y10', 'y11', 'y12', 'y13']   No. Observations:                25725\n",
            "Model:                                                                                         VAR(1)   Log Likelihood              613568.222\n",
            "                                                                                          + intercept   AIC                       -1226590.443\n",
            "Date:                                                                                Tue, 03 Aug 2021   BIC                       -1224364.069\n",
            "Time:                                                                                        20:43:17   HQIC                      -1225870.822\n",
            "Sample:                                                                                             0                                         \n",
            "                                                                                              - 25725                                         \n",
            "Covariance Type:                                                                                  opg                                         \n",
            "=======================================================================================================================================================================================================================================================================================================\n",
            "Ljung-Box (Q):          1459.63, 89.01, 240.97, 0.06, 1.67, 29.25, 186.56, 27.96, 100.52, 30.23, 48.77, 20.01, 55.68   Jarque-Bera (JB):   2292.68, 1355.05, 3428.22, 78524852567.49, 644744346.41, 1282.41, 1497.44, 17524267.52, 49263658.32, 2883241111.18, 48443289.63, 11682552883.58, 27550523.69\n",
            "Prob(Q):                                0.00, 0.00, 0.00, 1.00, 1.00, 0.90, 0.00, 0.92, 0.00, 0.87, 0.16, 1.00, 0.05   Prob(JB):                                                                                           0.00, 0.00, 0.00, 0.00, 0.00, 0.00, 0.00, 0.00, 0.00, 0.00, 0.00, 0.00, 0.00\n",
            "Heteroskedasticity (H):                 0.93, 1.01, 1.20, 1.00, 0.77, 1.08, 0.99, 1.09, 0.71, 0.70, 0.81, 0.29, 0.79   Skew:                                                                                       -0.38, 0.02, 0.29, 92.48, 27.84, 0.48, -0.03, 8.90, 11.44, 21.79, -7.98, 42.32, 5.74\n",
            "Prob(H) (two-sided):                    0.00, 0.60, 0.00, 0.99, 0.00, 0.00, 0.74, 0.00, 0.00, 0.00, 0.00, 0.00, 0.00   Kurtosis:                                                                        1.75, 1.88, 4.69, 8560.17, 776.57, 2.47, 1.82, 129.62, 216.16, 1642.51, 214.99, 3303.30, 162.91\n",
            "                           Results for equation y1                            \n",
            "==============================================================================\n",
            "                 coef    std err          z      P>|z|      [0.025      0.975]\n",
            "------------------------------------------------------------------------------\n",
            "intercept      0.4590      0.057      8.115      0.000       0.348       0.570\n",
            "L1.y1          0.0066      0.008      0.870      0.384      -0.008       0.021\n",
            "L1.y2          0.0054      0.013      0.400      0.689      -0.021       0.032\n",
            "L1.y3          0.0043      0.021      0.201      0.840      -0.038       0.046\n",
            "L1.y4         -0.0150      0.008     -1.920      0.055      -0.030       0.000\n",
            "L1.y5         -0.0009      0.044     -0.022      0.983      -0.087       0.085\n",
            "L1.y6          0.0017      0.013      0.132      0.895      -0.024       0.027\n",
            "L1.y7          0.0079      0.020      0.395      0.693      -0.031       0.047\n",
            "L1.y8          0.0993      0.109      0.909      0.364      -0.115       0.313\n",
            "L1.y9         -0.0134      0.094     -0.142      0.887      -0.197       0.170\n",
            "L1.y10         0.1115      0.179      0.621      0.534      -0.240       0.463\n",
            "L1.y11        -0.0501      0.086     -0.580      0.562      -0.219       0.119\n",
            "L1.y12         0.1775      0.302      0.587      0.557      -0.415       0.770\n",
            "L1.y13        -0.0270      0.106     -0.254      0.799      -0.235       0.181\n",
            "                           Results for equation y2                            \n",
            "==============================================================================\n",
            "                 coef    std err          z      P>|z|      [0.025      0.975]\n",
            "------------------------------------------------------------------------------\n",
            "intercept      0.5340      0.091      5.875      0.000       0.356       0.712\n",
            "L1.y1          0.0099      0.008      1.276      0.202      -0.005       0.025\n",
            "L1.y2          0.0070      0.014      0.503      0.615      -0.020       0.034\n",
            "L1.y3          0.0085      0.021      0.398      0.691      -0.034       0.051\n",
            "L1.y4          0.0192      0.008      2.410      0.016       0.004       0.035\n",
            "L1.y5         -0.0032      0.044     -0.073      0.942      -0.088       0.082\n",
            "L1.y6         -0.0102      0.013     -0.777      0.437      -0.036       0.016\n",
            "L1.y7         -0.0110      0.020     -0.552      0.581      -0.050       0.028\n",
            "L1.y8          0.3186      0.162      1.964      0.050       0.001       0.637\n",
            "L1.y9          0.1731      0.123      1.413      0.158      -0.067       0.413\n",
            "L1.y10        -0.1454      0.284     -0.512      0.608      -0.701       0.411\n",
            "L1.y11        -0.3373      0.159     -2.122      0.034      -0.649      -0.026\n",
            "L1.y12         0.1874      0.299      0.627      0.531      -0.398       0.773\n",
            "L1.y13        -0.0123      0.106     -0.116      0.908      -0.220       0.195\n",
            "                           Results for equation y3                            \n",
            "==============================================================================\n",
            "                 coef    std err          z      P>|z|      [0.025      0.975]\n",
            "------------------------------------------------------------------------------\n",
            "intercept      0.5695      0.057     10.020      0.000       0.458       0.681\n",
            "L1.y1          0.0066      0.006      1.134      0.257      -0.005       0.018\n",
            "L1.y2          0.0013      0.011      0.127      0.899      -0.019       0.022\n",
            "L1.y3          0.0040      0.017      0.239      0.811      -0.029       0.037\n",
            "L1.y4          0.0192      0.006      3.343      0.001       0.008       0.031\n",
            "L1.y5         -0.0006      0.035     -0.017      0.986      -0.070       0.069\n",
            "L1.y6         -0.0040      0.010     -0.389      0.697      -0.024       0.016\n",
            "L1.y7         -0.0076      0.016     -0.475      0.635      -0.039       0.024\n",
            "L1.y8         -0.1588      0.095     -1.667      0.095      -0.345       0.028\n",
            "L1.y9         -0.1144      0.083     -1.378      0.168      -0.277       0.048\n",
            "L1.y10        -0.6485      0.178     -3.652      0.000      -0.997      -0.300\n",
            "L1.y11         0.1515      0.087      1.738      0.082      -0.019       0.322\n",
            "L1.y12         0.1876      0.252      0.746      0.456      -0.305       0.681\n",
            "L1.y13         0.0722      0.082      0.885      0.376      -0.088       0.232\n",
            "                           Results for equation y4                            \n",
            "==============================================================================\n",
            "                 coef    std err          z      P>|z|      [0.025      0.975]\n",
            "------------------------------------------------------------------------------\n",
            "intercept      0.0004      0.053      0.008      0.993      -0.103       0.104\n",
            "L1.y1      -1.685e-05      0.003     -0.005      0.996      -0.007       0.007\n",
            "L1.y2      -4.246e-05      0.005     -0.008      0.993      -0.010       0.010\n",
            "L1.y3      -8.142e-05      0.006     -0.014      0.989      -0.012       0.011\n",
            "L1.y4          1.0000      0.004    261.226      0.000       0.992       1.007\n",
            "L1.y5          0.0002      0.004      0.047      0.963      -0.008       0.008\n",
            "L1.y6      -4.703e-05      0.004     -0.012      0.991      -0.008       0.008\n",
            "L1.y7      -8.281e-05      0.004     -0.022      0.982      -0.007       0.007\n",
            "L1.y8         -0.0013      0.095     -0.013      0.989      -0.187       0.184\n",
            "L1.y9         -0.0011      0.064     -0.017      0.986      -0.126       0.123\n",
            "L1.y10        -0.0013      0.162     -0.008      0.994      -0.319       0.317\n",
            "L1.y11         0.0014      0.098      0.014      0.988      -0.190       0.193\n",
            "L1.y12         0.0009      0.029      0.033      0.974      -0.055       0.057\n",
            "L1.y13       -6.2e-05      0.034     -0.002      0.999      -0.066       0.066\n",
            "                           Results for equation y5                            \n",
            "==============================================================================\n",
            "                 coef    std err          z      P>|z|      [0.025      0.975]\n",
            "------------------------------------------------------------------------------\n",
            "intercept     -0.0003      0.152     -0.002      0.998      -0.299       0.298\n",
            "L1.y1       7.612e-05      0.010      0.008      0.994      -0.020       0.020\n",
            "L1.y2          0.0001      0.015      0.007      0.994      -0.030       0.030\n",
            "L1.y3          0.0003      0.018      0.016      0.987      -0.034       0.035\n",
            "L1.y4      -5.124e-05      0.011     -0.004      0.996      -0.023       0.022\n",
            "L1.y5          0.9993      0.012     82.075      0.000       0.975       1.023\n",
            "L1.y6          0.0002      0.012      0.013      0.990      -0.024       0.024\n",
            "L1.y7          0.0001      0.011      0.012      0.990      -0.022       0.022\n",
            "L1.y8          0.0011      0.287      0.004      0.997      -0.562       0.564\n",
            "L1.y9          0.0017      0.193      0.009      0.993      -0.376       0.379\n",
            "L1.y10         0.0010      0.469      0.002      0.998      -0.917       0.919\n",
            "L1.y11        -0.0020      0.297     -0.007      0.995      -0.584       0.580\n",
            "L1.y12        -0.0013      0.092     -0.015      0.988      -0.183       0.180\n",
            "L1.y13         0.0007      0.102      0.006      0.995      -0.199       0.200\n",
            "                           Results for equation y6                            \n",
            "==============================================================================\n",
            "                 coef    std err          z      P>|z|      [0.025      0.975]\n",
            "------------------------------------------------------------------------------\n",
            "intercept      0.4304      0.110      3.905      0.000       0.214       0.646\n",
            "L1.y1          0.0185      0.007      2.506      0.012       0.004       0.033\n",
            "L1.y2          0.0086      0.012      0.718      0.473      -0.015       0.032\n",
            "L1.y3          0.0017      0.017      0.100      0.921      -0.032       0.035\n",
            "L1.y4          0.0158      0.008      1.975      0.048       0.000       0.032\n",
            "L1.y5         -0.0035      0.032     -0.107      0.915      -0.067       0.060\n",
            "L1.y6         -0.0062      0.011     -0.567      0.571      -0.028       0.015\n",
            "L1.y7         -0.0112      0.015     -0.723      0.469      -0.041       0.019\n",
            "L1.y8          0.3011      0.244      1.232      0.218      -0.178       0.780\n",
            "L1.y9          0.2580      0.141      1.834      0.067      -0.018       0.534\n",
            "L1.y10        -0.1804      0.344     -0.524      0.600      -0.855       0.494\n",
            "L1.y11        -0.3855      0.236     -1.632      0.103      -0.849       0.077\n",
            "L1.y12         0.1966      0.280      0.702      0.483      -0.353       0.746\n",
            "L1.y13        -0.0809      0.110     -0.735      0.462      -0.297       0.135\n",
            "                           Results for equation y7                            \n",
            "==============================================================================\n",
            "                 coef    std err          z      P>|z|      [0.025      0.975]\n",
            "------------------------------------------------------------------------------\n",
            "intercept      0.4630      0.108      4.303      0.000       0.252       0.674\n",
            "L1.y1          0.0093      0.007      1.423      0.155      -0.004       0.022\n",
            "L1.y2         -0.0105      0.010     -1.059      0.289      -0.030       0.009\n",
            "L1.y3         -0.0068      0.013     -0.533      0.594      -0.032       0.018\n",
            "L1.y4         -0.0259      0.007     -3.529      0.000      -0.040      -0.012\n",
            "L1.y5         -0.0022      0.019     -0.116      0.908      -0.039       0.035\n",
            "L1.y6          0.0043      0.008      0.509      0.610      -0.012       0.021\n",
            "L1.y7          0.0047      0.010      0.461      0.645      -0.015       0.025\n",
            "L1.y8          0.0758      0.254      0.298      0.765      -0.422       0.574\n",
            "L1.y9         -0.0181      0.141     -0.128      0.898      -0.295       0.258\n",
            "L1.y10         0.1650      0.336      0.491      0.623      -0.493       0.823\n",
            "L1.y11        -0.1137      0.243     -0.468      0.640      -0.590       0.362\n",
            "L1.y12        -0.2265      0.287     -0.788      0.431      -0.790       0.337\n",
            "L1.y13        -0.0316      0.102     -0.309      0.757      -0.232       0.168\n",
            "                           Results for equation y8                            \n",
            "==============================================================================\n",
            "                 coef    std err          z      P>|z|      [0.025      0.975]\n",
            "------------------------------------------------------------------------------\n",
            "intercept      0.0217      0.021      1.029      0.303      -0.020       0.063\n",
            "L1.y1         -0.0005      0.001     -0.571      0.568      -0.002       0.001\n",
            "L1.y2         -0.0007      0.002     -0.477      0.633      -0.004       0.002\n",
            "L1.y3          0.0018      0.002      0.919      0.358      -0.002       0.006\n",
            "L1.y4          0.0022      0.001      2.023      0.043    6.84e-05       0.004\n",
            "L1.y5         -0.0007      0.003     -0.193      0.847      -0.007       0.006\n",
            "L1.y6         -0.0010      0.001     -0.724      0.469      -0.004       0.002\n",
            "L1.y7         -0.0002      0.002     -0.110      0.912      -0.004       0.003\n",
            "L1.y8          0.0290      0.057      0.506      0.613      -0.083       0.141\n",
            "L1.y9          0.0313      0.035      0.885      0.376      -0.038       0.101\n",
            "L1.y10        -0.0142      0.065     -0.219      0.827      -0.142       0.113\n",
            "L1.y11        -0.0301      0.057     -0.531      0.595      -0.141       0.081\n",
            "L1.y12         0.0180      0.033      0.541      0.588      -0.047       0.083\n",
            "L1.y13         0.0007      0.018      0.037      0.971      -0.034       0.035\n",
            "                           Results for equation y9                            \n",
            "==============================================================================\n",
            "                 coef    std err          z      P>|z|      [0.025      0.975]\n",
            "------------------------------------------------------------------------------\n",
            "intercept      0.0170      0.023      0.750      0.453      -0.027       0.061\n",
            "L1.y1         -0.0006      0.001     -0.765      0.444      -0.002       0.001\n",
            "L1.y2         -0.0016      0.001     -1.549      0.121      -0.004       0.000\n",
            "L1.y3       6.202e-05      0.002      0.040      0.968      -0.003       0.003\n",
            "L1.y4         -0.0029      0.001     -3.749      0.000      -0.004      -0.001\n",
            "L1.y5          0.0030      0.003      0.999      0.318      -0.003       0.009\n",
            "L1.y6         -0.0002      0.001     -0.156      0.876      -0.002       0.002\n",
            "L1.y7       3.698e-05      0.001      0.026      0.979      -0.003       0.003\n",
            "L1.y8         -0.0206      0.041     -0.505      0.614      -0.100       0.059\n",
            "L1.y9         -0.0109      0.022     -0.494      0.621      -0.054       0.032\n",
            "L1.y10        -0.0296      0.070     -0.420      0.674      -0.168       0.109\n",
            "L1.y11         0.0175      0.040      0.442      0.659      -0.060       0.095\n",
            "L1.y12        -0.0067      0.036     -0.188      0.851      -0.076       0.063\n",
            "L1.y13         0.0046      0.012      0.377      0.707      -0.019       0.029\n",
            "                           Results for equation y10                           \n",
            "==============================================================================\n",
            "                 coef    std err          z      P>|z|      [0.025      0.975]\n",
            "------------------------------------------------------------------------------\n",
            "intercept      0.3233      0.011     28.342      0.000       0.301       0.346\n",
            "L1.y1      -3.142e-05      0.000     -0.070      0.944      -0.001       0.001\n",
            "L1.y2      -2.135e-05      0.001     -0.021      0.983      -0.002       0.002\n",
            "L1.y3          0.0004      0.002      0.205      0.837      -0.003       0.004\n",
            "L1.y4         -0.0009      0.000     -2.828      0.005      -0.002      -0.000\n",
            "L1.y5         -0.0010      0.004     -0.239      0.811      -0.009       0.007\n",
            "L1.y6         -0.0002      0.001     -0.189      0.850      -0.002       0.002\n",
            "L1.y7         -0.0001      0.002     -0.058      0.954      -0.004       0.003\n",
            "L1.y8          0.0073      0.031      0.235      0.814      -0.054       0.068\n",
            "L1.y9          0.0061      0.025      0.250      0.803      -0.042       0.054\n",
            "L1.y10         0.0060      0.034      0.176      0.860      -0.061       0.073\n",
            "L1.y11        -0.0056      0.034     -0.163      0.871      -0.073       0.062\n",
            "L1.y12         0.0049      0.024      0.206      0.837      -0.042       0.052\n",
            "L1.y13        -0.0039      0.005     -0.834      0.405      -0.013       0.005\n",
            "                           Results for equation y11                           \n",
            "==============================================================================\n",
            "                 coef    std err          z      P>|z|      [0.025      0.975]\n",
            "------------------------------------------------------------------------------\n",
            "intercept      0.0253      0.021      1.179      0.239      -0.017       0.067\n",
            "L1.y1         -0.0007      0.001     -0.686      0.492      -0.003       0.001\n",
            "L1.y2         -0.0017      0.002     -1.067      0.286      -0.005       0.001\n",
            "L1.y3          0.0025      0.002      1.209      0.227      -0.002       0.007\n",
            "L1.y4      -6.525e-05      0.001     -0.058      0.953      -0.002       0.002\n",
            "L1.y5         -0.0001      0.004     -0.038      0.969      -0.007       0.007\n",
            "L1.y6         -0.0015      0.001     -1.009      0.313      -0.004       0.001\n",
            "L1.y7         -0.0001      0.002     -0.065      0.948      -0.004       0.003\n",
            "L1.y8          0.0258      0.050      0.519      0.604      -0.072       0.123\n",
            "L1.y9          0.0324      0.026      1.248      0.212      -0.018       0.083\n",
            "L1.y10        -0.0212      0.067     -0.317      0.751      -0.152       0.110\n",
            "L1.y11        -0.0278      0.047     -0.589      0.556      -0.120       0.065\n",
            "L1.y12         0.0129      0.035      0.365      0.715      -0.056       0.082\n",
            "L1.y13        -0.0030      0.019     -0.159      0.873      -0.039       0.033\n",
            "                           Results for equation y12                           \n",
            "==============================================================================\n",
            "                 coef    std err          z      P>|z|      [0.025      0.975]\n",
            "------------------------------------------------------------------------------\n",
            "intercept      0.0092      0.011      0.858      0.391      -0.012       0.030\n",
            "L1.y1         -0.0006      0.000     -1.258      0.208      -0.002       0.000\n",
            "L1.y2          0.0002      0.001      0.217      0.828      -0.002       0.002\n",
            "L1.y3         -0.0005      0.002     -0.281      0.778      -0.004       0.003\n",
            "L1.y4         -0.0009      0.000     -1.830      0.067      -0.002    6.07e-05\n",
            "L1.y5         -0.0004      0.004     -0.085      0.932      -0.008       0.008\n",
            "L1.y6         -0.0001      0.001     -0.106      0.915      -0.002       0.002\n",
            "L1.y7         -0.0002      0.002     -0.085      0.932      -0.004       0.003\n",
            "L1.y8         -0.0225      0.029     -0.766      0.444      -0.080       0.035\n",
            "L1.y9         -0.0156      0.024     -0.644      0.520      -0.063       0.032\n",
            "L1.y10        -0.0164      0.032     -0.512      0.609      -0.079       0.046\n",
            "L1.y11         0.0209      0.033      0.639      0.523      -0.043       0.085\n",
            "L1.y12         0.0027      0.027      0.102      0.919      -0.049       0.055\n",
            "L1.y13         0.0073      0.004      1.755      0.079      -0.001       0.015\n",
            "                           Results for equation y13                           \n",
            "==============================================================================\n",
            "                 coef    std err          z      P>|z|      [0.025      0.975]\n",
            "------------------------------------------------------------------------------\n",
            "intercept      0.0264      0.019      1.386      0.166      -0.011       0.064\n",
            "L1.y1         -0.0009      0.001     -0.915      0.360      -0.003       0.001\n",
            "L1.y2         -0.0010      0.002     -0.685      0.493      -0.004       0.002\n",
            "L1.y3         -0.0015      0.002     -0.706      0.480      -0.006       0.003\n",
            "L1.y4         -0.0015      0.001     -1.472      0.141      -0.003       0.000\n",
            "L1.y5          0.0001      0.004      0.038      0.970      -0.008       0.008\n",
            "L1.y6          0.0014      0.001      0.979      0.328      -0.001       0.004\n",
            "L1.y7         -0.0002      0.002     -0.108      0.914      -0.004       0.003\n",
            "L1.y8         -0.0303      0.044     -0.690      0.490      -0.116       0.056\n",
            "L1.y9         -0.0300      0.029     -1.025      0.305      -0.087       0.027\n",
            "L1.y10        -0.0172      0.059     -0.294      0.769      -0.132       0.098\n",
            "L1.y11         0.0357      0.045      0.800      0.424      -0.052       0.123\n",
            "L1.y12         0.0206      0.040      0.515      0.607      -0.058       0.099\n",
            "L1.y13         0.0116      0.012      0.969      0.333      -0.012       0.035\n",
            "                              Error covariance matrix                               \n",
            "====================================================================================\n",
            "                       coef    std err          z      P>|z|      [0.025      0.975]\n",
            "------------------------------------------------------------------------------------\n",
            "sqrt.var.y1          0.3158      0.006     57.366      0.000       0.305       0.327\n",
            "sqrt.cov.y1.y2      -0.0127      0.011     -1.143      0.253      -0.035       0.009\n",
            "sqrt.var.y2          0.2845      0.011     24.919      0.000       0.262       0.307\n",
            "sqrt.cov.y1.y3      -0.0054      0.005     -1.029      0.304      -0.016       0.005\n",
            "sqrt.cov.y2.y3       0.1249      0.009     13.974      0.000       0.107       0.142\n",
            "sqrt.var.y3          0.1989      0.002    119.501      0.000       0.196       0.202\n",
            "sqrt.cov.y1.y4   -2.129e-05      0.009     -0.002      0.998      -0.018       0.018\n",
            "sqrt.cov.y2.y4    4.959e-05      0.010      0.005      0.996      -0.020       0.020\n",
            "sqrt.cov.y3.y4   -7.403e-06      0.009     -0.001      0.999      -0.018       0.018\n",
            "sqrt.var.y4          0.0036      0.000     24.108      0.000       0.003       0.004\n",
            "sqrt.cov.y1.y5    4.441e-05      0.028      0.002      0.999      -0.055       0.055\n",
            "sqrt.cov.y2.y5      -0.0002      0.031     -0.005      0.996      -0.061       0.060\n",
            "sqrt.cov.y3.y5    3.306e-05      0.028      0.001      0.999      -0.055       0.055\n",
            "sqrt.cov.y4.y5      -0.0108      0.022     -0.495      0.621      -0.054       0.032\n",
            "sqrt.var.y5          0.0033   9.18e-06    354.868      0.000       0.003       0.003\n",
            "sqrt.cov.y1.y6      -0.0146      0.005     -2.665      0.008      -0.025      -0.004\n",
            "sqrt.cov.y2.y6       0.1674      0.007     23.916      0.000       0.154       0.181\n",
            "sqrt.cov.y3.y6       0.0483      0.004     12.685      0.000       0.041       0.056\n",
            "sqrt.cov.y4.y6      -0.0008      0.199     -0.004      0.997      -0.391       0.390\n",
            "sqrt.cov.y5.y6      -0.0017      0.004     -0.454      0.650      -0.009       0.006\n",
            "sqrt.var.y6          0.2798      0.002    115.951      0.000       0.275       0.285\n",
            "sqrt.cov.y1.y7      -0.0040      0.005     -0.730      0.465      -0.015       0.007\n",
            "sqrt.cov.y2.y7       0.0307      0.007      4.153      0.000       0.016       0.045\n",
            "sqrt.cov.y3.y7       0.0095      0.004      2.385      0.017       0.002       0.017\n",
            "sqrt.cov.y4.y7       0.0013      0.306      0.004      0.996      -0.598       0.601\n",
            "sqrt.cov.y5.y7       0.0024      0.005      0.444      0.657      -0.008       0.013\n",
            "sqrt.cov.y6.y7      -0.0208      0.002     -9.492      0.000      -0.025      -0.017\n",
            "sqrt.var.y7          0.3020      0.002    124.278      0.000       0.297       0.307\n",
            "sqrt.cov.y1.y8       0.0034      0.000      7.286      0.000       0.003       0.004\n",
            "sqrt.cov.y2.y8      -0.0006      0.001     -0.653      0.514      -0.002       0.001\n",
            "sqrt.cov.y3.y8       0.0036      0.001      6.238      0.000       0.002       0.005\n",
            "sqrt.cov.y4.y8       0.0002      0.055      0.003      0.997      -0.107       0.107\n",
            "sqrt.cov.y5.y8      -0.0002      0.002     -0.141      0.888      -0.003       0.003\n",
            "sqrt.cov.y6.y8      -0.0007      0.000     -2.211      0.027      -0.001   -8.05e-05\n",
            "sqrt.cov.y7.y8       0.0006      0.000      2.010      0.044    1.53e-05       0.001\n",
            "sqrt.var.y8          0.0413   7.11e-05    580.347      0.000       0.041       0.041\n",
            "sqrt.cov.y1.y9       0.0004      0.000      0.894      0.372      -0.000       0.001\n",
            "sqrt.cov.y2.y9      -0.0015      0.001     -1.784      0.074      -0.003       0.000\n",
            "sqrt.cov.y3.y9       0.0009      0.000      3.076      0.002       0.000       0.001\n",
            "sqrt.cov.y4.y9   -6.908e-05      0.055     -0.001      0.999      -0.108       0.108\n",
            "sqrt.cov.y5.y9   -4.317e-05      0.001     -0.078      0.938      -0.001       0.001\n",
            "sqrt.cov.y6.y9   -3.965e-05      0.000     -0.197      0.844      -0.000       0.000\n",
            "sqrt.cov.y7.y9   -6.335e-05      0.000     -0.309      0.757      -0.000       0.000\n",
            "sqrt.cov.y8.y9       0.0012      0.000      8.290      0.000       0.001       0.001\n",
            "sqrt.var.y9          0.0290   3.23e-05    898.362      0.000       0.029       0.029\n",
            "sqrt.cov.y1.y10  -1.202e-05      0.000     -0.025      0.980      -0.001       0.001\n",
            "sqrt.cov.y2.y10    4.87e-05      0.001      0.045      0.964      -0.002       0.002\n",
            "sqrt.cov.y3.y10   8.769e-05      0.000      0.488      0.625      -0.000       0.000\n",
            "sqrt.cov.y4.y10   8.215e-07      0.078   1.05e-05      1.000      -0.153       0.153\n",
            "sqrt.cov.y5.y10   7.914e-05   7.83e-05      1.011      0.312   -7.43e-05       0.000\n",
            "sqrt.cov.y6.y10  -9.844e-05   7.95e-05     -1.239      0.216      -0.000    5.73e-05\n",
            "sqrt.cov.y7.y10     -0.0001   8.53e-05     -1.564      0.118      -0.000    3.38e-05\n",
            "sqrt.cov.y8.y10     -0.0008    3.8e-05    -21.667      0.000      -0.001      -0.001\n",
            "sqrt.cov.y9.y10   -5.57e-05   4.71e-05     -1.182      0.237      -0.000    3.67e-05\n",
            "sqrt.var.y10         0.0097   5.71e-06   1697.384      0.000       0.010       0.010\n",
            "sqrt.cov.y1.y11      0.0033      0.001      5.741      0.000       0.002       0.004\n",
            "sqrt.cov.y2.y11     -0.0007      0.001     -0.647      0.518      -0.003       0.001\n",
            "sqrt.cov.y3.y11      0.0036      0.001      7.185      0.000       0.003       0.005\n",
            "sqrt.cov.y4.y11      0.0001      0.067      0.002      0.999      -0.132       0.132\n",
            "sqrt.cov.y5.y11  -9.108e-05      0.001     -0.072      0.942      -0.003       0.002\n",
            "sqrt.cov.y6.y11     -0.0007      0.000     -2.196      0.028      -0.001   -7.68e-05\n",
            "sqrt.cov.y7.y11      0.0006      0.000      1.828      0.068   -4.17e-05       0.001\n",
            "sqrt.cov.y8.y11      0.0372      0.000    359.574      0.000       0.037       0.037\n",
            "sqrt.cov.y9.y11      0.0140   4.91e-05    284.766      0.000       0.014       0.014\n",
            "sqrt.cov.y10.y11     0.0092   3.77e-05    243.328      0.000       0.009       0.009\n",
            "sqrt.var.y11         0.0086   1.28e-05    671.541      0.000       0.009       0.009\n",
            "sqrt.cov.y1.y12     -0.0011      0.000     -2.439      0.015      -0.002      -0.000\n",
            "sqrt.cov.y2.y12     -0.0004      0.001     -0.374      0.709      -0.002       0.002\n",
            "sqrt.cov.y3.y12      0.0004      0.000      2.176      0.030    4.41e-05       0.001\n",
            "sqrt.cov.y4.y12  -3.193e-05      0.077     -0.000      1.000      -0.152       0.152\n",
            "sqrt.cov.y5.y12   2.626e-05      0.000      0.133      0.894      -0.000       0.000\n",
            "sqrt.cov.y6.y12   3.615e-05   9.82e-05      0.368      0.713      -0.000       0.000\n",
            "sqrt.cov.y7.y12   6.362e-06      0.000      0.063      0.949      -0.000       0.000\n",
            "sqrt.cov.y8.y12      0.0001      0.000      0.939      0.348      -0.000       0.000\n",
            "sqrt.cov.y9.y12      0.0004   6.61e-05      6.182      0.000       0.000       0.001\n",
            "sqrt.cov.y10.y12 -1.073e-06      0.000     -0.010      0.992      -0.000       0.000\n",
            "sqrt.cov.y11.y12    -0.0024   5.61e-05    -43.384      0.000      -0.003      -0.002\n",
            "sqrt.var.y12         0.0107   5.86e-06   1825.746      0.000       0.011       0.011\n",
            "sqrt.cov.y1.y13      0.0020      0.001      3.921      0.000       0.001       0.003\n",
            "sqrt.cov.y2.y13     -0.0036      0.001     -3.655      0.000      -0.006      -0.002\n",
            "sqrt.cov.y3.y13      0.0030      0.000      9.695      0.000       0.002       0.004\n",
            "sqrt.cov.y4.y13   4.482e-05      0.065      0.001      0.999      -0.128       0.128\n",
            "sqrt.cov.y5.y13     -0.0002      0.002     -0.106      0.916      -0.003       0.003\n",
            "sqrt.cov.y6.y13     -0.0005      0.000     -1.975      0.048      -0.001   -3.88e-06\n",
            "sqrt.cov.y7.y13     -0.0006      0.000     -2.016      0.044      -0.001   -1.56e-05\n",
            "sqrt.cov.y8.y13      0.0156      0.000     93.752      0.000       0.015       0.016\n",
            "sqrt.cov.y9.y13      0.0134   9.52e-05    140.907      0.000       0.013       0.014\n",
            "sqrt.cov.y10.y13     0.0025      0.000     20.105      0.000       0.002       0.003\n",
            "sqrt.cov.y11.y13    -0.0249   7.47e-05   -333.063      0.000      -0.025      -0.025\n",
            "sqrt.cov.y12.y13     0.0042   4.39e-05     95.487      0.000       0.004       0.004\n",
            "sqrt.var.y13         0.0227   2.59e-05    875.904      0.000       0.023       0.023\n",
            "====================================================================================\n",
            "\n",
            "Warnings:\n",
            "[1] Covariance matrix calculated using the outer product of gradients (complex-step).\n",
            "[2] Covariance matrix is singular or near-singular, with condition number 2.25e+18. Standard errors may be unstable.\n"
          ],
          "name": "stdout"
        }
      ]
    },
    {
      "cell_type": "code",
      "metadata": {
        "id": "1vDP_HWCk3Le"
      },
      "source": [
        "n_forecast = 12\n",
        "predict = fitted_model.get_prediction(start=len(X_train),end=len(X_train) + n_forecast-1)\n",
        "\n",
        "predictions=predict.predicted_mean"
      ],
      "execution_count": null,
      "outputs": []
    }
  ]
}